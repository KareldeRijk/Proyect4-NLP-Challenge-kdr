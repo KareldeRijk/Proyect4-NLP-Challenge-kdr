{
  "cells": [
    {
      "cell_type": "markdown",
      "source": [
        "##**Fake News Detection using** **NLP**\n",
        "The main objective is to develop and compare multiple models to accurately classify news as real or fake, with a focus on optimizing accuracy and F1-score."
      ],
      "metadata": {
        "id": "gAc8MqXlFeBa"
      },
      "id": "gAc8MqXlFeBa"
    },
    {
      "cell_type": "markdown",
      "source": [
        "\n",
        "# Project Workflow:\n",
        "Text Preprocessing: Cleaning and preparing the data using tokenization, stopword removal, and lemmatization.\n",
        "\n",
        "Feature Extraction: Converting text into numerical vectors using both CountVectorizer and TF-IDF Vectorizer.\n",
        "\n",
        "Model Development: Implemented and evaluated three different approaches:\n",
        "\n",
        "countVectorizer + Naive Bayes , TF-IDF + Random Forest, TF-IDF + Naive Bayes\n",
        "\n",
        "Model Evaluation: Compared all models using accuracy, confusion matrix, and F1-score to determine the most effective approach."
      ],
      "metadata": {
        "id": "78hsdrqIB1uP"
      },
      "id": "78hsdrqIB1uP"
    },
    {
      "cell_type": "markdown",
      "source": [
        "#Importing all required libraries"
      ],
      "metadata": {
        "id": "rd36K6_iRllE"
      },
      "id": "rd36K6_iRllE"
    },
    {
      "cell_type": "code",
      "execution_count": 1,
      "id": "8e4e2593",
      "metadata": {
        "colab": {
          "base_uri": "https://localhost:8080/"
        },
        "id": "8e4e2593",
        "outputId": "b8bac0ee-11c8-4499-fc48-e6c00a35f2cd"
      },
      "outputs": [
        {
          "output_type": "stream",
          "name": "stderr",
          "text": [
            "[nltk_data] Downloading package punkt to /root/nltk_data...\n",
            "[nltk_data]   Unzipping tokenizers/punkt.zip.\n",
            "[nltk_data] Downloading package stopwords to /root/nltk_data...\n",
            "[nltk_data]   Unzipping corpora/stopwords.zip.\n",
            "[nltk_data] Downloading package wordnet to /root/nltk_data...\n",
            "[nltk_data] Downloading package punkt_tab to /root/nltk_data...\n",
            "[nltk_data]   Unzipping tokenizers/punkt_tab.zip.\n"
          ]
        }
      ],
      "source": [
        "# Data handling\n",
        "import pandas as pd\n",
        "import numpy as np\n",
        "\n",
        "# Text preprocessing\n",
        "import re\n",
        "import string\n",
        "import nltk\n",
        "from nltk.tokenize import word_tokenize\n",
        "from nltk.corpus import stopwords\n",
        "from nltk.stem import WordNetLemmatizer\n",
        "nltk.download('punkt')\n",
        "nltk.download('stopwords')\n",
        "nltk.download('wordnet')\n",
        "nltk.download('punkt_tab')\n",
        "\n",
        "\n",
        "# Feature extraction\n",
        "from sklearn.feature_extraction.text import CountVectorizer, TfidfVectorizer\n",
        "\n",
        "# Machine learning models\n",
        "from sklearn.naive_bayes import MultinomialNB\n",
        "from sklearn.ensemble import RandomForestClassifier\n",
        "\n",
        "# Model evaluation\n",
        "from sklearn.model_selection import train_test_split\n",
        "from sklearn.metrics import accuracy_score, confusion_matrix, classification_report, f1_score\n",
        "\n",
        "# Optional - Visualization\n",
        "import matplotlib.pyplot as plt\n",
        "import seaborn as sns\n"
      ]
    },
    {
      "cell_type": "markdown",
      "source": [
        "#Reading the data"
      ],
      "metadata": {
        "id": "mLT7DW0yepxG"
      },
      "id": "mLT7DW0yepxG"
    },
    {
      "cell_type": "code",
      "execution_count": 2,
      "id": "ef5a2209",
      "metadata": {
        "id": "ef5a2209"
      },
      "outputs": [],
      "source": [
        "df = pd.read_csv(\"/content/training_data_lowercase.csv\",sep='\\t',header = None)\n",
        "df = df.rename(columns={0: 'label', 1: 'text'})"
      ]
    },
    {
      "cell_type": "code",
      "source": [
        "df.head()"
      ],
      "metadata": {
        "colab": {
          "base_uri": "https://localhost:8080/",
          "height": 206
        },
        "id": "h5iLnAMpOWWr",
        "outputId": "fa1794a8-135e-4a36-be25-2c7641bbc450"
      },
      "id": "h5iLnAMpOWWr",
      "execution_count": 3,
      "outputs": [
        {
          "output_type": "execute_result",
          "data": {
            "text/plain": [
              "   label                                               text\n",
              "0      0  donald trump sends out embarrassing new year‚s...\n",
              "1      0  drunk bragging trump staffer started russian c...\n",
              "2      0  sheriff david clarke becomes an internet joke ...\n",
              "3      0  trump is so obsessed he even has obama‚s name ...\n",
              "4      0  pope francis just called out donald trump duri..."
            ],
            "text/html": [
              "\n",
              "  <div id=\"df-5b27cf17-2905-4963-aef8-38396c032f9f\" class=\"colab-df-container\">\n",
              "    <div>\n",
              "<style scoped>\n",
              "    .dataframe tbody tr th:only-of-type {\n",
              "        vertical-align: middle;\n",
              "    }\n",
              "\n",
              "    .dataframe tbody tr th {\n",
              "        vertical-align: top;\n",
              "    }\n",
              "\n",
              "    .dataframe thead th {\n",
              "        text-align: right;\n",
              "    }\n",
              "</style>\n",
              "<table border=\"1\" class=\"dataframe\">\n",
              "  <thead>\n",
              "    <tr style=\"text-align: right;\">\n",
              "      <th></th>\n",
              "      <th>label</th>\n",
              "      <th>text</th>\n",
              "    </tr>\n",
              "  </thead>\n",
              "  <tbody>\n",
              "    <tr>\n",
              "      <th>0</th>\n",
              "      <td>0</td>\n",
              "      <td>donald trump sends out embarrassing new year‚s...</td>\n",
              "    </tr>\n",
              "    <tr>\n",
              "      <th>1</th>\n",
              "      <td>0</td>\n",
              "      <td>drunk bragging trump staffer started russian c...</td>\n",
              "    </tr>\n",
              "    <tr>\n",
              "      <th>2</th>\n",
              "      <td>0</td>\n",
              "      <td>sheriff david clarke becomes an internet joke ...</td>\n",
              "    </tr>\n",
              "    <tr>\n",
              "      <th>3</th>\n",
              "      <td>0</td>\n",
              "      <td>trump is so obsessed he even has obama‚s name ...</td>\n",
              "    </tr>\n",
              "    <tr>\n",
              "      <th>4</th>\n",
              "      <td>0</td>\n",
              "      <td>pope francis just called out donald trump duri...</td>\n",
              "    </tr>\n",
              "  </tbody>\n",
              "</table>\n",
              "</div>\n",
              "    <div class=\"colab-df-buttons\">\n",
              "\n",
              "  <div class=\"colab-df-container\">\n",
              "    <button class=\"colab-df-convert\" onclick=\"convertToInteractive('df-5b27cf17-2905-4963-aef8-38396c032f9f')\"\n",
              "            title=\"Convert this dataframe to an interactive table.\"\n",
              "            style=\"display:none;\">\n",
              "\n",
              "  <svg xmlns=\"http://www.w3.org/2000/svg\" height=\"24px\" viewBox=\"0 -960 960 960\">\n",
              "    <path d=\"M120-120v-720h720v720H120Zm60-500h600v-160H180v160Zm220 220h160v-160H400v160Zm0 220h160v-160H400v160ZM180-400h160v-160H180v160Zm440 0h160v-160H620v160ZM180-180h160v-160H180v160Zm440 0h160v-160H620v160Z\"/>\n",
              "  </svg>\n",
              "    </button>\n",
              "\n",
              "  <style>\n",
              "    .colab-df-container {\n",
              "      display:flex;\n",
              "      gap: 12px;\n",
              "    }\n",
              "\n",
              "    .colab-df-convert {\n",
              "      background-color: #E8F0FE;\n",
              "      border: none;\n",
              "      border-radius: 50%;\n",
              "      cursor: pointer;\n",
              "      display: none;\n",
              "      fill: #1967D2;\n",
              "      height: 32px;\n",
              "      padding: 0 0 0 0;\n",
              "      width: 32px;\n",
              "    }\n",
              "\n",
              "    .colab-df-convert:hover {\n",
              "      background-color: #E2EBFA;\n",
              "      box-shadow: 0px 1px 2px rgba(60, 64, 67, 0.3), 0px 1px 3px 1px rgba(60, 64, 67, 0.15);\n",
              "      fill: #174EA6;\n",
              "    }\n",
              "\n",
              "    .colab-df-buttons div {\n",
              "      margin-bottom: 4px;\n",
              "    }\n",
              "\n",
              "    [theme=dark] .colab-df-convert {\n",
              "      background-color: #3B4455;\n",
              "      fill: #D2E3FC;\n",
              "    }\n",
              "\n",
              "    [theme=dark] .colab-df-convert:hover {\n",
              "      background-color: #434B5C;\n",
              "      box-shadow: 0px 1px 3px 1px rgba(0, 0, 0, 0.15);\n",
              "      filter: drop-shadow(0px 1px 2px rgba(0, 0, 0, 0.3));\n",
              "      fill: #FFFFFF;\n",
              "    }\n",
              "  </style>\n",
              "\n",
              "    <script>\n",
              "      const buttonEl =\n",
              "        document.querySelector('#df-5b27cf17-2905-4963-aef8-38396c032f9f button.colab-df-convert');\n",
              "      buttonEl.style.display =\n",
              "        google.colab.kernel.accessAllowed ? 'block' : 'none';\n",
              "\n",
              "      async function convertToInteractive(key) {\n",
              "        const element = document.querySelector('#df-5b27cf17-2905-4963-aef8-38396c032f9f');\n",
              "        const dataTable =\n",
              "          await google.colab.kernel.invokeFunction('convertToInteractive',\n",
              "                                                    [key], {});\n",
              "        if (!dataTable) return;\n",
              "\n",
              "        const docLinkHtml = 'Like what you see? Visit the ' +\n",
              "          '<a target=\"_blank\" href=https://colab.research.google.com/notebooks/data_table.ipynb>data table notebook</a>'\n",
              "          + ' to learn more about interactive tables.';\n",
              "        element.innerHTML = '';\n",
              "        dataTable['output_type'] = 'display_data';\n",
              "        await google.colab.output.renderOutput(dataTable, element);\n",
              "        const docLink = document.createElement('div');\n",
              "        docLink.innerHTML = docLinkHtml;\n",
              "        element.appendChild(docLink);\n",
              "      }\n",
              "    </script>\n",
              "  </div>\n",
              "\n",
              "\n",
              "    <div id=\"df-f31d24c9-9326-4d87-8253-1a669fe1f1c3\">\n",
              "      <button class=\"colab-df-quickchart\" onclick=\"quickchart('df-f31d24c9-9326-4d87-8253-1a669fe1f1c3')\"\n",
              "                title=\"Suggest charts\"\n",
              "                style=\"display:none;\">\n",
              "\n",
              "<svg xmlns=\"http://www.w3.org/2000/svg\" height=\"24px\"viewBox=\"0 0 24 24\"\n",
              "     width=\"24px\">\n",
              "    <g>\n",
              "        <path d=\"M19 3H5c-1.1 0-2 .9-2 2v14c0 1.1.9 2 2 2h14c1.1 0 2-.9 2-2V5c0-1.1-.9-2-2-2zM9 17H7v-7h2v7zm4 0h-2V7h2v10zm4 0h-2v-4h2v4z\"/>\n",
              "    </g>\n",
              "</svg>\n",
              "      </button>\n",
              "\n",
              "<style>\n",
              "  .colab-df-quickchart {\n",
              "      --bg-color: #E8F0FE;\n",
              "      --fill-color: #1967D2;\n",
              "      --hover-bg-color: #E2EBFA;\n",
              "      --hover-fill-color: #174EA6;\n",
              "      --disabled-fill-color: #AAA;\n",
              "      --disabled-bg-color: #DDD;\n",
              "  }\n",
              "\n",
              "  [theme=dark] .colab-df-quickchart {\n",
              "      --bg-color: #3B4455;\n",
              "      --fill-color: #D2E3FC;\n",
              "      --hover-bg-color: #434B5C;\n",
              "      --hover-fill-color: #FFFFFF;\n",
              "      --disabled-bg-color: #3B4455;\n",
              "      --disabled-fill-color: #666;\n",
              "  }\n",
              "\n",
              "  .colab-df-quickchart {\n",
              "    background-color: var(--bg-color);\n",
              "    border: none;\n",
              "    border-radius: 50%;\n",
              "    cursor: pointer;\n",
              "    display: none;\n",
              "    fill: var(--fill-color);\n",
              "    height: 32px;\n",
              "    padding: 0;\n",
              "    width: 32px;\n",
              "  }\n",
              "\n",
              "  .colab-df-quickchart:hover {\n",
              "    background-color: var(--hover-bg-color);\n",
              "    box-shadow: 0 1px 2px rgba(60, 64, 67, 0.3), 0 1px 3px 1px rgba(60, 64, 67, 0.15);\n",
              "    fill: var(--button-hover-fill-color);\n",
              "  }\n",
              "\n",
              "  .colab-df-quickchart-complete:disabled,\n",
              "  .colab-df-quickchart-complete:disabled:hover {\n",
              "    background-color: var(--disabled-bg-color);\n",
              "    fill: var(--disabled-fill-color);\n",
              "    box-shadow: none;\n",
              "  }\n",
              "\n",
              "  .colab-df-spinner {\n",
              "    border: 2px solid var(--fill-color);\n",
              "    border-color: transparent;\n",
              "    border-bottom-color: var(--fill-color);\n",
              "    animation:\n",
              "      spin 1s steps(1) infinite;\n",
              "  }\n",
              "\n",
              "  @keyframes spin {\n",
              "    0% {\n",
              "      border-color: transparent;\n",
              "      border-bottom-color: var(--fill-color);\n",
              "      border-left-color: var(--fill-color);\n",
              "    }\n",
              "    20% {\n",
              "      border-color: transparent;\n",
              "      border-left-color: var(--fill-color);\n",
              "      border-top-color: var(--fill-color);\n",
              "    }\n",
              "    30% {\n",
              "      border-color: transparent;\n",
              "      border-left-color: var(--fill-color);\n",
              "      border-top-color: var(--fill-color);\n",
              "      border-right-color: var(--fill-color);\n",
              "    }\n",
              "    40% {\n",
              "      border-color: transparent;\n",
              "      border-right-color: var(--fill-color);\n",
              "      border-top-color: var(--fill-color);\n",
              "    }\n",
              "    60% {\n",
              "      border-color: transparent;\n",
              "      border-right-color: var(--fill-color);\n",
              "    }\n",
              "    80% {\n",
              "      border-color: transparent;\n",
              "      border-right-color: var(--fill-color);\n",
              "      border-bottom-color: var(--fill-color);\n",
              "    }\n",
              "    90% {\n",
              "      border-color: transparent;\n",
              "      border-bottom-color: var(--fill-color);\n",
              "    }\n",
              "  }\n",
              "</style>\n",
              "\n",
              "      <script>\n",
              "        async function quickchart(key) {\n",
              "          const quickchartButtonEl =\n",
              "            document.querySelector('#' + key + ' button');\n",
              "          quickchartButtonEl.disabled = true;  // To prevent multiple clicks.\n",
              "          quickchartButtonEl.classList.add('colab-df-spinner');\n",
              "          try {\n",
              "            const charts = await google.colab.kernel.invokeFunction(\n",
              "                'suggestCharts', [key], {});\n",
              "          } catch (error) {\n",
              "            console.error('Error during call to suggestCharts:', error);\n",
              "          }\n",
              "          quickchartButtonEl.classList.remove('colab-df-spinner');\n",
              "          quickchartButtonEl.classList.add('colab-df-quickchart-complete');\n",
              "        }\n",
              "        (() => {\n",
              "          let quickchartButtonEl =\n",
              "            document.querySelector('#df-f31d24c9-9326-4d87-8253-1a669fe1f1c3 button');\n",
              "          quickchartButtonEl.style.display =\n",
              "            google.colab.kernel.accessAllowed ? 'block' : 'none';\n",
              "        })();\n",
              "      </script>\n",
              "    </div>\n",
              "\n",
              "    </div>\n",
              "  </div>\n"
            ],
            "application/vnd.google.colaboratory.intrinsic+json": {
              "type": "dataframe",
              "variable_name": "df",
              "summary": "{\n  \"name\": \"df\",\n  \"rows\": 34152,\n  \"fields\": [\n    {\n      \"column\": \"label\",\n      \"properties\": {\n        \"dtype\": \"number\",\n        \"std\": 0,\n        \"min\": 0,\n        \"max\": 1,\n        \"num_unique_values\": 2,\n        \"samples\": [\n          1,\n          0\n        ],\n        \"semantic_type\": \"\",\n        \"description\": \"\"\n      }\n    },\n    {\n      \"column\": \"text\",\n      \"properties\": {\n        \"dtype\": \"string\",\n        \"num_unique_values\": 32206,\n        \"samples\": [\n          \"swiss to return $321 million in stolen funds to nigeria\",\n          \"it\\u201as official! the fbi confirms cia\\u201as findings on russian hackings\"\n        ],\n        \"semantic_type\": \"\",\n        \"description\": \"\"\n      }\n    }\n  ]\n}"
            }
          },
          "metadata": {},
          "execution_count": 3
        }
      ]
    },
    {
      "cell_type": "markdown",
      "source": [
        "#Preprocessing on data\n",
        "\n"
      ],
      "metadata": {
        "id": "MwcqQhA1i0r8"
      },
      "id": "MwcqQhA1i0r8"
    },
    {
      "cell_type": "code",
      "source": [
        "df[\"label\"].value_counts() #It seems classes are balanced"
      ],
      "metadata": {
        "colab": {
          "base_uri": "https://localhost:8080/",
          "height": 178
        },
        "id": "NZc_9iyXdZvw",
        "outputId": "6bf3f24b-9f8d-4872-e890-55ef8c914220"
      },
      "id": "NZc_9iyXdZvw",
      "execution_count": 4,
      "outputs": [
        {
          "output_type": "execute_result",
          "data": {
            "text/plain": [
              "label\n",
              "0    17572\n",
              "1    16580\n",
              "Name: count, dtype: int64"
            ],
            "text/html": [
              "<div>\n",
              "<style scoped>\n",
              "    .dataframe tbody tr th:only-of-type {\n",
              "        vertical-align: middle;\n",
              "    }\n",
              "\n",
              "    .dataframe tbody tr th {\n",
              "        vertical-align: top;\n",
              "    }\n",
              "\n",
              "    .dataframe thead th {\n",
              "        text-align: right;\n",
              "    }\n",
              "</style>\n",
              "<table border=\"1\" class=\"dataframe\">\n",
              "  <thead>\n",
              "    <tr style=\"text-align: right;\">\n",
              "      <th></th>\n",
              "      <th>count</th>\n",
              "    </tr>\n",
              "    <tr>\n",
              "      <th>label</th>\n",
              "      <th></th>\n",
              "    </tr>\n",
              "  </thead>\n",
              "  <tbody>\n",
              "    <tr>\n",
              "      <th>0</th>\n",
              "      <td>17572</td>\n",
              "    </tr>\n",
              "    <tr>\n",
              "      <th>1</th>\n",
              "      <td>16580</td>\n",
              "    </tr>\n",
              "  </tbody>\n",
              "</table>\n",
              "</div><br><label><b>dtype:</b> int64</label>"
            ]
          },
          "metadata": {},
          "execution_count": 4
        }
      ]
    },
    {
      "cell_type": "markdown",
      "source": [
        "Checking for nulls in the dataset"
      ],
      "metadata": {
        "id": "FIcTe-xNkOUT"
      },
      "id": "FIcTe-xNkOUT"
    },
    {
      "cell_type": "code",
      "source": [
        "df.isnull().sum() # there is no null value"
      ],
      "metadata": {
        "colab": {
          "base_uri": "https://localhost:8080/",
          "height": 147
        },
        "id": "uygkyRfekBiT",
        "outputId": "82ac97d1-11f5-4935-eab9-ab8ba91de88e"
      },
      "id": "uygkyRfekBiT",
      "execution_count": 5,
      "outputs": [
        {
          "output_type": "execute_result",
          "data": {
            "text/plain": [
              "label    0\n",
              "text     0\n",
              "dtype: int64"
            ],
            "text/html": [
              "<div>\n",
              "<style scoped>\n",
              "    .dataframe tbody tr th:only-of-type {\n",
              "        vertical-align: middle;\n",
              "    }\n",
              "\n",
              "    .dataframe tbody tr th {\n",
              "        vertical-align: top;\n",
              "    }\n",
              "\n",
              "    .dataframe thead th {\n",
              "        text-align: right;\n",
              "    }\n",
              "</style>\n",
              "<table border=\"1\" class=\"dataframe\">\n",
              "  <thead>\n",
              "    <tr style=\"text-align: right;\">\n",
              "      <th></th>\n",
              "      <th>0</th>\n",
              "    </tr>\n",
              "  </thead>\n",
              "  <tbody>\n",
              "    <tr>\n",
              "      <th>label</th>\n",
              "      <td>0</td>\n",
              "    </tr>\n",
              "    <tr>\n",
              "      <th>text</th>\n",
              "      <td>0</td>\n",
              "    </tr>\n",
              "  </tbody>\n",
              "</table>\n",
              "</div><br><label><b>dtype:</b> int64</label>"
            ]
          },
          "metadata": {},
          "execution_count": 5
        }
      ]
    },
    {
      "cell_type": "markdown",
      "source": [
        "Function for all data cleaning\n",
        "             \n",
        "\n"
      ],
      "metadata": {
        "id": "NxLAhh8pmpp7"
      },
      "id": "NxLAhh8pmpp7"
    },
    {
      "cell_type": "markdown",
      "source": [
        "### Text Preprocessing Pipeline Summary\n",
        "\n",
        "This function prepares raw text data for NLP tasks like classification:\n",
        "\n",
        "- **Tokenization**: Splits text into individual words.\n",
        "- **Stopword Removal**: Removes common, less informative words like \"the\", \"is\", etc.\n",
        "- **Punctuation & Number Removal**: Keeps only alphabetic characters to avoid noise.\n",
        "- **Lemmatization**: Converts words to their root form (e.g., \"running\" → \"run\").\n",
        "\n",
        "➡ This standardizes the text, reduces noise, and improves the performance of models like Naive Bayes and Random Forest by focusing on meaningful words.\n"
      ],
      "metadata": {
        "id": "cWl-Mn56VkcZ"
      },
      "id": "cWl-Mn56VkcZ"
    },
    {
      "cell_type": "code",
      "source": [
        "# Download required resources\n",
        "def text_preprocessing_pipeline(text):\n",
        "    # Step 1: Tokenize the text\n",
        "    tokens = word_tokenize(text)\n",
        "\n",
        "    # Step 2: Remove stopwords\n",
        "    stop_words = set(stopwords.words('english'))\n",
        "    tokens = [word.lower() for word in tokens if word.lower() not in stop_words]\n",
        "\n",
        "\n",
        "    # Step 3: Remove punctuation and numbers\n",
        "    tokens = [re.sub(r'[^a-zA-Z]', '', word) for word in tokens]  # Keep only letters\n",
        "    tokens = [word for word in tokens if word]  # Remove empty strings\n",
        "\n",
        "    # Step 4: Lemmatization\n",
        "    lemmatizer = WordNetLemmatizer()\n",
        "    lemmatized_tokens = [lemmatizer.lemmatize(word) for word in tokens]\n",
        "\n",
        "    return ' '.join(lemmatized_tokens)"
      ],
      "metadata": {
        "id": "_9GOPWXBkSdj"
      },
      "id": "_9GOPWXBkSdj",
      "execution_count": 6,
      "outputs": []
    },
    {
      "cell_type": "code",
      "source": [
        "df['clean_text'] = df['text'].apply(text_preprocessing_pipeline)\n"
      ],
      "metadata": {
        "id": "hV-QvTlhmzyH"
      },
      "id": "hV-QvTlhmzyH",
      "execution_count": 7,
      "outputs": []
    },
    {
      "cell_type": "code",
      "source": [
        "df['clean_text'][0]"
      ],
      "metadata": {
        "colab": {
          "base_uri": "https://localhost:8080/",
          "height": 122
        },
        "id": "hxIdGw2tWI_f",
        "outputId": "29bea8dc-23b5-4801-8917-5f144371774e"
      },
      "id": "hxIdGw2tWI_f",
      "execution_count": null,
      "outputs": [
        {
          "output_type": "execute_result",
          "data": {
            "text/plain": [
              "'washington reuters the head conservative republican faction u congress voted month huge expansion national debt pay tax cut called fiscal conservative sunday urged budget restraint in keeping sharp pivot way among republican u representative mark meadow speaking cbs face nation drew hard line federal spending lawmaker bracing battle january when return holiday wednesday lawmaker begin trying pas federal budget fight likely linked issue immigration policy even november congressional election campaign approach republican seek keep control congress president donald trump republican want big budget increase military spending democrat also want proportional increase nondefense discretionary spending program support education scientific research infrastructure public health environmental protection the trump administration already willing say we going increase nondefense discretionary spending percent meadow chairman small influential house freedom caucus said program now democrat saying enough need give government pay raise percent for fiscal conservative i see rationale eventually run people money said meadow among republican voted late december party debtfinanced tax overhaul expected balloon federal budget deficit add trillion year trillion national debt it interesting hear mark talk fiscal responsibility democratic u representative joseph crowley said cbs crowley said republican tax bill would require united state borrow trillion paid future generation finance tax cut corporation rich this one least fiscally responsible bill ever seen passed history house representative i think going paying many many year come crowley said republican insist tax package biggest u tax overhaul year boost economy job growth house speaker paul ryan also supported tax bill recently went meadow making clear radio interview welfare entitlement reform party often call would top republican priority in republican parlance entitlement program mean food stamp housing assistance medicare medicaid health insurance elderly poor disabled well program created washington assist needy democrat seized ryan early december remark saying showed republican would try pay tax overhaul seeking spending cut social program but goal house republican may take back seat senate vote democrat needed approve budget prevent government shutdown democrat use leverage senate republican narrowly control defend discretionary nondefense program social spending tackling issue dreamer people brought illegally country child trump september put march expiration date deferred action childhood arrival daca program protects young immigrant deportation provides work permit the president said recent twitter message want funding proposed mexican border wall immigration law change exchange agreeing help dreamer representative debbie dingell told cbs favor linking issue policy objective wall funding we need daca clean said on wednesday trump aide meet congressional leader discus issue that followed weekend strategy session trump republican leader jan white house said trump also scheduled meet sunday florida republican governor rick scott want emergency aid the house passed billion aid package hurricane florida texas puerto rico wildfire california the package far exceeded billion requested trump administration the senate yet voted aid'"
            ],
            "application/vnd.google.colaboratory.intrinsic+json": {
              "type": "string"
            }
          },
          "metadata": {},
          "execution_count": 20
        }
      ]
    },
    {
      "cell_type": "code",
      "source": [
        "df['clean_text'][39937]"
      ],
      "metadata": {
        "colab": {
          "base_uri": "https://localhost:8080/",
          "height": 122
        },
        "id": "zJngC_6LWin9",
        "outputId": "ac394ed2-e320-462d-a0bc-00f062cae3f7"
      },
      "id": "zJngC_6LWin9",
      "execution_count": null,
      "outputs": [
        {
          "output_type": "execute_result",
          "data": {
            "text/plain": [
              "'the left organizing decade george soros funding from chaos occupy wall street black life matter wherever chaos anarchy america george soros democrat party usually behind there report several year voter fraud effort suggested george soros involved this another example involvement scheme effect result election america using vast global network a new campaign touted october surprise end trump seeking mobilise secret swing state million mostly unregistered global citizen progressive american living abroad vote u electionthe million american abroad almost never vote this dead easy tool fix make famous http tcozllekdub avaaz avaaz september the initiative launched london united kingdom wednesday avaaz registered u charity one world largest powerful activist group linked globalist billionaire george soros campaigner toured university college london parliament blasting bruce springsteen born usa chanting don vote trump open top buswhile illegal registered u charity work presidential candidate spokeswoman avaaz denied connection hillary campaign quizzed campaigner avaaz however recorded shouting vote hillary demonstrationa huge per cent american living abroad register vote last presidential election avaaz point massive untapped voting block much likely progressive per cent u uk master degree overwhelmingly donated democratic candidate last three presidential primariesdoes anybody really believe get vote effort register legal american citizen this effort fraud written and little month go general election manpower pour new incoming registration going come if i know better i think george soros hillary planned overwhelm system last minute foreign vote properly vetted election kinda like muslim refugee the view top avaaz stop trump battle bus london american music balloon flag chanting lbc pictwittercomslstfdqti rachael venables rachaelvenables september avaaz created world first global citizen getoutthevote drive m alexander added the people share facebook american abroad see able stop global threat trump the group chose london launch uk largest concentration u expat outside north america event several american registered vote medium prove easy avaaz new tool for month world sat sideline horrified trump hate now global citizen way fight back emma rubysachs deputy director avaaz addedthe charity website encourages people email potential u voter country giving template read million american abroad could defeat trump vote i wanted make sure saw new overseas registration tool make voting deadeasy it literally take minute their effort stop uk also putting call mexican register vote who checking validity million vote coming last minute from register vote hillary campaign mexico million american mexico stop trump s wall gringosavotar campaign kick sun mexico city http tcoqfjjjkd pictwittercomtvcescy avaaz avaaz september english over million u citizen live mexico participation election key stopping trump beautiful wall this sunday meeting angel de la independencia paseo de la rom heart mexico city spread word register u voter sitethere music great people medium come take picture front massive artistic model trump wall say gringosavotar united trump rsvp share widely friendsif u passport holder want register vote site make sure bring scanned copy passport u voter mexico also register directly wwwavaazorggringosavotarsomething tell johnny cash alive today would approve clown using music promote destruction america foreign land via breitbart news'"
            ],
            "application/vnd.google.colaboratory.intrinsic+json": {
              "type": "string"
            }
          },
          "metadata": {},
          "execution_count": 22
        }
      ]
    },
    {
      "cell_type": "code",
      "source": [
        "df"
      ],
      "metadata": {
        "colab": {
          "base_uri": "https://localhost:8080/",
          "height": 424
        },
        "id": "2VECwQhapNz5",
        "outputId": "e0a4f918-a88a-4501-9400-4658a77ab03a"
      },
      "id": "2VECwQhapNz5",
      "execution_count": 8,
      "outputs": [
        {
          "output_type": "execute_result",
          "data": {
            "text/plain": [
              "       label                                               text  \\\n",
              "0          0  donald trump sends out embarrassing new year‚s...   \n",
              "1          0  drunk bragging trump staffer started russian c...   \n",
              "2          0  sheriff david clarke becomes an internet joke ...   \n",
              "3          0  trump is so obsessed he even has obama‚s name ...   \n",
              "4          0  pope francis just called out donald trump duri...   \n",
              "...      ...                                                ...   \n",
              "34147      1  tears in rain as thais gather for late king's ...   \n",
              "34148      1  pyongyang university needs non-u.s. teachers a...   \n",
              "34149      1  philippine president duterte to visit japan ah...   \n",
              "34150      1  japan's abe may have won election\\tbut many do...   \n",
              "34151      1  demoralized and divided: inside catalonia's po...   \n",
              "\n",
              "                                              clean_text  \n",
              "0      donald trump sends embarrassing new year eve m...  \n",
              "1      drunk bragging trump staffer started russian c...  \n",
              "2      sheriff david clarke becomes internet joke thr...  \n",
              "3      trump obsessed even obamas name coded website ...  \n",
              "4      pope francis called donald trump christmas speech  \n",
              "...                                                  ...  \n",
              "34147          tear rain thai gather late king s funeral  \n",
              "34148  pyongyang university need nonus teacher travel...  \n",
              "34149  philippine president duterte visit japan ahead...  \n",
              "34150           japan s abe may election many nt want pm  \n",
              "34151  demoralized divided inside catalonia s police ...  \n",
              "\n",
              "[34152 rows x 3 columns]"
            ],
            "text/html": [
              "\n",
              "  <div id=\"df-49a5b052-c025-4635-a80d-288010a66ec1\" class=\"colab-df-container\">\n",
              "    <div>\n",
              "<style scoped>\n",
              "    .dataframe tbody tr th:only-of-type {\n",
              "        vertical-align: middle;\n",
              "    }\n",
              "\n",
              "    .dataframe tbody tr th {\n",
              "        vertical-align: top;\n",
              "    }\n",
              "\n",
              "    .dataframe thead th {\n",
              "        text-align: right;\n",
              "    }\n",
              "</style>\n",
              "<table border=\"1\" class=\"dataframe\">\n",
              "  <thead>\n",
              "    <tr style=\"text-align: right;\">\n",
              "      <th></th>\n",
              "      <th>label</th>\n",
              "      <th>text</th>\n",
              "      <th>clean_text</th>\n",
              "    </tr>\n",
              "  </thead>\n",
              "  <tbody>\n",
              "    <tr>\n",
              "      <th>0</th>\n",
              "      <td>0</td>\n",
              "      <td>donald trump sends out embarrassing new year‚s...</td>\n",
              "      <td>donald trump sends embarrassing new year eve m...</td>\n",
              "    </tr>\n",
              "    <tr>\n",
              "      <th>1</th>\n",
              "      <td>0</td>\n",
              "      <td>drunk bragging trump staffer started russian c...</td>\n",
              "      <td>drunk bragging trump staffer started russian c...</td>\n",
              "    </tr>\n",
              "    <tr>\n",
              "      <th>2</th>\n",
              "      <td>0</td>\n",
              "      <td>sheriff david clarke becomes an internet joke ...</td>\n",
              "      <td>sheriff david clarke becomes internet joke thr...</td>\n",
              "    </tr>\n",
              "    <tr>\n",
              "      <th>3</th>\n",
              "      <td>0</td>\n",
              "      <td>trump is so obsessed he even has obama‚s name ...</td>\n",
              "      <td>trump obsessed even obamas name coded website ...</td>\n",
              "    </tr>\n",
              "    <tr>\n",
              "      <th>4</th>\n",
              "      <td>0</td>\n",
              "      <td>pope francis just called out donald trump duri...</td>\n",
              "      <td>pope francis called donald trump christmas speech</td>\n",
              "    </tr>\n",
              "    <tr>\n",
              "      <th>...</th>\n",
              "      <td>...</td>\n",
              "      <td>...</td>\n",
              "      <td>...</td>\n",
              "    </tr>\n",
              "    <tr>\n",
              "      <th>34147</th>\n",
              "      <td>1</td>\n",
              "      <td>tears in rain as thais gather for late king's ...</td>\n",
              "      <td>tear rain thai gather late king s funeral</td>\n",
              "    </tr>\n",
              "    <tr>\n",
              "      <th>34148</th>\n",
              "      <td>1</td>\n",
              "      <td>pyongyang university needs non-u.s. teachers a...</td>\n",
              "      <td>pyongyang university need nonus teacher travel...</td>\n",
              "    </tr>\n",
              "    <tr>\n",
              "      <th>34149</th>\n",
              "      <td>1</td>\n",
              "      <td>philippine president duterte to visit japan ah...</td>\n",
              "      <td>philippine president duterte visit japan ahead...</td>\n",
              "    </tr>\n",
              "    <tr>\n",
              "      <th>34150</th>\n",
              "      <td>1</td>\n",
              "      <td>japan's abe may have won election\\tbut many do...</td>\n",
              "      <td>japan s abe may election many nt want pm</td>\n",
              "    </tr>\n",
              "    <tr>\n",
              "      <th>34151</th>\n",
              "      <td>1</td>\n",
              "      <td>demoralized and divided: inside catalonia's po...</td>\n",
              "      <td>demoralized divided inside catalonia s police ...</td>\n",
              "    </tr>\n",
              "  </tbody>\n",
              "</table>\n",
              "<p>34152 rows × 3 columns</p>\n",
              "</div>\n",
              "    <div class=\"colab-df-buttons\">\n",
              "\n",
              "  <div class=\"colab-df-container\">\n",
              "    <button class=\"colab-df-convert\" onclick=\"convertToInteractive('df-49a5b052-c025-4635-a80d-288010a66ec1')\"\n",
              "            title=\"Convert this dataframe to an interactive table.\"\n",
              "            style=\"display:none;\">\n",
              "\n",
              "  <svg xmlns=\"http://www.w3.org/2000/svg\" height=\"24px\" viewBox=\"0 -960 960 960\">\n",
              "    <path d=\"M120-120v-720h720v720H120Zm60-500h600v-160H180v160Zm220 220h160v-160H400v160Zm0 220h160v-160H400v160ZM180-400h160v-160H180v160Zm440 0h160v-160H620v160ZM180-180h160v-160H180v160Zm440 0h160v-160H620v160Z\"/>\n",
              "  </svg>\n",
              "    </button>\n",
              "\n",
              "  <style>\n",
              "    .colab-df-container {\n",
              "      display:flex;\n",
              "      gap: 12px;\n",
              "    }\n",
              "\n",
              "    .colab-df-convert {\n",
              "      background-color: #E8F0FE;\n",
              "      border: none;\n",
              "      border-radius: 50%;\n",
              "      cursor: pointer;\n",
              "      display: none;\n",
              "      fill: #1967D2;\n",
              "      height: 32px;\n",
              "      padding: 0 0 0 0;\n",
              "      width: 32px;\n",
              "    }\n",
              "\n",
              "    .colab-df-convert:hover {\n",
              "      background-color: #E2EBFA;\n",
              "      box-shadow: 0px 1px 2px rgba(60, 64, 67, 0.3), 0px 1px 3px 1px rgba(60, 64, 67, 0.15);\n",
              "      fill: #174EA6;\n",
              "    }\n",
              "\n",
              "    .colab-df-buttons div {\n",
              "      margin-bottom: 4px;\n",
              "    }\n",
              "\n",
              "    [theme=dark] .colab-df-convert {\n",
              "      background-color: #3B4455;\n",
              "      fill: #D2E3FC;\n",
              "    }\n",
              "\n",
              "    [theme=dark] .colab-df-convert:hover {\n",
              "      background-color: #434B5C;\n",
              "      box-shadow: 0px 1px 3px 1px rgba(0, 0, 0, 0.15);\n",
              "      filter: drop-shadow(0px 1px 2px rgba(0, 0, 0, 0.3));\n",
              "      fill: #FFFFFF;\n",
              "    }\n",
              "  </style>\n",
              "\n",
              "    <script>\n",
              "      const buttonEl =\n",
              "        document.querySelector('#df-49a5b052-c025-4635-a80d-288010a66ec1 button.colab-df-convert');\n",
              "      buttonEl.style.display =\n",
              "        google.colab.kernel.accessAllowed ? 'block' : 'none';\n",
              "\n",
              "      async function convertToInteractive(key) {\n",
              "        const element = document.querySelector('#df-49a5b052-c025-4635-a80d-288010a66ec1');\n",
              "        const dataTable =\n",
              "          await google.colab.kernel.invokeFunction('convertToInteractive',\n",
              "                                                    [key], {});\n",
              "        if (!dataTable) return;\n",
              "\n",
              "        const docLinkHtml = 'Like what you see? Visit the ' +\n",
              "          '<a target=\"_blank\" href=https://colab.research.google.com/notebooks/data_table.ipynb>data table notebook</a>'\n",
              "          + ' to learn more about interactive tables.';\n",
              "        element.innerHTML = '';\n",
              "        dataTable['output_type'] = 'display_data';\n",
              "        await google.colab.output.renderOutput(dataTable, element);\n",
              "        const docLink = document.createElement('div');\n",
              "        docLink.innerHTML = docLinkHtml;\n",
              "        element.appendChild(docLink);\n",
              "      }\n",
              "    </script>\n",
              "  </div>\n",
              "\n",
              "\n",
              "    <div id=\"df-0fab3aa7-0327-4add-8bc5-b0342a8497f9\">\n",
              "      <button class=\"colab-df-quickchart\" onclick=\"quickchart('df-0fab3aa7-0327-4add-8bc5-b0342a8497f9')\"\n",
              "                title=\"Suggest charts\"\n",
              "                style=\"display:none;\">\n",
              "\n",
              "<svg xmlns=\"http://www.w3.org/2000/svg\" height=\"24px\"viewBox=\"0 0 24 24\"\n",
              "     width=\"24px\">\n",
              "    <g>\n",
              "        <path d=\"M19 3H5c-1.1 0-2 .9-2 2v14c0 1.1.9 2 2 2h14c1.1 0 2-.9 2-2V5c0-1.1-.9-2-2-2zM9 17H7v-7h2v7zm4 0h-2V7h2v10zm4 0h-2v-4h2v4z\"/>\n",
              "    </g>\n",
              "</svg>\n",
              "      </button>\n",
              "\n",
              "<style>\n",
              "  .colab-df-quickchart {\n",
              "      --bg-color: #E8F0FE;\n",
              "      --fill-color: #1967D2;\n",
              "      --hover-bg-color: #E2EBFA;\n",
              "      --hover-fill-color: #174EA6;\n",
              "      --disabled-fill-color: #AAA;\n",
              "      --disabled-bg-color: #DDD;\n",
              "  }\n",
              "\n",
              "  [theme=dark] .colab-df-quickchart {\n",
              "      --bg-color: #3B4455;\n",
              "      --fill-color: #D2E3FC;\n",
              "      --hover-bg-color: #434B5C;\n",
              "      --hover-fill-color: #FFFFFF;\n",
              "      --disabled-bg-color: #3B4455;\n",
              "      --disabled-fill-color: #666;\n",
              "  }\n",
              "\n",
              "  .colab-df-quickchart {\n",
              "    background-color: var(--bg-color);\n",
              "    border: none;\n",
              "    border-radius: 50%;\n",
              "    cursor: pointer;\n",
              "    display: none;\n",
              "    fill: var(--fill-color);\n",
              "    height: 32px;\n",
              "    padding: 0;\n",
              "    width: 32px;\n",
              "  }\n",
              "\n",
              "  .colab-df-quickchart:hover {\n",
              "    background-color: var(--hover-bg-color);\n",
              "    box-shadow: 0 1px 2px rgba(60, 64, 67, 0.3), 0 1px 3px 1px rgba(60, 64, 67, 0.15);\n",
              "    fill: var(--button-hover-fill-color);\n",
              "  }\n",
              "\n",
              "  .colab-df-quickchart-complete:disabled,\n",
              "  .colab-df-quickchart-complete:disabled:hover {\n",
              "    background-color: var(--disabled-bg-color);\n",
              "    fill: var(--disabled-fill-color);\n",
              "    box-shadow: none;\n",
              "  }\n",
              "\n",
              "  .colab-df-spinner {\n",
              "    border: 2px solid var(--fill-color);\n",
              "    border-color: transparent;\n",
              "    border-bottom-color: var(--fill-color);\n",
              "    animation:\n",
              "      spin 1s steps(1) infinite;\n",
              "  }\n",
              "\n",
              "  @keyframes spin {\n",
              "    0% {\n",
              "      border-color: transparent;\n",
              "      border-bottom-color: var(--fill-color);\n",
              "      border-left-color: var(--fill-color);\n",
              "    }\n",
              "    20% {\n",
              "      border-color: transparent;\n",
              "      border-left-color: var(--fill-color);\n",
              "      border-top-color: var(--fill-color);\n",
              "    }\n",
              "    30% {\n",
              "      border-color: transparent;\n",
              "      border-left-color: var(--fill-color);\n",
              "      border-top-color: var(--fill-color);\n",
              "      border-right-color: var(--fill-color);\n",
              "    }\n",
              "    40% {\n",
              "      border-color: transparent;\n",
              "      border-right-color: var(--fill-color);\n",
              "      border-top-color: var(--fill-color);\n",
              "    }\n",
              "    60% {\n",
              "      border-color: transparent;\n",
              "      border-right-color: var(--fill-color);\n",
              "    }\n",
              "    80% {\n",
              "      border-color: transparent;\n",
              "      border-right-color: var(--fill-color);\n",
              "      border-bottom-color: var(--fill-color);\n",
              "    }\n",
              "    90% {\n",
              "      border-color: transparent;\n",
              "      border-bottom-color: var(--fill-color);\n",
              "    }\n",
              "  }\n",
              "</style>\n",
              "\n",
              "      <script>\n",
              "        async function quickchart(key) {\n",
              "          const quickchartButtonEl =\n",
              "            document.querySelector('#' + key + ' button');\n",
              "          quickchartButtonEl.disabled = true;  // To prevent multiple clicks.\n",
              "          quickchartButtonEl.classList.add('colab-df-spinner');\n",
              "          try {\n",
              "            const charts = await google.colab.kernel.invokeFunction(\n",
              "                'suggestCharts', [key], {});\n",
              "          } catch (error) {\n",
              "            console.error('Error during call to suggestCharts:', error);\n",
              "          }\n",
              "          quickchartButtonEl.classList.remove('colab-df-spinner');\n",
              "          quickchartButtonEl.classList.add('colab-df-quickchart-complete');\n",
              "        }\n",
              "        (() => {\n",
              "          let quickchartButtonEl =\n",
              "            document.querySelector('#df-0fab3aa7-0327-4add-8bc5-b0342a8497f9 button');\n",
              "          quickchartButtonEl.style.display =\n",
              "            google.colab.kernel.accessAllowed ? 'block' : 'none';\n",
              "        })();\n",
              "      </script>\n",
              "    </div>\n",
              "\n",
              "  <div id=\"id_c2b246f9-a240-4c05-8024-a5f134a26aa9\">\n",
              "    <style>\n",
              "      .colab-df-generate {\n",
              "        background-color: #E8F0FE;\n",
              "        border: none;\n",
              "        border-radius: 50%;\n",
              "        cursor: pointer;\n",
              "        display: none;\n",
              "        fill: #1967D2;\n",
              "        height: 32px;\n",
              "        padding: 0 0 0 0;\n",
              "        width: 32px;\n",
              "      }\n",
              "\n",
              "      .colab-df-generate:hover {\n",
              "        background-color: #E2EBFA;\n",
              "        box-shadow: 0px 1px 2px rgba(60, 64, 67, 0.3), 0px 1px 3px 1px rgba(60, 64, 67, 0.15);\n",
              "        fill: #174EA6;\n",
              "      }\n",
              "\n",
              "      [theme=dark] .colab-df-generate {\n",
              "        background-color: #3B4455;\n",
              "        fill: #D2E3FC;\n",
              "      }\n",
              "\n",
              "      [theme=dark] .colab-df-generate:hover {\n",
              "        background-color: #434B5C;\n",
              "        box-shadow: 0px 1px 3px 1px rgba(0, 0, 0, 0.15);\n",
              "        filter: drop-shadow(0px 1px 2px rgba(0, 0, 0, 0.3));\n",
              "        fill: #FFFFFF;\n",
              "      }\n",
              "    </style>\n",
              "    <button class=\"colab-df-generate\" onclick=\"generateWithVariable('df')\"\n",
              "            title=\"Generate code using this dataframe.\"\n",
              "            style=\"display:none;\">\n",
              "\n",
              "  <svg xmlns=\"http://www.w3.org/2000/svg\" height=\"24px\"viewBox=\"0 0 24 24\"\n",
              "       width=\"24px\">\n",
              "    <path d=\"M7,19H8.4L18.45,9,17,7.55,7,17.6ZM5,21V16.75L18.45,3.32a2,2,0,0,1,2.83,0l1.4,1.43a1.91,1.91,0,0,1,.58,1.4,1.91,1.91,0,0,1-.58,1.4L9.25,21ZM18.45,9,17,7.55Zm-12,3A5.31,5.31,0,0,0,4.9,8.1,5.31,5.31,0,0,0,1,6.5,5.31,5.31,0,0,0,4.9,4.9,5.31,5.31,0,0,0,6.5,1,5.31,5.31,0,0,0,8.1,4.9,5.31,5.31,0,0,0,12,6.5,5.46,5.46,0,0,0,6.5,12Z\"/>\n",
              "  </svg>\n",
              "    </button>\n",
              "    <script>\n",
              "      (() => {\n",
              "      const buttonEl =\n",
              "        document.querySelector('#id_c2b246f9-a240-4c05-8024-a5f134a26aa9 button.colab-df-generate');\n",
              "      buttonEl.style.display =\n",
              "        google.colab.kernel.accessAllowed ? 'block' : 'none';\n",
              "\n",
              "      buttonEl.onclick = () => {\n",
              "        google.colab.notebook.generateWithVariable('df');\n",
              "      }\n",
              "      })();\n",
              "    </script>\n",
              "  </div>\n",
              "\n",
              "    </div>\n",
              "  </div>\n"
            ],
            "application/vnd.google.colaboratory.intrinsic+json": {
              "type": "dataframe",
              "variable_name": "df",
              "summary": "{\n  \"name\": \"df\",\n  \"rows\": 34152,\n  \"fields\": [\n    {\n      \"column\": \"label\",\n      \"properties\": {\n        \"dtype\": \"number\",\n        \"std\": 0,\n        \"min\": 0,\n        \"max\": 1,\n        \"num_unique_values\": 2,\n        \"samples\": [\n          1,\n          0\n        ],\n        \"semantic_type\": \"\",\n        \"description\": \"\"\n      }\n    },\n    {\n      \"column\": \"text\",\n      \"properties\": {\n        \"dtype\": \"string\",\n        \"num_unique_values\": 32206,\n        \"samples\": [\n          \"swiss to return $321 million in stolen funds to nigeria\",\n          \"it\\u201as official! the fbi confirms cia\\u201as findings on russian hackings\"\n        ],\n        \"semantic_type\": \"\",\n        \"description\": \"\"\n      }\n    },\n    {\n      \"column\": \"clean_text\",\n      \"properties\": {\n        \"dtype\": \"string\",\n        \"num_unique_values\": 32157,\n        \"samples\": [\n          \"senator mccain want hearing possible f sale pakistan\",\n          \"british lawmaker debate banning trump muslim comment\"\n        ],\n        \"semantic_type\": \"\",\n        \"description\": \"\"\n      }\n    }\n  ]\n}"
            }
          },
          "metadata": {},
          "execution_count": 8
        }
      ]
    },
    {
      "cell_type": "markdown",
      "source": [
        "# Train Test Split"
      ],
      "metadata": {
        "id": "5npliy60qRpF"
      },
      "id": "5npliy60qRpF"
    },
    {
      "cell_type": "code",
      "source": [
        "X = df['clean_text']\n",
        "y = df['label']  # 'fake' or 'real'\n",
        "\n",
        "X_train, X_test, y_train, y_test = train_test_split(X, y, test_size=0.2, random_state=42)\n",
        "X_train.shape, X_test.shape\n"
      ],
      "metadata": {
        "id": "KU2S7vHim-cG",
        "colab": {
          "base_uri": "https://localhost:8080/"
        },
        "outputId": "c2de3ee1-eb46-404c-83ee-e56af8387816"
      },
      "id": "KU2S7vHim-cG",
      "execution_count": 9,
      "outputs": [
        {
          "output_type": "execute_result",
          "data": {
            "text/plain": [
              "((27321,), (6831,))"
            ]
          },
          "metadata": {},
          "execution_count": 9
        }
      ]
    },
    {
      "cell_type": "markdown",
      "source": [
        "#Model 1: CountVectrorizer + NaiveBayes"
      ],
      "metadata": {
        "id": "qOgIZbZVqVtq"
      },
      "id": "qOgIZbZVqVtq"
    },
    {
      "cell_type": "markdown",
      "source": [
        "###  Feature Extraction using CountVectorizer (Bag of Words)\n",
        "\n",
        "We use `CountVectorizer` to convert our text data into numerical vectors using the Bag-of-Words approach.\n",
        "- It removes English stopwords like \"the\", \"is\", etc.\n",
        "- It builds a vocabulary from training data.\n",
        "- It converts each text into a vector of word frequencies.\n",
        "\n",
        "We apply `.fit_transform()` on training data (learn + convert) and `.transform()` on test data (only convert using learned vocab).\n"
      ],
      "metadata": {
        "id": "kBf9phCKYun9"
      },
      "id": "kBf9phCKYun9"
    },
    {
      "cell_type": "markdown",
      "source": [
        "> Note: We've already removed stopwords during preprocessing using NLTK.\n",
        "> Therefore, passing `stop_words='english'` to `CountVectorizer` is optional — and redundant in our case.\n"
      ],
      "metadata": {
        "id": "Xh8Jh08jZTtn"
      },
      "id": "Xh8Jh08jZTtn"
    },
    {
      "cell_type": "code",
      "source": [
        "cv = CountVectorizer(stop_words='english')\n",
        "X_train_cv = cv.fit_transform(X_train)\n",
        "X_test_cv = cv.transform(X_test)"
      ],
      "metadata": {
        "id": "TvJsEtP-p-FS"
      },
      "id": "TvJsEtP-p-FS",
      "execution_count": 10,
      "outputs": []
    },
    {
      "cell_type": "code",
      "source": [
        "print(\"Vocabulary size:\", len(cv.vocabulary_))\n",
        "print(\"Example features:\", list(cv.vocabulary_.keys())[:10])\n"
      ],
      "metadata": {
        "colab": {
          "base_uri": "https://localhost:8080/"
        },
        "id": "zV12UoPDY9OD",
        "outputId": "b21e5dd0-d678-4a80-d6b5-0d6000ed8b28"
      },
      "id": "zV12UoPDY9OD",
      "execution_count": 11,
      "outputs": [
        {
          "output_type": "stream",
          "name": "stdout",
          "text": [
            "Vocabulary size: 17392\n",
            "Example features: ['final', 'reckoning', 'approach', 'obama', 'high', 'court', 'nominee', 'illinois', 'budget', 'talk']\n"
          ]
        }
      ]
    },
    {
      "cell_type": "markdown",
      "source": [
        "#Basic Model Training (MultinomialNB)"
      ],
      "metadata": {
        "id": "IpDDqFFoeSH3"
      },
      "id": "IpDDqFFoeSH3"
    },
    {
      "cell_type": "markdown",
      "source": [
        "we trained a basic Multinomial Naive Bayes model on CountVectorizer features. The model calculates word probabilities for each class (fake or real) and uses Bayes’ theorem to make predictions.\n",
        "Note: This is your baseline model using default alpha=1.0.\n",
        "\n",
        "\n",
        "\n"
      ],
      "metadata": {
        "id": "c_X4I7IxeYR4"
      },
      "id": "c_X4I7IxeYR4"
    },
    {
      "cell_type": "code",
      "source": [
        "nb1 = MultinomialNB()\n",
        "nb1.fit(X_train_cv, y_train)\n",
        "pred1 = nb1.predict(X_test_cv)\n",
        "\n",
        "print(\"Model 1 Accuracy:\", accuracy_score(y_test, pred1))"
      ],
      "metadata": {
        "colab": {
          "base_uri": "https://localhost:8080/"
        },
        "id": "_h2aGS5Sp5J1",
        "outputId": "c78fc393-282f-4e46-d9af-7961e55a4c44"
      },
      "id": "_h2aGS5Sp5J1",
      "execution_count": 12,
      "outputs": [
        {
          "output_type": "stream",
          "name": "stdout",
          "text": [
            "Model 1 Accuracy: 0.9307568438003221\n"
          ]
        }
      ]
    },
    {
      "cell_type": "markdown",
      "source": [
        "#Hyperparameter Tuning using GridSearchCV (MultinomialNB)"
      ],
      "metadata": {
        "id": "tGu5ntqaerCg"
      },
      "id": "tGu5ntqaerCg"
    },
    {
      "cell_type": "markdown",
      "source": [
        "The alpha parameter in Naive Bayes controls smoothing, which avoids zero probabilities for unseen words. We used GridSearchCV to find the best alpha value from [0.01, 0.1, 0.5, 1.0, 2.0] using 5-fold cross-validation."
      ],
      "metadata": {
        "id": "fUmpuyFheuf2"
      },
      "id": "fUmpuyFheuf2"
    },
    {
      "cell_type": "code",
      "source": [
        "from sklearn.model_selection import GridSearchCV\n",
        "\n",
        "params = {'alpha': [0.01, 0.1, 0.5, 1.0, 2.0]}\n",
        "#grid = GridSearchCV(MultinomialNB(), param_grid=params, cv=5, scoring='accuracy')\n",
        "grid = GridSearchCV(MultinomialNB(), param_grid=params, cv=5, scoring='accuracy', return_train_score=True)\n",
        "grid.fit(X_train_cv, y_train)\n",
        "\n",
        "print(\"Best alpha:\", grid.best_params_)\n",
        "print(\"Best accuracy:\", grid.best_score_)\n"
      ],
      "metadata": {
        "colab": {
          "base_uri": "https://localhost:8080/"
        },
        "id": "1jqgglPlbqWJ",
        "outputId": "3f80f8a4-77b5-4c91-d3fb-b0cab57a8376"
      },
      "id": "1jqgglPlbqWJ",
      "execution_count": 13,
      "outputs": [
        {
          "output_type": "stream",
          "name": "stdout",
          "text": [
            "Best alpha: {'alpha': 0.5}\n",
            "Best accuracy: 0.9304197414935185\n"
          ]
        }
      ]
    },
    {
      "cell_type": "markdown",
      "source": [
        "## Final Model Evaluation (CountVectrorizer + NaiveBayes)\n",
        "\n",
        "After finding the best alpha (0.01), defaut was 1.0 using GridSearchCV, we used the optimized Naive Bayes model (`best_estimator_`) to predict labels on the test dataset.\n",
        "\n",
        "We then evaluated the model's performance using **accuracy**, **precision**, **recall**, and **F1-score**.\n",
        "\n",
        "This allows us to compare the tuned model with the default model and confirm whether the hyperparameter tuning improved the performance."
      ],
      "metadata": {
        "id": "fnkAZIY7fs9f"
      },
      "id": "fnkAZIY7fs9f"
    },
    {
      "cell_type": "code",
      "source": [
        "best_nb = grid.best_estimator_\n",
        "y_pred_best = best_nb.predict(X_test_cv)"
      ],
      "metadata": {
        "id": "ewWfLvbCb7zm"
      },
      "id": "ewWfLvbCb7zm",
      "execution_count": 14,
      "outputs": []
    },
    {
      "cell_type": "code",
      "source": [
        "# Accuracy & F1 score for default alpha\n",
        "acc_default = accuracy_score(y_test, pred1)\n",
        "f1_default = f1_score(y_test, pred1)\n",
        "\n",
        "# Accuracy & F1 score for best alpha\n",
        "acc_best = accuracy_score(y_test, y_pred_best)\n",
        "f1_best = f1_score(y_test, y_pred_best)\n",
        "\n",
        "# Print reports\n",
        "print(\"📌 Default Alpha (alpha=1.0):\")\n",
        "print(\"Accuracy:\", acc_default)\n",
        "print(\"F1 Score:\", f1_default)\n",
        "print(\"\\nClassification Report:\\n\", classification_report(y_test, pred1))\n",
        "print(\"\\nConfusion Matrix:\\n\", confusion_matrix(y_test, pred1))\n",
        "\n",
        "print(\"\\n📌 Best Alpha (GridSearch):\")\n",
        "print(\"Accuracy:\", acc_best)\n",
        "print(\"F1 Score:\", f1_best)\n",
        "print(\"\\nClassification Report:\\n\", classification_report(y_test, y_pred_best))\n",
        "print(\"\\nConfusion Matrix:\\n\", confusion_matrix(y_test, y_pred_best))\n",
        "\n",
        "# 🔥 Plot Confusion Matrix for Best Model\n",
        "plt.figure(figsize=(6, 4))\n",
        "sns.heatmap(confusion_matrix(y_test, y_pred_best), annot=True, fmt='d', cmap='Blues')\n",
        "plt.title('Confusion Matrix (Best Alpha)')\n",
        "plt.xlabel('Predicted Labels')\n",
        "plt.ylabel('True Labels')\n",
        "xtricklabels = ['Fake', 'Real']\n",
        "ytricklabels = ['Fake', 'Real']\n",
        "plt.xticks(np.arange(2) + 0.5, labels=xtricklabels)\n",
        "plt.yticks(np.arange(2) + 0.5, labels=ytricklabels)\n",
        "plt.show()\n",
        "\n",
        "# 📊 Plot Accuracy and F1 Score Comparison\n",
        "labels = ['Accuracy', 'F1 Score']\n",
        "default_scores = [acc_default, f1_default]\n",
        "best_scores = [acc_best, f1_best]\n",
        "\n",
        "x = np.arange(len(labels))  # x locations\n",
        "width = 0.35  # width of bars\n",
        "\n",
        "plt.figure(figsize=(8, 5))\n",
        "plt.bar(x - width/2, default_scores, width, label='Default Alpha', color='gray')\n",
        "plt.bar(x + width/2, best_scores, width, label='Best Alpha', color='green')\n",
        "\n",
        "plt.ylabel('Score')\n",
        "plt.title('Comparison of Accuracy and F1 Score')\n",
        "plt.xticks(x, labels)\n",
        "plt.ylim(0.8, 1.0)\n",
        "plt.legend()\n",
        "plt.grid(True, axis='y', linestyle='--', alpha=0.6)\n",
        "plt.tight_layout()\n",
        "plt.show()\n",
        "\n"
      ],
      "metadata": {
        "colab": {
          "base_uri": "https://localhost:8080/",
          "height": 1000
        },
        "id": "P-htaBLIcIRd",
        "outputId": "3506af7a-5054-4505-c10b-ba96df02782b"
      },
      "id": "P-htaBLIcIRd",
      "execution_count": 15,
      "outputs": [
        {
          "output_type": "stream",
          "name": "stdout",
          "text": [
            "📌 Default Alpha (alpha=1.0):\n",
            "Accuracy: 0.9307568438003221\n",
            "F1 Score: 0.9284525790349417\n",
            "\n",
            "Classification Report:\n",
            "               precision    recall  f1-score   support\n",
            "\n",
            "           0       0.93      0.93      0.93      3529\n",
            "           1       0.93      0.93      0.93      3302\n",
            "\n",
            "    accuracy                           0.93      6831\n",
            "   macro avg       0.93      0.93      0.93      6831\n",
            "weighted avg       0.93      0.93      0.93      6831\n",
            "\n",
            "\n",
            "Confusion Matrix:\n",
            " [[3289  240]\n",
            " [ 233 3069]]\n",
            "\n",
            "📌 Best Alpha (GridSearch):\n",
            "Accuracy: 0.9320743668569755\n",
            "F1 Score: 0.9297608234937935\n",
            "\n",
            "Classification Report:\n",
            "               precision    recall  f1-score   support\n",
            "\n",
            "           0       0.93      0.93      0.93      3529\n",
            "           1       0.93      0.93      0.93      3302\n",
            "\n",
            "    accuracy                           0.93      6831\n",
            "   macro avg       0.93      0.93      0.93      6831\n",
            "weighted avg       0.93      0.93      0.93      6831\n",
            "\n",
            "\n",
            "Confusion Matrix:\n",
            " [[3296  233]\n",
            " [ 231 3071]]\n"
          ]
        },
        {
          "output_type": "display_data",
          "data": {
            "text/plain": [
              "<Figure size 600x400 with 2 Axes>"
            ],
            "image/png": "[encoded data removed]"
          },
          "metadata": {}
        },
        {
          "output_type": "display_data",
          "data": {
            "text/plain": [
              "<Figure size 800x500 with 1 Axes>"
            ],
            "image/png": "[encoded data removed]"
          },
          "metadata": {}
        }
      ]
    },
    {
      "cell_type": "markdown",
      "source": [
        "#Model2 TF-IDF +Random_forest"
      ],
      "metadata": {
        "id": "nKFZt3UTslMm"
      },
      "id": "nKFZt3UTslMm"
    },
    {
      "cell_type": "markdown",
      "source": [
        "we convert the raw text data into numerical features using TF-IDF (Term Frequency-Inverse Document Frequency) vectorization.\n",
        "    TF-IDF captures how important a word is to a document relative to the entire dataset.\n",
        "    It assigns higher weights to words that appear frequently in a document but rarely across other documents, helping to highlight distinctive words.\n",
        "    Using stop_words='english' removes common English words (like \"the\", \"and\") which usually do not carry much meaning.\n",
        "    fit_transform is applied on the training data to learn the vocabulary and transform the text into a TF-IDF weighted matrix.\n",
        "    transform is then applied on the test data using the same learned vocabulary to ensure consistency.\n",
        "This numerical representation is essential because machine learning models like Random Forest cannot work directly with raw text."
      ],
      "metadata": {
        "id": "4pzq_u1RjA7H"
      },
      "id": "4pzq_u1RjA7H"
    },
    {
      "cell_type": "code",
      "source": [],
      "metadata": {
        "id": "A8JQDdzJjAPV"
      },
      "id": "A8JQDdzJjAPV",
      "execution_count": null,
      "outputs": []
    },
    {
      "cell_type": "code",
      "source": [
        "# Step 1: TF-IDF Vectorization\n",
        "tfidf_vectorizer = TfidfVectorizer(stop_words='english')\n",
        "X_train_tfidf = tfidf_vectorizer.fit_transform(X_train)\n",
        "X_test_tfidf = tfidf_vectorizer.transform(X_test)\n",
        "\n",
        "# Initialize and train RF with default params\n",
        "rf_default = RandomForestClassifier(random_state=42)\n",
        "rf_default.fit(X_train_tfidf, y_train)\n",
        "\n",
        "# Predict on test data\n",
        "y_pred_rf = rf_default.predict(X_test_tfidf)\n",
        "\n",
        "# # Step 5: Evaluate performance\n",
        "acc_rf = accuracy_score(y_test, y_pred_rf)\n",
        "print(f\"Random Forest Model Accuracy: {acc_rf:.4f}\")\n",
        "\n",
        "print(\"\\nClassification Report:\")\n",
        "print(classification_report(y_test, y_pred_rf))\n",
        "\n",
        "# # Confusion Matrix Plot\n",
        "plt.figure(figsize=(6,4))\n",
        "sns.heatmap(confusion_matrix(y_test, y_pred_rf), annot=True, fmt='d', cmap='Blues')\n",
        "plt.title('Confusion Matrix - Random Forest with TF-IDF')\n",
        "plt.xlabel('Predicted Label')\n",
        "plt.ylabel('True Label')\n",
        "plt.xticks(np.arange(2) + 0.5, labels=['Fake', 'Real'])\n",
        "plt.yticks(np.arange(2) + 0.5, labels=['Fake', 'Real'])\n",
        "plt.show()\n"
      ],
      "metadata": {
        "colab": {
          "base_uri": "https://localhost:8080/",
          "height": 618
        },
        "id": "Lan2j5vnim-8",
        "outputId": "ffeefdfb-1f8d-4af5-860b-87e5d445ee11"
      },
      "id": "Lan2j5vnim-8",
      "execution_count": 16,
      "outputs": [
        {
          "output_type": "stream",
          "name": "stdout",
          "text": [
            "Random Forest Model Accuracy: 0.9188\n",
            "\n",
            "Classification Report:\n",
            "              precision    recall  f1-score   support\n",
            "\n",
            "           0       0.93      0.92      0.92      3529\n",
            "           1       0.91      0.92      0.92      3302\n",
            "\n",
            "    accuracy                           0.92      6831\n",
            "   macro avg       0.92      0.92      0.92      6831\n",
            "weighted avg       0.92      0.92      0.92      6831\n",
            "\n"
          ]
        },
        {
          "output_type": "display_data",
          "data": {
            "text/plain": [
              "<Figure size 600x400 with 2 Axes>"
            ],
            "image/png": "[encoded data removed]"
          },
          "metadata": {}
        }
      ]
    },
    {
      "cell_type": "markdown",
      "source": [
        "#Model_3 TFIDF +Navie Bays"
      ],
      "metadata": {
        "id": "wMBXE-kAy6Ak"
      },
      "id": "wMBXE-kAy6Ak"
    },
    {
      "cell_type": "code",
      "source": [
        "#nb1_model_tf = nb1.fit(X_train_tfidf, y_train)\n",
        "nb1_model_tf = best_nb.fit(X_train_tfidf, y_train)\n",
        "pred1_tf = nb1_model_tf.predict(X_test_tfidf)\n",
        "print(\"Model 3 Accuracy:\", accuracy_score(y_test, pred1_tf))\n",
        "\n"
      ],
      "metadata": {
        "colab": {
          "base_uri": "https://localhost:8080/"
        },
        "id": "eawwdOEQy_3m",
        "outputId": "74b4e46a-002b-4ad1-bb93-2311b49fe499"
      },
      "id": "eawwdOEQy_3m",
      "execution_count": 17,
      "outputs": [
        {
          "output_type": "stream",
          "name": "stdout",
          "text": [
            "Model 3 Accuracy: 0.930171277997365\n"
          ]
        }
      ]
    },
    {
      "cell_type": "code",
      "source": [
        "confusion_matrix(y_test, pred1_tf)\n"
      ],
      "metadata": {
        "colab": {
          "base_uri": "https://localhost:8080/"
        },
        "id": "lUxTGrQtzfPQ",
        "outputId": "577c5bc4-4444-4bd7-9c01-a29234c2eebb"
      },
      "id": "lUxTGrQtzfPQ",
      "execution_count": 18,
      "outputs": [
        {
          "output_type": "execute_result",
          "data": {
            "text/plain": [
              "array([[3302,  227],\n",
              "       [ 250, 3052]])"
            ]
          },
          "metadata": {},
          "execution_count": 18
        }
      ]
    },
    {
      "cell_type": "code",
      "source": [
        "plt.figure(figsize=(6, 4))\n",
        "sns.heatmap(confusion_matrix(y_test, pred1_tf), annot=True, fmt='d', cmap='Blues')\n",
        "plt.title('Confusion Matrix')\n",
        "plt.title('Confusion Matrix - TF-IDF + Naive Bayes')\n",
        "plt.xlabel('Predicted Labels')\n",
        "plt.ylabel('True Labels')\n",
        "xtricklabels = ['Fake', 'Real']\n",
        "ytricklabels = ['Fake', 'Real']\n",
        "plt.xticks(np.arange(2) + 0.5, labels=xtricklabels)\n",
        "plt.yticks(np.arange(2) + 0.5, labels=ytricklabels) # Add this line to label y-axis\n",
        "plt.show()\n"
      ],
      "metadata": {
        "colab": {
          "base_uri": "https://localhost:8080/",
          "height": 410
        },
        "id": "LwD47GFFzkni",
        "outputId": "9ba2c337-ca77-4f4a-fcfd-eaebae95ba19"
      },
      "id": "LwD47GFFzkni",
      "execution_count": 19,
      "outputs": [
        {
          "output_type": "display_data",
          "data": {
            "text/plain": [
              "<Figure size 600x400 with 2 Axes>"
            ],
            "image/png": "[encoded data removed]"
          },
          "metadata": {}
        }
      ]
    },
    {
      "cell_type": "code",
      "source": [
        "from sklearn.metrics import classification_report\n",
        "import pandas as pd\n",
        "\n",
        "# Assuming y_test contains integer labels (0 and 1)\n",
        "# Map integer labels to string labels for classification report\n",
        "target_names = ['fake', 'real']\n",
        "\n",
        "# Generate classification reports with target_names\n",
        "report1 = classification_report(y_test, pred1, target_names=target_names, output_dict=True, zero_division=0)\n",
        "report2 = classification_report(y_test, y_pred_rf, target_names=target_names, output_dict=True, zero_division=0)\n",
        "report3 = classification_report(y_test, pred1_tf, target_names=target_names, output_dict=True, zero_division=0)\n",
        "\n",
        "# Extract metrics for the table\n",
        "model_comparison = {\n",
        "    'Model': ['CountVectorizer + Naive Bayes', 'TF-IDF + Random Forest', 'TF-IDF + Naive Bayes'],\n",
        "    'Accuracy': [accuracy_score(y_test, pred1), accuracy_score(y_test, y_pred_rf), accuracy_score(y_test, pred1_tf)],\n",
        "    'Fake_Precision': [report1['fake']['precision'], report2['fake']['precision'], report3['fake']['precision']],\n",
        "    'Fake_Recall': [report1['fake']['recall'], report2['fake']['recall'], report3['fake']['recall']],\n",
        "    'Fake_F1-score': [report1['fake']['f1-score'], report2['fake']['f1-score'], report3['fake']['f1-score']],\n",
        "    'Real_Precision': [report1['real']['precision'], report2['real']['precision'], report3['real']['precision']],\n",
        "    'Real_Recall': [report1['real']['recall'], report2['real']['recall'], report3['real']['recall']],\n",
        "    'Real_F1-score': [report1['real']['f1-score'], report2['real']['f1-score'], report3['real']['f1-score']]\n",
        "}\n",
        "\n",
        "comparison_df = pd.DataFrame(model_comparison)\n",
        "comparison_df_sorted = comparison_df.sort_values(by='Accuracy', ascending=False)\n",
        "display(comparison_df_sorted)\n",
        "\n"
      ],
      "metadata": {
        "colab": {
          "base_uri": "https://localhost:8080/",
          "height": 143
        },
        "id": "GJiguEkb2xTo",
        "outputId": "bdd7960a-0fcc-4230-9df9-9baa9a5431d3"
      },
      "id": "GJiguEkb2xTo",
      "execution_count": 20,
      "outputs": [
        {
          "output_type": "display_data",
          "data": {
            "text/plain": [
              "                           Model  Accuracy  Fake_Precision  Fake_Recall  \\\n",
              "0  CountVectorizer + Naive Bayes  0.930757        0.933844     0.931992   \n",
              "2           TF-IDF + Naive Bayes  0.930171        0.929617     0.935676   \n",
              "1         TF-IDF + Random Forest  0.918753        0.925830     0.916124   \n",
              "\n",
              "   Fake_F1-score  Real_Precision  Real_Recall  Real_F1-score  \n",
              "0       0.932917        0.927471     0.929437       0.928453  \n",
              "2       0.932637        0.930772     0.924288       0.927519  \n",
              "1       0.920951        0.911351     0.921563       0.916428  "
            ],
            "text/html": [
              "\n",
              "  <div id=\"df-260d8136-931a-40d2-9598-505ad640fc11\" class=\"colab-df-container\">\n",
              "    <div>\n",
              "<style scoped>\n",
              "    .dataframe tbody tr th:only-of-type {\n",
              "        vertical-align: middle;\n",
              "    }\n",
              "\n",
              "    .dataframe tbody tr th {\n",
              "        vertical-align: top;\n",
              "    }\n",
              "\n",
              "    .dataframe thead th {\n",
              "        text-align: right;\n",
              "    }\n",
              "</style>\n",
              "<table border=\"1\" class=\"dataframe\">\n",
              "  <thead>\n",
              "    <tr style=\"text-align: right;\">\n",
              "      <th></th>\n",
              "      <th>Model</th>\n",
              "      <th>Accuracy</th>\n",
              "      <th>Fake_Precision</th>\n",
              "      <th>Fake_Recall</th>\n",
              "      <th>Fake_F1-score</th>\n",
              "      <th>Real_Precision</th>\n",
              "      <th>Real_Recall</th>\n",
              "      <th>Real_F1-score</th>\n",
              "    </tr>\n",
              "  </thead>\n",
              "  <tbody>\n",
              "    <tr>\n",
              "      <th>0</th>\n",
              "      <td>CountVectorizer + Naive Bayes</td>\n",
              "      <td>0.930757</td>\n",
              "      <td>0.933844</td>\n",
              "      <td>0.931992</td>\n",
              "      <td>0.932917</td>\n",
              "      <td>0.927471</td>\n",
              "      <td>0.929437</td>\n",
              "      <td>0.928453</td>\n",
              "    </tr>\n",
              "    <tr>\n",
              "      <th>2</th>\n",
              "      <td>TF-IDF + Naive Bayes</td>\n",
              "      <td>0.930171</td>\n",
              "      <td>0.929617</td>\n",
              "      <td>0.935676</td>\n",
              "      <td>0.932637</td>\n",
              "      <td>0.930772</td>\n",
              "      <td>0.924288</td>\n",
              "      <td>0.927519</td>\n",
              "    </tr>\n",
              "    <tr>\n",
              "      <th>1</th>\n",
              "      <td>TF-IDF + Random Forest</td>\n",
              "      <td>0.918753</td>\n",
              "      <td>0.925830</td>\n",
              "      <td>0.916124</td>\n",
              "      <td>0.920951</td>\n",
              "      <td>0.911351</td>\n",
              "      <td>0.921563</td>\n",
              "      <td>0.916428</td>\n",
              "    </tr>\n",
              "  </tbody>\n",
              "</table>\n",
              "</div>\n",
              "    <div class=\"colab-df-buttons\">\n",
              "\n",
              "  <div class=\"colab-df-container\">\n",
              "    <button class=\"colab-df-convert\" onclick=\"convertToInteractive('df-260d8136-931a-40d2-9598-505ad640fc11')\"\n",
              "            title=\"Convert this dataframe to an interactive table.\"\n",
              "            style=\"display:none;\">\n",
              "\n",
              "  <svg xmlns=\"http://www.w3.org/2000/svg\" height=\"24px\" viewBox=\"0 -960 960 960\">\n",
              "    <path d=\"M120-120v-720h720v720H120Zm60-500h600v-160H180v160Zm220 220h160v-160H400v160Zm0 220h160v-160H400v160ZM180-400h160v-160H180v160Zm440 0h160v-160H620v160ZM180-180h160v-160H180v160Zm440 0h160v-160H620v160Z\"/>\n",
              "  </svg>\n",
              "    </button>\n",
              "\n",
              "  <style>\n",
              "    .colab-df-container {\n",
              "      display:flex;\n",
              "      gap: 12px;\n",
              "    }\n",
              "\n",
              "    .colab-df-convert {\n",
              "      background-color: #E8F0FE;\n",
              "      border: none;\n",
              "      border-radius: 50%;\n",
              "      cursor: pointer;\n",
              "      display: none;\n",
              "      fill: #1967D2;\n",
              "      height: 32px;\n",
              "      padding: 0 0 0 0;\n",
              "      width: 32px;\n",
              "    }\n",
              "\n",
              "    .colab-df-convert:hover {\n",
              "      background-color: #E2EBFA;\n",
              "      box-shadow: 0px 1px 2px rgba(60, 64, 67, 0.3), 0px 1px 3px 1px rgba(60, 64, 67, 0.15);\n",
              "      fill: #174EA6;\n",
              "    }\n",
              "\n",
              "    .colab-df-buttons div {\n",
              "      margin-bottom: 4px;\n",
              "    }\n",
              "\n",
              "    [theme=dark] .colab-df-convert {\n",
              "      background-color: #3B4455;\n",
              "      fill: #D2E3FC;\n",
              "    }\n",
              "\n",
              "    [theme=dark] .colab-df-convert:hover {\n",
              "      background-color: #434B5C;\n",
              "      box-shadow: 0px 1px 3px 1px rgba(0, 0, 0, 0.15);\n",
              "      filter: drop-shadow(0px 1px 2px rgba(0, 0, 0, 0.3));\n",
              "      fill: #FFFFFF;\n",
              "    }\n",
              "  </style>\n",
              "\n",
              "    <script>\n",
              "      const buttonEl =\n",
              "        document.querySelector('#df-260d8136-931a-40d2-9598-505ad640fc11 button.colab-df-convert');\n",
              "      buttonEl.style.display =\n",
              "        google.colab.kernel.accessAllowed ? 'block' : 'none';\n",
              "\n",
              "      async function convertToInteractive(key) {\n",
              "        const element = document.querySelector('#df-260d8136-931a-40d2-9598-505ad640fc11');\n",
              "        const dataTable =\n",
              "          await google.colab.kernel.invokeFunction('convertToInteractive',\n",
              "                                                    [key], {});\n",
              "        if (!dataTable) return;\n",
              "\n",
              "        const docLinkHtml = 'Like what you see? Visit the ' +\n",
              "          '<a target=\"_blank\" href=https://colab.research.google.com/notebooks/data_table.ipynb>data table notebook</a>'\n",
              "          + ' to learn more about interactive tables.';\n",
              "        element.innerHTML = '';\n",
              "        dataTable['output_type'] = 'display_data';\n",
              "        await google.colab.output.renderOutput(dataTable, element);\n",
              "        const docLink = document.createElement('div');\n",
              "        docLink.innerHTML = docLinkHtml;\n",
              "        element.appendChild(docLink);\n",
              "      }\n",
              "    </script>\n",
              "  </div>\n",
              "\n",
              "\n",
              "    <div id=\"df-6cc52209-1a43-4e8f-ac15-0a12f2e838b2\">\n",
              "      <button class=\"colab-df-quickchart\" onclick=\"quickchart('df-6cc52209-1a43-4e8f-ac15-0a12f2e838b2')\"\n",
              "                title=\"Suggest charts\"\n",
              "                style=\"display:none;\">\n",
              "\n",
              "<svg xmlns=\"http://www.w3.org/2000/svg\" height=\"24px\"viewBox=\"0 0 24 24\"\n",
              "     width=\"24px\">\n",
              "    <g>\n",
              "        <path d=\"M19 3H5c-1.1 0-2 .9-2 2v14c0 1.1.9 2 2 2h14c1.1 0 2-.9 2-2V5c0-1.1-.9-2-2-2zM9 17H7v-7h2v7zm4 0h-2V7h2v10zm4 0h-2v-4h2v4z\"/>\n",
              "    </g>\n",
              "</svg>\n",
              "      </button>\n",
              "\n",
              "<style>\n",
              "  .colab-df-quickchart {\n",
              "      --bg-color: #E8F0FE;\n",
              "      --fill-color: #1967D2;\n",
              "      --hover-bg-color: #E2EBFA;\n",
              "      --hover-fill-color: #174EA6;\n",
              "      --disabled-fill-color: #AAA;\n",
              "      --disabled-bg-color: #DDD;\n",
              "  }\n",
              "\n",
              "  [theme=dark] .colab-df-quickchart {\n",
              "      --bg-color: #3B4455;\n",
              "      --fill-color: #D2E3FC;\n",
              "      --hover-bg-color: #434B5C;\n",
              "      --hover-fill-color: #FFFFFF;\n",
              "      --disabled-bg-color: #3B4455;\n",
              "      --disabled-fill-color: #666;\n",
              "  }\n",
              "\n",
              "  .colab-df-quickchart {\n",
              "    background-color: var(--bg-color);\n",
              "    border: none;\n",
              "    border-radius: 50%;\n",
              "    cursor: pointer;\n",
              "    display: none;\n",
              "    fill: var(--fill-color);\n",
              "    height: 32px;\n",
              "    padding: 0;\n",
              "    width: 32px;\n",
              "  }\n",
              "\n",
              "  .colab-df-quickchart:hover {\n",
              "    background-color: var(--hover-bg-color);\n",
              "    box-shadow: 0 1px 2px rgba(60, 64, 67, 0.3), 0 1px 3px 1px rgba(60, 64, 67, 0.15);\n",
              "    fill: var(--button-hover-fill-color);\n",
              "  }\n",
              "\n",
              "  .colab-df-quickchart-complete:disabled,\n",
              "  .colab-df-quickchart-complete:disabled:hover {\n",
              "    background-color: var(--disabled-bg-color);\n",
              "    fill: var(--disabled-fill-color);\n",
              "    box-shadow: none;\n",
              "  }\n",
              "\n",
              "  .colab-df-spinner {\n",
              "    border: 2px solid var(--fill-color);\n",
              "    border-color: transparent;\n",
              "    border-bottom-color: var(--fill-color);\n",
              "    animation:\n",
              "      spin 1s steps(1) infinite;\n",
              "  }\n",
              "\n",
              "  @keyframes spin {\n",
              "    0% {\n",
              "      border-color: transparent;\n",
              "      border-bottom-color: var(--fill-color);\n",
              "      border-left-color: var(--fill-color);\n",
              "    }\n",
              "    20% {\n",
              "      border-color: transparent;\n",
              "      border-left-color: var(--fill-color);\n",
              "      border-top-color: var(--fill-color);\n",
              "    }\n",
              "    30% {\n",
              "      border-color: transparent;\n",
              "      border-left-color: var(--fill-color);\n",
              "      border-top-color: var(--fill-color);\n",
              "      border-right-color: var(--fill-color);\n",
              "    }\n",
              "    40% {\n",
              "      border-color: transparent;\n",
              "      border-right-color: var(--fill-color);\n",
              "      border-top-color: var(--fill-color);\n",
              "    }\n",
              "    60% {\n",
              "      border-color: transparent;\n",
              "      border-right-color: var(--fill-color);\n",
              "    }\n",
              "    80% {\n",
              "      border-color: transparent;\n",
              "      border-right-color: var(--fill-color);\n",
              "      border-bottom-color: var(--fill-color);\n",
              "    }\n",
              "    90% {\n",
              "      border-color: transparent;\n",
              "      border-bottom-color: var(--fill-color);\n",
              "    }\n",
              "  }\n",
              "</style>\n",
              "\n",
              "      <script>\n",
              "        async function quickchart(key) {\n",
              "          const quickchartButtonEl =\n",
              "            document.querySelector('#' + key + ' button');\n",
              "          quickchartButtonEl.disabled = true;  // To prevent multiple clicks.\n",
              "          quickchartButtonEl.classList.add('colab-df-spinner');\n",
              "          try {\n",
              "            const charts = await google.colab.kernel.invokeFunction(\n",
              "                'suggestCharts', [key], {});\n",
              "          } catch (error) {\n",
              "            console.error('Error during call to suggestCharts:', error);\n",
              "          }\n",
              "          quickchartButtonEl.classList.remove('colab-df-spinner');\n",
              "          quickchartButtonEl.classList.add('colab-df-quickchart-complete');\n",
              "        }\n",
              "        (() => {\n",
              "          let quickchartButtonEl =\n",
              "            document.querySelector('#df-6cc52209-1a43-4e8f-ac15-0a12f2e838b2 button');\n",
              "          quickchartButtonEl.style.display =\n",
              "            google.colab.kernel.accessAllowed ? 'block' : 'none';\n",
              "        })();\n",
              "      </script>\n",
              "    </div>\n",
              "\n",
              "  <div id=\"id_872d5ef2-0000-4d05-bbcc-c12b462e902c\">\n",
              "    <style>\n",
              "      .colab-df-generate {\n",
              "        background-color: #E8F0FE;\n",
              "        border: none;\n",
              "        border-radius: 50%;\n",
              "        cursor: pointer;\n",
              "        display: none;\n",
              "        fill: #1967D2;\n",
              "        height: 32px;\n",
              "        padding: 0 0 0 0;\n",
              "        width: 32px;\n",
              "      }\n",
              "\n",
              "      .colab-df-generate:hover {\n",
              "        background-color: #E2EBFA;\n",
              "        box-shadow: 0px 1px 2px rgba(60, 64, 67, 0.3), 0px 1px 3px 1px rgba(60, 64, 67, 0.15);\n",
              "        fill: #174EA6;\n",
              "      }\n",
              "\n",
              "      [theme=dark] .colab-df-generate {\n",
              "        background-color: #3B4455;\n",
              "        fill: #D2E3FC;\n",
              "      }\n",
              "\n",
              "      [theme=dark] .colab-df-generate:hover {\n",
              "        background-color: #434B5C;\n",
              "        box-shadow: 0px 1px 3px 1px rgba(0, 0, 0, 0.15);\n",
              "        filter: drop-shadow(0px 1px 2px rgba(0, 0, 0, 0.3));\n",
              "        fill: #FFFFFF;\n",
              "      }\n",
              "    </style>\n",
              "    <button class=\"colab-df-generate\" onclick=\"generateWithVariable('comparison_df_sorted')\"\n",
              "            title=\"Generate code using this dataframe.\"\n",
              "            style=\"display:none;\">\n",
              "\n",
              "  <svg xmlns=\"http://www.w3.org/2000/svg\" height=\"24px\"viewBox=\"0 0 24 24\"\n",
              "       width=\"24px\">\n",
              "    <path d=\"M7,19H8.4L18.45,9,17,7.55,7,17.6ZM5,21V16.75L18.45,3.32a2,2,0,0,1,2.83,0l1.4,1.43a1.91,1.91,0,0,1,.58,1.4,1.91,1.91,0,0,1-.58,1.4L9.25,21ZM18.45,9,17,7.55Zm-12,3A5.31,5.31,0,0,0,4.9,8.1,5.31,5.31,0,0,0,1,6.5,5.31,5.31,0,0,0,4.9,4.9,5.31,5.31,0,0,0,6.5,1,5.31,5.31,0,0,0,8.1,4.9,5.31,5.31,0,0,0,12,6.5,5.46,5.46,0,0,0,6.5,12Z\"/>\n",
              "  </svg>\n",
              "    </button>\n",
              "    <script>\n",
              "      (() => {\n",
              "      const buttonEl =\n",
              "        document.querySelector('#id_872d5ef2-0000-4d05-bbcc-c12b462e902c button.colab-df-generate');\n",
              "      buttonEl.style.display =\n",
              "        google.colab.kernel.accessAllowed ? 'block' : 'none';\n",
              "\n",
              "      buttonEl.onclick = () => {\n",
              "        google.colab.notebook.generateWithVariable('comparison_df_sorted');\n",
              "      }\n",
              "      })();\n",
              "    </script>\n",
              "  </div>\n",
              "\n",
              "    </div>\n",
              "  </div>\n"
            ],
            "application/vnd.google.colaboratory.intrinsic+json": {
              "type": "dataframe",
              "variable_name": "comparison_df_sorted",
              "summary": "{\n  \"name\": \"comparison_df_sorted\",\n  \"rows\": 3,\n  \"fields\": [\n    {\n      \"column\": \"Model\",\n      \"properties\": {\n        \"dtype\": \"string\",\n        \"num_unique_values\": 3,\n        \"samples\": [\n          \"CountVectorizer + Naive Bayes\",\n          \"TF-IDF + Naive Bayes\",\n          \"TF-IDF + Random Forest\"\n        ],\n        \"semantic_type\": \"\",\n        \"description\": \"\"\n      }\n    },\n    {\n      \"column\": \"Accuracy\",\n      \"properties\": {\n        \"dtype\": \"number\",\n        \"std\": 0.006767867446478635,\n        \"min\": 0.9187527448397014,\n        \"max\": 0.9307568438003221,\n        \"num_unique_values\": 3,\n        \"samples\": [\n          0.9307568438003221,\n          0.930171277997365,\n          0.9187527448397014\n        ],\n        \"semantic_type\": \"\",\n        \"description\": \"\"\n      }\n    },\n    {\n      \"column\": \"Fake_Precision\",\n      \"properties\": {\n        \"dtype\": \"number\",\n        \"std\": 0.004008987001246834,\n        \"min\": 0.9258304696449027,\n        \"max\": 0.9338444065871664,\n        \"num_unique_values\": 3,\n        \"samples\": [\n          0.9338444065871664,\n          0.9296171171171171,\n          0.9258304696449027\n        ],\n        \"semantic_type\": \"\",\n        \"description\": \"\"\n      }\n    },\n    {\n      \"column\": \"Fake_Recall\",\n      \"properties\": {\n        \"dtype\": \"number\",\n        \"std\": 0.010389671715456355,\n        \"min\": 0.9161235477472371,\n        \"max\": 0.9356758288466988,\n        \"num_unique_values\": 3,\n        \"samples\": [\n          0.9319920657410031,\n          0.9356758288466988,\n          0.9161235477472371\n        ],\n        \"semantic_type\": \"\",\n        \"description\": \"\"\n      }\n    },\n    {\n      \"column\": \"Fake_F1-score\",\n      \"properties\": {\n        \"dtype\": \"number\",\n        \"std\": 0.006828922990010226,\n        \"min\": 0.9209514314200257,\n        \"max\": 0.9329173166926678,\n        \"num_unique_values\": 3,\n        \"samples\": [\n          0.9329173166926678,\n          0.9326366332438921,\n          0.9209514314200257\n        ],\n        \"semantic_type\": \"\",\n        \"description\": \"\"\n      }\n    },\n    {\n      \"column\": \"Real_Precision\",\n      \"properties\": {\n        \"dtype\": \"number\",\n        \"std\": 0.010391632336785191,\n        \"min\": 0.911350703803534,\n        \"max\": 0.9307715767002135,\n        \"num_unique_values\": 3,\n        \"samples\": [\n          0.927470534904805,\n          0.9307715767002135,\n          0.911350703803534\n        ],\n        \"semantic_type\": \"\",\n        \"description\": \"\"\n      }\n    },\n    {\n      \"column\": \"Real_Recall\",\n      \"properties\": {\n        \"dtype\": \"number\",\n        \"std\": 0.003998647752945353,\n        \"min\": 0.9215626892792247,\n        \"max\": 0.9294367050272562,\n        \"num_unique_values\": 3,\n        \"samples\": [\n          0.9294367050272562,\n          0.9242883101150817,\n          0.9215626892792247\n        ],\n        \"semantic_type\": \"\",\n        \"description\": \"\"\n      }\n    },\n    {\n      \"column\": \"Real_F1-score\",\n      \"properties\": {\n        \"dtype\": \"number\",\n        \"std\": 0.006688958743296297,\n        \"min\": 0.9164282487577172,\n        \"max\": 0.9284525790349417,\n        \"num_unique_values\": 3,\n        \"samples\": [\n          0.9284525790349417,\n          0.927518614192372,\n          0.9164282487577172\n        ],\n        \"semantic_type\": \"\",\n        \"description\": \"\"\n      }\n    }\n  ]\n}"
            }
          },
          "metadata": {}
        }
      ]
    },
    {
      "cell_type": "code",
      "source": [],
      "metadata": {
        "id": "-DhbihAJzqf4"
      },
      "id": "-DhbihAJzqf4",
      "execution_count": null,
      "outputs": []
    },
    {
      "cell_type": "code",
      "source": [
        "# For CountVectorizer + Naive Bayes\n",
        "results = grid.cv_results_\n",
        "train_scores = results['mean_train_score']\n",
        "val_scores = results['mean_test_score']\n",
        "params = results['params']\n",
        "\n",
        "alpha_values = [p['alpha'] for p in params]\n",
        "\n",
        "plt.figure(figsize=(6, 4))\n",
        "plt.plot(alpha_values, train_scores, label='Training Accuracy', marker='o')\n",
        "plt.plot(alpha_values, val_scores, label='Validation Accuracy', marker='o')\n",
        "plt.xscale('log')\n",
        "plt.xlabel('Alpha (Smoothing Parameter)')\n",
        "plt.ylabel('Accuracy')\n",
        "plt.title('Training and Validation Accuracy vs. Alpha (CountVectorizer + Naive Bayes)')\n",
        "plt.legend()\n",
        "plt.grid(True, which=\"both\", linestyle='--', alpha=0.6)\n",
        "plt.show()\n",
        "\n",
        "# For TF-IDF + Random Forest\n",
        "# Calculate training accuracy\n",
        "y_train_pred_rf = rf_default.predict(X_train_tfidf)\n",
        "train_acc_rf = accuracy_score(y_train, y_train_pred_rf)\n",
        "\n",
        "# Calculate validation accuracy (already have this as acc_rf)\n",
        "val_acc_rf = acc_rf\n",
        "\n",
        "plt.figure(figsize=(6, 4))\n",
        "plt.bar(['Training Accuracy', 'Validation Accuracy'], [train_acc_rf, val_acc_rf], color=['blue', 'green'])\n",
        "plt.ylim(0.9, 1.0)\n",
        "plt.ylabel('Accuracy')\n",
        "plt.title('Training and Validation Accuracy (TF-IDF + Random Forest)')\n",
        "plt.show()\n",
        "\n",
        "# For TF-IDF + Naive Bayes\n",
        "# Calculate training accuracy\n",
        "y_train_pred_nb_tf = nb1_model_tf.predict(X_train_tfidf)\n",
        "train_acc_nb_tf = accuracy_score(y_train, y_train_pred_nb_tf)\n",
        "\n",
        "# Calculate validation accuracy (already have this as accuracy_score(y_test, pred1_tf))\n",
        "val_acc_nb_tf = accuracy_score(y_test, pred1_tf)\n",
        "\n",
        "plt.figure(figsize=(6, 4))\n",
        "plt.bar(['Training Accuracy', 'Validation Accuracy'], [train_acc_nb_tf, val_acc_nb_tf], color=['blue', 'green'])\n",
        "plt.ylim(0.9, 1.0)\n",
        "plt.ylabel('Accuracy')\n",
        "plt.title('Training and Validation Accuracy (TF-IDF + Naive Bayes)')\n",
        "plt.show()"
      ],
      "metadata": {
        "colab": {
          "base_uri": "https://localhost:8080/",
          "height": 1000
        },
        "id": "m82r1E-YugDe",
        "outputId": "1d0b7041-b289-43c3-ca66-6ef19a34a4ad"
      },
      "id": "m82r1E-YugDe",
      "execution_count": 21,
      "outputs": [
        {
          "output_type": "display_data",
          "data": {
            "text/plain": [
              "<Figure size 600x400 with 1 Axes>"
            ],
            "image/png": "[encoded data removed]"
          },
          "metadata": {}
        },
        {
          "output_type": "display_data",
          "data": {
            "text/plain": [
              "<Figure size 600x400 with 1 Axes>"
            ],
            "image/png": "[encoded data removed]"
          },
          "metadata": {}
        },
        {
          "output_type": "display_data",
          "data": {
            "text/plain": [
              "<Figure size 600x400 with 1 Axes>"
            ],
            "image/png": "[encoded data removed]"
          },
          "metadata": {}
        }
      ]
    },
    {
      "cell_type": "code",
      "source": [],
      "metadata": {
        "id": "8sIXmDqyug8y"
      },
      "id": "8sIXmDqyug8y",
      "execution_count": null,
      "outputs": []
    },
    {
      "cell_type": "markdown",
      "source": [],
      "metadata": {
        "id": "Cnur2LNqy7M-"
      },
      "id": "Cnur2LNqy7M-"
    },
    {
      "cell_type": "code",
      "source": [
        "from sklearn.metrics import accuracy_score, f1_score\n",
        "import pandas as pd\n",
        "from IPython.display import display\n",
        "# Calculate metrics for each model (Training and Validation)\n",
        "positive_class_label = 1 # 1 for 'real'\n",
        "# CountVectorizer + Naive Bayes (Default Alpha)\n",
        "y_train_pred_cv_nb_default = nb1.predict(X_train_cv)\n",
        "train_acc_cv_nb_default = accuracy_score(y_train, y_train_pred_cv_nb_default)\n",
        "train_f1_cv_nb_default = f1_score(y_train, y_train_pred_cv_nb_default, pos_label=positive_class_label)\n",
        "\n",
        "val_acc_cv_nb_default = accuracy_score(y_test, pred1)\n",
        "val_f1_cv_nb_default = f1_score(y_test, pred1, pos_label=positive_class_label)\n",
        "\n",
        "# CountVectorizer + Naive Bayes (Best Alpha)\n",
        "y_train_pred_cv_nb_best = best_nb.predict(X_train_cv)\n",
        "train_acc_cv_nb_best = accuracy_score(y_train, y_train_pred_cv_nb_best)\n",
        "train_f1_cv_nb_best = f1_score(y_train, y_train_pred_cv_nb_best, pos_label=positive_class_label)\n",
        "\n",
        "val_acc_cv_nb_best = accuracy_score(y_test, y_pred_best)\n",
        "val_f1_cv_nb_best = f1_score(y_test, y_pred_best, pos_label=positive_class_label)\n",
        "\n",
        "# TF-IDF + Random Forest\n",
        "y_train_pred_tfidf_rf = rf_default.predict(X_train_tfidf)\n",
        "train_acc_tfidf_rf = accuracy_score(y_train, y_train_pred_tfidf_rf)\n",
        "train_f1_tfidf_rf = f1_score(y_train, y_train_pred_tfidf_rf, pos_label=positive_class_label)\n",
        "\n",
        "val_acc_tfidf_rf = accuracy_score(y_test, y_pred_rf)\n",
        "val_f1_tfidf_rf = f1_score(y_test, y_pred_rf, pos_label=positive_class_label)\n",
        "\n",
        "# TF-IDF + Naive Bayes\n",
        "y_train_pred_tfidf_nb = nb1_model_tf.predict(X_train_tfidf)\n",
        "train_acc_tfidf_nb = accuracy_score(y_train, y_train_pred_tfidf_nb)\n",
        "train_f1_tfidf_nb = f1_score(y_train, y_train_pred_tfidf_nb, pos_label=positive_class_label)\n",
        "\n",
        "val_acc_tfidf_nb = accuracy_score(y_test, pred1_tf)\n",
        "val_f1_tfidf_nb = f1_score(y_test, pred1_tf, pos_label=positive_class_label)\n",
        "\n",
        "\n",
        "# Create a dictionary to hold the comparison data\n",
        "model_comparison_data = {\n",
        "    'Model': [\n",
        "        'CountVectorizer + Naive Bayes (Default Alpha)',\n",
        "        'CountVectorizer + Naive Bayes (Best Alpha)',\n",
        "        'TF-IDF + Random Forest',\n",
        "        'TF-IDF + Naive Bayes'\n",
        "    ],\n",
        "    'Training Accuracy': [\n",
        "        train_acc_cv_nb_default,\n",
        "        train_acc_cv_nb_best,\n",
        "        train_acc_tfidf_rf,\n",
        "        train_acc_tfidf_nb\n",
        "    ],\n",
        "    'Validation Accuracy': [\n",
        "        val_acc_cv_nb_default,\n",
        "        val_acc_cv_nb_best,\n",
        "        val_acc_tfidf_rf,\n",
        "        val_acc_tfidf_nb\n",
        "    ],\n",
        "     'Training F1 Score': [ # Simplified column name\n",
        "        train_f1_cv_nb_default,\n",
        "        train_f1_cv_nb_best,\n",
        "        train_f1_tfidf_rf,\n",
        "        train_f1_tfidf_nb\n",
        "    ],\n",
        "    'Validation F1 Score': [ # Simplified column name\n",
        "        val_f1_cv_nb_default,\n",
        "        val_f1_cv_nb_best,\n",
        "        val_f1_tfidf_rf,\n",
        "        val_f1_tfidf_nb\n",
        "    ]\n",
        "}\n",
        "\n",
        "# Create the pandas DataFrame\n",
        "comparison_df = pd.DataFrame(model_comparison_data)\n",
        "\n",
        "# Sort the DataFrame by Validation Accuracy in descending order\n",
        "comparison_df_sorted = comparison_df.sort_values(by='Validation Accuracy', ascending=False)\n",
        "\n",
        "# Display the sorted table\n",
        "print(\"Model Comparison (Training and Validation Metrics, Sorted by Validation Accuracy):\")\n",
        "display(comparison_df_sorted)"
      ],
      "metadata": {
        "colab": {
          "base_uri": "https://localhost:8080/",
          "height": 192
        },
        "id": "Tnil7qV72GEp",
        "outputId": "726189d2-8b64-45d3-c32b-a4602eced088"
      },
      "id": "Tnil7qV72GEp",
      "execution_count": 22,
      "outputs": [
        {
          "output_type": "stream",
          "name": "stdout",
          "text": [
            "Model Comparison (Training and Validation Metrics, Sorted by Validation Accuracy):\n"
          ]
        },
        {
          "output_type": "display_data",
          "data": {
            "text/plain": [
              "                                           Model  Training Accuracy  \\\n",
              "1     CountVectorizer + Naive Bayes (Best Alpha)           0.950551   \n",
              "0  CountVectorizer + Naive Bayes (Default Alpha)           0.949709   \n",
              "3                           TF-IDF + Naive Bayes           0.954357   \n",
              "2                         TF-IDF + Random Forest           1.000000   \n",
              "\n",
              "   Validation Accuracy  Training F1 Score  Validation F1 Score  \n",
              "1             0.932074           0.949197             0.929761  \n",
              "0             0.930757           0.948272             0.928453  \n",
              "3             0.930171           0.952878             0.927519  \n",
              "2             0.918753           1.000000             0.916428  "
            ],
            "text/html": [
              "\n",
              "  <div id=\"df-58594fa5-d783-4214-b2c3-968e4d84b51d\" class=\"colab-df-container\">\n",
              "    <div>\n",
              "<style scoped>\n",
              "    .dataframe tbody tr th:only-of-type {\n",
              "        vertical-align: middle;\n",
              "    }\n",
              "\n",
              "    .dataframe tbody tr th {\n",
              "        vertical-align: top;\n",
              "    }\n",
              "\n",
              "    .dataframe thead th {\n",
              "        text-align: right;\n",
              "    }\n",
              "</style>\n",
              "<table border=\"1\" class=\"dataframe\">\n",
              "  <thead>\n",
              "    <tr style=\"text-align: right;\">\n",
              "      <th></th>\n",
              "      <th>Model</th>\n",
              "      <th>Training Accuracy</th>\n",
              "      <th>Validation Accuracy</th>\n",
              "      <th>Training F1 Score</th>\n",
              "      <th>Validation F1 Score</th>\n",
              "    </tr>\n",
              "  </thead>\n",
              "  <tbody>\n",
              "    <tr>\n",
              "      <th>1</th>\n",
              "      <td>CountVectorizer + Naive Bayes (Best Alpha)</td>\n",
              "      <td>0.950551</td>\n",
              "      <td>0.932074</td>\n",
              "      <td>0.949197</td>\n",
              "      <td>0.929761</td>\n",
              "    </tr>\n",
              "    <tr>\n",
              "      <th>0</th>\n",
              "      <td>CountVectorizer + Naive Bayes (Default Alpha)</td>\n",
              "      <td>0.949709</td>\n",
              "      <td>0.930757</td>\n",
              "      <td>0.948272</td>\n",
              "      <td>0.928453</td>\n",
              "    </tr>\n",
              "    <tr>\n",
              "      <th>3</th>\n",
              "      <td>TF-IDF + Naive Bayes</td>\n",
              "      <td>0.954357</td>\n",
              "      <td>0.930171</td>\n",
              "      <td>0.952878</td>\n",
              "      <td>0.927519</td>\n",
              "    </tr>\n",
              "    <tr>\n",
              "      <th>2</th>\n",
              "      <td>TF-IDF + Random Forest</td>\n",
              "      <td>1.000000</td>\n",
              "      <td>0.918753</td>\n",
              "      <td>1.000000</td>\n",
              "      <td>0.916428</td>\n",
              "    </tr>\n",
              "  </tbody>\n",
              "</table>\n",
              "</div>\n",
              "    <div class=\"colab-df-buttons\">\n",
              "\n",
              "  <div class=\"colab-df-container\">\n",
              "    <button class=\"colab-df-convert\" onclick=\"convertToInteractive('df-58594fa5-d783-4214-b2c3-968e4d84b51d')\"\n",
              "            title=\"Convert this dataframe to an interactive table.\"\n",
              "            style=\"display:none;\">\n",
              "\n",
              "  <svg xmlns=\"http://www.w3.org/2000/svg\" height=\"24px\" viewBox=\"0 -960 960 960\">\n",
              "    <path d=\"M120-120v-720h720v720H120Zm60-500h600v-160H180v160Zm220 220h160v-160H400v160Zm0 220h160v-160H400v160ZM180-400h160v-160H180v160Zm440 0h160v-160H620v160ZM180-180h160v-160H180v160Zm440 0h160v-160H620v160Z\"/>\n",
              "  </svg>\n",
              "    </button>\n",
              "\n",
              "  <style>\n",
              "    .colab-df-container {\n",
              "      display:flex;\n",
              "      gap: 12px;\n",
              "    }\n",
              "\n",
              "    .colab-df-convert {\n",
              "      background-color: #E8F0FE;\n",
              "      border: none;\n",
              "      border-radius: 50%;\n",
              "      cursor: pointer;\n",
              "      display: none;\n",
              "      fill: #1967D2;\n",
              "      height: 32px;\n",
              "      padding: 0 0 0 0;\n",
              "      width: 32px;\n",
              "    }\n",
              "\n",
              "    .colab-df-convert:hover {\n",
              "      background-color: #E2EBFA;\n",
              "      box-shadow: 0px 1px 2px rgba(60, 64, 67, 0.3), 0px 1px 3px 1px rgba(60, 64, 67, 0.15);\n",
              "      fill: #174EA6;\n",
              "    }\n",
              "\n",
              "    .colab-df-buttons div {\n",
              "      margin-bottom: 4px;\n",
              "    }\n",
              "\n",
              "    [theme=dark] .colab-df-convert {\n",
              "      background-color: #3B4455;\n",
              "      fill: #D2E3FC;\n",
              "    }\n",
              "\n",
              "    [theme=dark] .colab-df-convert:hover {\n",
              "      background-color: #434B5C;\n",
              "      box-shadow: 0px 1px 3px 1px rgba(0, 0, 0, 0.15);\n",
              "      filter: drop-shadow(0px 1px 2px rgba(0, 0, 0, 0.3));\n",
              "      fill: #FFFFFF;\n",
              "    }\n",
              "  </style>\n",
              "\n",
              "    <script>\n",
              "      const buttonEl =\n",
              "        document.querySelector('#df-58594fa5-d783-4214-b2c3-968e4d84b51d button.colab-df-convert');\n",
              "      buttonEl.style.display =\n",
              "        google.colab.kernel.accessAllowed ? 'block' : 'none';\n",
              "\n",
              "      async function convertToInteractive(key) {\n",
              "        const element = document.querySelector('#df-58594fa5-d783-4214-b2c3-968e4d84b51d');\n",
              "        const dataTable =\n",
              "          await google.colab.kernel.invokeFunction('convertToInteractive',\n",
              "                                                    [key], {});\n",
              "        if (!dataTable) return;\n",
              "\n",
              "        const docLinkHtml = 'Like what you see? Visit the ' +\n",
              "          '<a target=\"_blank\" href=https://colab.research.google.com/notebooks/data_table.ipynb>data table notebook</a>'\n",
              "          + ' to learn more about interactive tables.';\n",
              "        element.innerHTML = '';\n",
              "        dataTable['output_type'] = 'display_data';\n",
              "        await google.colab.output.renderOutput(dataTable, element);\n",
              "        const docLink = document.createElement('div');\n",
              "        docLink.innerHTML = docLinkHtml;\n",
              "        element.appendChild(docLink);\n",
              "      }\n",
              "    </script>\n",
              "  </div>\n",
              "\n",
              "\n",
              "    <div id=\"df-268d6c84-a7b5-43d4-ad4a-3e1db0859ce4\">\n",
              "      <button class=\"colab-df-quickchart\" onclick=\"quickchart('df-268d6c84-a7b5-43d4-ad4a-3e1db0859ce4')\"\n",
              "                title=\"Suggest charts\"\n",
              "                style=\"display:none;\">\n",
              "\n",
              "<svg xmlns=\"http://www.w3.org/2000/svg\" height=\"24px\"viewBox=\"0 0 24 24\"\n",
              "     width=\"24px\">\n",
              "    <g>\n",
              "        <path d=\"M19 3H5c-1.1 0-2 .9-2 2v14c0 1.1.9 2 2 2h14c1.1 0 2-.9 2-2V5c0-1.1-.9-2-2-2zM9 17H7v-7h2v7zm4 0h-2V7h2v10zm4 0h-2v-4h2v4z\"/>\n",
              "    </g>\n",
              "</svg>\n",
              "      </button>\n",
              "\n",
              "<style>\n",
              "  .colab-df-quickchart {\n",
              "      --bg-color: #E8F0FE;\n",
              "      --fill-color: #1967D2;\n",
              "      --hover-bg-color: #E2EBFA;\n",
              "      --hover-fill-color: #174EA6;\n",
              "      --disabled-fill-color: #AAA;\n",
              "      --disabled-bg-color: #DDD;\n",
              "  }\n",
              "\n",
              "  [theme=dark] .colab-df-quickchart {\n",
              "      --bg-color: #3B4455;\n",
              "      --fill-color: #D2E3FC;\n",
              "      --hover-bg-color: #434B5C;\n",
              "      --hover-fill-color: #FFFFFF;\n",
              "      --disabled-bg-color: #3B4455;\n",
              "      --disabled-fill-color: #666;\n",
              "  }\n",
              "\n",
              "  .colab-df-quickchart {\n",
              "    background-color: var(--bg-color);\n",
              "    border: none;\n",
              "    border-radius: 50%;\n",
              "    cursor: pointer;\n",
              "    display: none;\n",
              "    fill: var(--fill-color);\n",
              "    height: 32px;\n",
              "    padding: 0;\n",
              "    width: 32px;\n",
              "  }\n",
              "\n",
              "  .colab-df-quickchart:hover {\n",
              "    background-color: var(--hover-bg-color);\n",
              "    box-shadow: 0 1px 2px rgba(60, 64, 67, 0.3), 0 1px 3px 1px rgba(60, 64, 67, 0.15);\n",
              "    fill: var(--button-hover-fill-color);\n",
              "  }\n",
              "\n",
              "  .colab-df-quickchart-complete:disabled,\n",
              "  .colab-df-quickchart-complete:disabled:hover {\n",
              "    background-color: var(--disabled-bg-color);\n",
              "    fill: var(--disabled-fill-color);\n",
              "    box-shadow: none;\n",
              "  }\n",
              "\n",
              "  .colab-df-spinner {\n",
              "    border: 2px solid var(--fill-color);\n",
              "    border-color: transparent;\n",
              "    border-bottom-color: var(--fill-color);\n",
              "    animation:\n",
              "      spin 1s steps(1) infinite;\n",
              "  }\n",
              "\n",
              "  @keyframes spin {\n",
              "    0% {\n",
              "      border-color: transparent;\n",
              "      border-bottom-color: var(--fill-color);\n",
              "      border-left-color: var(--fill-color);\n",
              "    }\n",
              "    20% {\n",
              "      border-color: transparent;\n",
              "      border-left-color: var(--fill-color);\n",
              "      border-top-color: var(--fill-color);\n",
              "    }\n",
              "    30% {\n",
              "      border-color: transparent;\n",
              "      border-left-color: var(--fill-color);\n",
              "      border-top-color: var(--fill-color);\n",
              "      border-right-color: var(--fill-color);\n",
              "    }\n",
              "    40% {\n",
              "      border-color: transparent;\n",
              "      border-right-color: var(--fill-color);\n",
              "      border-top-color: var(--fill-color);\n",
              "    }\n",
              "    60% {\n",
              "      border-color: transparent;\n",
              "      border-right-color: var(--fill-color);\n",
              "    }\n",
              "    80% {\n",
              "      border-color: transparent;\n",
              "      border-right-color: var(--fill-color);\n",
              "      border-bottom-color: var(--fill-color);\n",
              "    }\n",
              "    90% {\n",
              "      border-color: transparent;\n",
              "      border-bottom-color: var(--fill-color);\n",
              "    }\n",
              "  }\n",
              "</style>\n",
              "\n",
              "      <script>\n",
              "        async function quickchart(key) {\n",
              "          const quickchartButtonEl =\n",
              "            document.querySelector('#' + key + ' button');\n",
              "          quickchartButtonEl.disabled = true;  // To prevent multiple clicks.\n",
              "          quickchartButtonEl.classList.add('colab-df-spinner');\n",
              "          try {\n",
              "            const charts = await google.colab.kernel.invokeFunction(\n",
              "                'suggestCharts', [key], {});\n",
              "          } catch (error) {\n",
              "            console.error('Error during call to suggestCharts:', error);\n",
              "          }\n",
              "          quickchartButtonEl.classList.remove('colab-df-spinner');\n",
              "          quickchartButtonEl.classList.add('colab-df-quickchart-complete');\n",
              "        }\n",
              "        (() => {\n",
              "          let quickchartButtonEl =\n",
              "            document.querySelector('#df-268d6c84-a7b5-43d4-ad4a-3e1db0859ce4 button');\n",
              "          quickchartButtonEl.style.display =\n",
              "            google.colab.kernel.accessAllowed ? 'block' : 'none';\n",
              "        })();\n",
              "      </script>\n",
              "    </div>\n",
              "\n",
              "  <div id=\"id_43a4b28e-de58-49a3-8e3c-861440378678\">\n",
              "    <style>\n",
              "      .colab-df-generate {\n",
              "        background-color: #E8F0FE;\n",
              "        border: none;\n",
              "        border-radius: 50%;\n",
              "        cursor: pointer;\n",
              "        display: none;\n",
              "        fill: #1967D2;\n",
              "        height: 32px;\n",
              "        padding: 0 0 0 0;\n",
              "        width: 32px;\n",
              "      }\n",
              "\n",
              "      .colab-df-generate:hover {\n",
              "        background-color: #E2EBFA;\n",
              "        box-shadow: 0px 1px 2px rgba(60, 64, 67, 0.3), 0px 1px 3px 1px rgba(60, 64, 67, 0.15);\n",
              "        fill: #174EA6;\n",
              "      }\n",
              "\n",
              "      [theme=dark] .colab-df-generate {\n",
              "        background-color: #3B4455;\n",
              "        fill: #D2E3FC;\n",
              "      }\n",
              "\n",
              "      [theme=dark] .colab-df-generate:hover {\n",
              "        background-color: #434B5C;\n",
              "        box-shadow: 0px 1px 3px 1px rgba(0, 0, 0, 0.15);\n",
              "        filter: drop-shadow(0px 1px 2px rgba(0, 0, 0, 0.3));\n",
              "        fill: #FFFFFF;\n",
              "      }\n",
              "    </style>\n",
              "    <button class=\"colab-df-generate\" onclick=\"generateWithVariable('comparison_df_sorted')\"\n",
              "            title=\"Generate code using this dataframe.\"\n",
              "            style=\"display:none;\">\n",
              "\n",
              "  <svg xmlns=\"http://www.w3.org/2000/svg\" height=\"24px\"viewBox=\"0 0 24 24\"\n",
              "       width=\"24px\">\n",
              "    <path d=\"M7,19H8.4L18.45,9,17,7.55,7,17.6ZM5,21V16.75L18.45,3.32a2,2,0,0,1,2.83,0l1.4,1.43a1.91,1.91,0,0,1,.58,1.4,1.91,1.91,0,0,1-.58,1.4L9.25,21ZM18.45,9,17,7.55Zm-12,3A5.31,5.31,0,0,0,4.9,8.1,5.31,5.31,0,0,0,1,6.5,5.31,5.31,0,0,0,4.9,4.9,5.31,5.31,0,0,0,6.5,1,5.31,5.31,0,0,0,8.1,4.9,5.31,5.31,0,0,0,12,6.5,5.46,5.46,0,0,0,6.5,12Z\"/>\n",
              "  </svg>\n",
              "    </button>\n",
              "    <script>\n",
              "      (() => {\n",
              "      const buttonEl =\n",
              "        document.querySelector('#id_43a4b28e-de58-49a3-8e3c-861440378678 button.colab-df-generate');\n",
              "      buttonEl.style.display =\n",
              "        google.colab.kernel.accessAllowed ? 'block' : 'none';\n",
              "\n",
              "      buttonEl.onclick = () => {\n",
              "        google.colab.notebook.generateWithVariable('comparison_df_sorted');\n",
              "      }\n",
              "      })();\n",
              "    </script>\n",
              "  </div>\n",
              "\n",
              "    </div>\n",
              "  </div>\n"
            ],
            "application/vnd.google.colaboratory.intrinsic+json": {
              "type": "dataframe",
              "variable_name": "comparison_df_sorted",
              "summary": "{\n  \"name\": \"comparison_df_sorted\",\n  \"rows\": 4,\n  \"fields\": [\n    {\n      \"column\": \"Model\",\n      \"properties\": {\n        \"dtype\": \"string\",\n        \"num_unique_values\": 4,\n        \"samples\": [\n          \"CountVectorizer + Naive Bayes (Default Alpha)\",\n          \"TF-IDF + Random Forest\",\n          \"CountVectorizer + Naive Bayes (Best Alpha)\"\n        ],\n        \"semantic_type\": \"\",\n        \"description\": \"\"\n      }\n    },\n    {\n      \"column\": \"Training Accuracy\",\n      \"properties\": {\n        \"dtype\": \"number\",\n        \"std\": 0.02431468973734496,\n        \"min\": 0.9497090150433732,\n        \"max\": 1.0,\n        \"num_unique_values\": 4,\n        \"samples\": [\n          0.9497090150433732,\n          1.0,\n          0.9505508583141173\n        ],\n        \"semantic_type\": \"\",\n        \"description\": \"\"\n      }\n    },\n    {\n      \"column\": \"Validation Accuracy\",\n      \"properties\": {\n        \"dtype\": \"number\",\n        \"std\": 0.006175539153400173,\n        \"min\": 0.9187527448397014,\n        \"max\": 0.9320743668569755,\n        \"num_unique_values\": 4,\n        \"samples\": [\n          0.9307568438003221,\n          0.9187527448397014,\n          0.9320743668569755\n        ],\n        \"semantic_type\": \"\",\n        \"description\": \"\"\n      }\n    },\n    {\n      \"column\": \"Training F1 Score\",\n      \"properties\": {\n        \"dtype\": \"number\",\n        \"std\": 0.025021410915549876,\n        \"min\": 0.9482719674723289,\n        \"max\": 1.0,\n        \"num_unique_values\": 4,\n        \"samples\": [\n          0.9482719674723289,\n          1.0,\n          0.9491971571466176\n        ],\n        \"semantic_type\": \"\",\n        \"description\": \"\"\n      }\n    },\n    {\n      \"column\": \"Validation F1 Score\",\n      \"properties\": {\n        \"dtype\": \"number\",\n        \"std\": 0.006143760857065194,\n        \"min\": 0.9164282487577172,\n        \"max\": 0.9297608234937935,\n        \"num_unique_values\": 4,\n        \"samples\": [\n          0.9284525790349417,\n          0.9164282487577172,\n          0.9297608234937935\n        ],\n        \"semantic_type\": \"\",\n        \"description\": \"\"\n      }\n    }\n  ]\n}"
            }
          },
          "metadata": {}
        }
      ]
    },
    {
      "cell_type": "markdown",
      "source": [
        "In this project, we compared the performance of multiple machine learning models on a text classification task using different feature extraction methods (CountVectorizer and TF-IDF). The goal was to evaluate how well each model generalizes on unseen validation data."
      ],
      "metadata": {
        "id": "28us_XANwl9P"
      },
      "id": "28us_XANwl9P"
    },
    {
      "cell_type": "markdown",
      "source": [
        "##Why Random Forest with TF-IDF Underperformed"
      ],
      "metadata": {
        "id": "DHATlAhFw0ED"
      },
      "id": "DHATlAhFw0ED"
    },
    {
      "cell_type": "markdown",
      "source": [
        " Overfitting: Random Forest achieved perfect training performance but significantly lower validation accuracy and F1 score. This is a classic case of overfitting, where the model memorizes training data patterns—including noise—without generalizing to new data.\n",
        "\n",
        "High Dimensionality: TF-IDF vectorization creates a large number of features (one for each unique term). This sparse and high-dimensional data is not ideal for Random Forests, which can struggle in such settings without aggressive regularization.\n",
        "\n",
        "No Hyperparameter Tuning: Using default hyperparameters (e.g., large max_depth, many trees) adds complexity. Without tuning parameters like max_depth, min_samples_leaf, or n_estimators, the model becomes overly complex and prone to overfitting."
      ],
      "metadata": {
        "id": "cSl1u38twuSX"
      },
      "id": "cSl1u38twuSX"
    },
    {
      "cell_type": "markdown",
      "source": [
        "## Why Naive Bayes with CountVectorizer Worked Well"
      ],
      "metadata": {
        "id": "qS9zRjeVw--B"
      },
      "id": "qS9zRjeVw--B"
    },
    {
      "cell_type": "markdown",
      "source": [
        "Simplicity and Robustness: Naive Bayes is a simple, probabilistic model that assumes independence between features. Despite the assumption being naive, it works exceptionally well in text classification tasks.\n",
        "\n",
        "Suited for Sparse Data: It handles high-dimensional, sparse input (like that from CountVectorizer or TF-IDF) very efficiently.\n",
        "\n",
        "Effective with Bag-of-Words: CountVectorizer captures raw word frequencies, which align well with the probabilistic foundations of Naive Bayes.\n",
        "\n",
        "Hyperparameter Tuning: Optimizing the smoothing parameter (alpha) using GridSearchCV significantly improved performance and reduced overfitting."
      ],
      "metadata": {
        "id": "lWnkyWl5w5gE"
      },
      "id": "lWnkyWl5w5gE"
    },
    {
      "cell_type": "markdown",
      "source": [
        "#Saving Model (TF-IDF and Random Forest)"
      ],
      "metadata": {
        "id": "gwO65NRu6j7E"
      },
      "id": "gwO65NRu6j7E"
    },
    {
      "cell_type": "markdown",
      "source": [
        "Save the trained TF-IDF vectorizer and Random Forest model to disk using pickle, and download them to y local machine for future use (e.g., in another Colab notebook).\n"
      ],
      "metadata": {
        "id": "5_2PycXd6RrH"
      },
      "id": "5_2PycXd6RrH"
    },
    {
      "cell_type": "code",
      "source": [
        "import pickle\n",
        "from google.colab import files\n",
        "\n",
        "# Define filenames for your objects\n",
        "cv_filename = 'cv.pkl'\n",
        "model_filename = 'best_nb.pkl'\n",
        "\n",
        "# Save the TF-IDF vectorizer\n",
        "with open(cv_filename, 'wb') as file:\n",
        "    pickle.dump(cv, file)\n",
        "\n",
        "# Save the trained Random Forest model\n",
        "with open(model_filename, 'wb') as file:\n",
        "    pickle.dump(best_nb, file)\n",
        "\n",
        "# Download both files\n",
        "files.download(cv_filename)\n",
        "files.download(model_filename)"
      ],
      "metadata": {
        "colab": {
          "base_uri": "https://localhost:8080/",
          "height": 17
        },
        "id": "yBrl6RFp50mB",
        "outputId": "20d9ecb5-12da-4b0c-a64d-22e090060259"
      },
      "id": "yBrl6RFp50mB",
      "execution_count": 23,
      "outputs": [
        {
          "output_type": "display_data",
          "data": {
            "text/plain": [
              "<IPython.core.display.Javascript object>"
            ],
            "application/javascript": [
              "\n",
              "    async function download(id, filename, size) {\n",
              "      if (!google.colab.kernel.accessAllowed) {\n",
              "        return;\n",
              "      }\n",
              "      const div = document.createElement('div');\n",
              "      const label = document.createElement('label');\n",
              "      label.textContent = `Downloading \"${filename}\": `;\n",
              "      div.appendChild(label);\n",
              "      const progress = document.createElement('progress');\n",
              "      progress.max = size;\n",
              "      div.appendChild(progress);\n",
              "      document.body.appendChild(div);\n",
              "\n",
              "      const buffers = [];\n",
              "      let downloaded = 0;\n",
              "\n",
              "      const channel = await google.colab.kernel.comms.open(id);\n",
              "      // Send a message to notify the kernel that we're ready.\n",
              "      channel.send({})\n",
              "\n",
              "      for await (const message of channel.messages) {\n",
              "        // Send a message to notify the kernel that we're ready.\n",
              "        channel.send({})\n",
              "        if (message.buffers) {\n",
              "          for (const buffer of message.buffers) {\n",
              "            buffers.push(buffer);\n",
              "            downloaded += buffer.byteLength;\n",
              "            progress.value = downloaded;\n",
              "          }\n",
              "        }\n",
              "      }\n",
              "      const blob = new Blob(buffers, {type: 'application/binary'});\n",
              "      const a = document.createElement('a');\n",
              "      a.href = window.URL.createObjectURL(blob);\n",
              "      a.download = filename;\n",
              "      div.appendChild(a);\n",
              "      a.click();\n",
              "      div.remove();\n",
              "    }\n",
              "  "
            ]
          },
          "metadata": {}
        },
        {
          "output_type": "display_data",
          "data": {
            "text/plain": [
              "<IPython.core.display.Javascript object>"
            ],
            "application/javascript": [
              "download(\"download_bcd42b85-12e6-4296-905b-6d298ee007e6\", \"cv.pkl\", 239468)"
            ]
          },
          "metadata": {}
        },
        {
          "output_type": "display_data",
          "data": {
            "text/plain": [
              "<IPython.core.display.Javascript object>"
            ],
            "application/javascript": [
              "\n",
              "    async function download(id, filename, size) {\n",
              "      if (!google.colab.kernel.accessAllowed) {\n",
              "        return;\n",
              "      }\n",
              "      const div = document.createElement('div');\n",
              "      const label = document.createElement('label');\n",
              "      label.textContent = `Downloading \"${filename}\": `;\n",
              "      div.appendChild(label);\n",
              "      const progress = document.createElement('progress');\n",
              "      progress.max = size;\n",
              "      div.appendChild(progress);\n",
              "      document.body.appendChild(div);\n",
              "\n",
              "      const buffers = [];\n",
              "      let downloaded = 0;\n",
              "\n",
              "      const channel = await google.colab.kernel.comms.open(id);\n",
              "      // Send a message to notify the kernel that we're ready.\n",
              "      channel.send({})\n",
              "\n",
              "      for await (const message of channel.messages) {\n",
              "        // Send a message to notify the kernel that we're ready.\n",
              "        channel.send({})\n",
              "        if (message.buffers) {\n",
              "          for (const buffer of message.buffers) {\n",
              "            buffers.push(buffer);\n",
              "            downloaded += buffer.byteLength;\n",
              "            progress.value = downloaded;\n",
              "          }\n",
              "        }\n",
              "      }\n",
              "      const blob = new Blob(buffers, {type: 'application/binary'});\n",
              "      const a = document.createElement('a');\n",
              "      a.href = window.URL.createObjectURL(blob);\n",
              "      a.download = filename;\n",
              "      div.appendChild(a);\n",
              "      a.click();\n",
              "      div.remove();\n",
              "    }\n",
              "  "
            ]
          },
          "metadata": {}
        },
        {
          "output_type": "display_data",
          "data": {
            "text/plain": [
              "<IPython.core.display.Javascript object>"
            ],
            "application/javascript": [
              "download(\"download_608a5e67-ad4d-4b21-aa19-564f498d5b85\", \"best_nb.pkl\", 557161)"
            ]
          },
          "metadata": {}
        }
      ]
    },
    {
      "cell_type": "code",
      "source": [],
      "metadata": {
        "id": "KNmTqzZVa3uJ"
      },
      "id": "KNmTqzZVa3uJ",
      "execution_count": null,
      "outputs": []
    }
  ],
  "metadata": {
    "kernelspec": {
      "display_name": "Python 3",
      "name": "python3"
    },
    "language_info": {
      "codemirror_mode": {
        "name": "ipython",
        "version": 3
      },
      "file_extension": ".py",
      "mimetype": "text/x-python",
      "name": "python",
      "nbconvert_exporter": "python",
      "pygments_lexer": "ipython3",
      "version": "3.11.5"
    },
    "colab": {
      "provenance": [],
      "gpuType": "T4"
    },
    "accelerator": "GPU"
  },
  "nbformat": 4,
  "nbformat_minor": 5
}