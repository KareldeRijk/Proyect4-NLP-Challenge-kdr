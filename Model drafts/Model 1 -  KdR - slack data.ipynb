{
  "cells": [
    {
      "cell_type": "markdown",
      "id": "0018ea7f",
      "metadata": {},
      "source": [
        "# In this notebook, we will explore the dataset of news headlines and build a model to try and predict whether these headlines are fake news or not. We start by loading the dataset, and performing a preliminary analysis. After that, we \n",
        "# will preprocess the data by tokenizing it, removing stop words, punctuation, and other noise. We finish preprocessing by lemmatizing the words. We chose lemmatization over stemming because it is more accurate and preserves the meaning of the words better. Next, we try two different methods of feature extraction: CountVectorizer and TF-IDF. \n",
        "# We apply these methods to the preprocessed data, and then train a Naive Bayes classifier and a Random Forest classifier on the data. We finish by evaluating the performance of the models using accuracy, precision, recall and F1_score. "
      ]
    },
    {
      "cell_type": "code",
      "execution_count": 13,
      "id": "65a466f2",
      "metadata": {},
      "outputs": [
        {
          "name": "stderr",
          "output_type": "stream",
          "text": [
            "[nltk_data] Downloading package stopwords to\n",
            "[nltk_data]     C:\\Users\\karel\\AppData\\Roaming\\nltk_data...\n",
            "[nltk_data]   Package stopwords is already up-to-date!\n",
            "[nltk_data] Downloading package wordnet to\n",
            "[nltk_data]     C:\\Users\\karel\\AppData\\Roaming\\nltk_data...\n",
            "[nltk_data]   Package wordnet is already up-to-date!\n"
          ]
        }
      ],
      "source": [
        "# Step 1: import the necessary libraries\n",
        "# Data handling\n",
        "import pandas as pd\n",
        "import numpy as np\n",
        "\n",
        "# Text preprocessing\n",
        "import re\n",
        "import string\n",
        "from nltk.corpus import stopwords\n",
        "from nltk.stem import PorterStemmer, WordNetLemmatizer\n",
        "import nltk\n",
        "nltk.download('stopwords')\n",
        "nltk.download('wordnet')\n",
        "\n",
        "# Feature extraction\n",
        "from sklearn.feature_extraction.text import CountVectorizer, TfidfVectorizer\n",
        "\n",
        "# Machine learning models\n",
        "from sklearn.naive_bayes import MultinomialNB\n",
        "from sklearn.ensemble import RandomForestClassifier\n",
        "\n",
        "# Model evaluation\n",
        "from sklearn.model_selection import train_test_split\n",
        "from sklearn.metrics import accuracy_score, confusion_matrix, classification_report\n",
        "\n",
        "# Optional - Visualization\n",
        "import matplotlib.pyplot as plt\n",
        "import seaborn as sns\n"
      ]
    },
    {
      "cell_type": "markdown",
      "id": "mLT7DW0yepxG",
      "metadata": {
        "id": "mLT7DW0yepxG"
      },
      "source": [
        "#Step 2: Reading the data and preliminary analysis"
      ]
    },
    {
      "cell_type": "code",
      "execution_count": 14,
      "id": "ef5a2209",
      "metadata": {
        "colab": {
          "base_uri": "https://localhost:8080/",
          "height": 206
        },
        "id": "ef5a2209",
        "outputId": "1cec74bf-5e0d-4ae0-e934-3152f0640e04"
      },
      "outputs": [
        {
          "data": {
            "text/html": [
              "<div>\n",
              "<style scoped>\n",
              "    .dataframe tbody tr th:only-of-type {\n",
              "        vertical-align: middle;\n",
              "    }\n",
              "\n",
              "    .dataframe tbody tr th {\n",
              "        vertical-align: top;\n",
              "    }\n",
              "\n",
              "    .dataframe thead th {\n",
              "        text-align: right;\n",
              "    }\n",
              "</style>\n",
              "<table border=\"1\" class=\"dataframe\">\n",
              "  <thead>\n",
              "    <tr style=\"text-align: right;\">\n",
              "      <th></th>\n",
              "      <th>label</th>\n",
              "      <th>text</th>\n",
              "    </tr>\n",
              "  </thead>\n",
              "  <tbody>\n",
              "    <tr>\n",
              "      <th>0</th>\n",
              "      <td>0</td>\n",
              "      <td>donald trump sends out embarrassing new year‚s...</td>\n",
              "    </tr>\n",
              "    <tr>\n",
              "      <th>1</th>\n",
              "      <td>0</td>\n",
              "      <td>drunk bragging trump staffer started russian c...</td>\n",
              "    </tr>\n",
              "    <tr>\n",
              "      <th>2</th>\n",
              "      <td>0</td>\n",
              "      <td>sheriff david clarke becomes an internet joke ...</td>\n",
              "    </tr>\n",
              "    <tr>\n",
              "      <th>3</th>\n",
              "      <td>0</td>\n",
              "      <td>trump is so obsessed he even has obama‚s name ...</td>\n",
              "    </tr>\n",
              "    <tr>\n",
              "      <th>4</th>\n",
              "      <td>0</td>\n",
              "      <td>pope francis just called out donald trump duri...</td>\n",
              "    </tr>\n",
              "  </tbody>\n",
              "</table>\n",
              "</div>"
            ],
            "text/plain": [
              "   label                                               text\n",
              "0      0  donald trump sends out embarrassing new year‚s...\n",
              "1      0  drunk bragging trump staffer started russian c...\n",
              "2      0  sheriff david clarke becomes an internet joke ...\n",
              "3      0  trump is so obsessed he even has obama‚s name ...\n",
              "4      0  pope francis just called out donald trump duri..."
            ]
          },
          "execution_count": 14,
          "metadata": {},
          "output_type": "execute_result"
        }
      ],
      "source": [
        "dataframe = pd.read_csv(\"Dataset_slack/training_data_lowercase.csv\", sep='\\t', header=None)\n",
        "dataframe.columns = ['label', 'text']\n",
        "dataframe.head()"
      ]
    },
    {
      "cell_type": "markdown",
      "id": "MwcqQhA1i0r8",
      "metadata": {
        "id": "MwcqQhA1i0r8"
      },
      "source": [
        "#Preprocessing on data\n",
        "\n",
        "*   checking for nulls\n",
        "* Creating a function to tokenize, remove stop words, remove punctuation and lemmatize the data\n",
        "\n"
      ]
    },
    {
      "cell_type": "code",
      "execution_count": null,
      "id": "NtQ5mxvlezEx",
      "metadata": {
        "id": "NtQ5mxvlezEx"
      },
      "outputs": [],
      "source": [
        "# Creating a copy of the dataframe for processing\n",
        "df = dataframe.copy()\n"
      ]
    },
    {
      "cell_type": "markdown",
      "id": "NzmceE6Lj4pc",
      "metadata": {
        "id": "NzmceE6Lj4pc"
      },
      "source": [
        "Checking the class imbalance"
      ]
    },
    {
      "cell_type": "code",
      "execution_count": 16,
      "id": "NZc_9iyXdZvw",
      "metadata": {
        "colab": {
          "base_uri": "https://localhost:8080/",
          "height": 178
        },
        "id": "NZc_9iyXdZvw",
        "outputId": "4e59cb47-b71c-4397-bf8f-c934afd511b6"
      },
      "outputs": [
        {
          "data": {
            "text/plain": [
              "label\n",
              "0    17572\n",
              "1    16580\n",
              "Name: count, dtype: int64"
            ]
          },
          "execution_count": 16,
          "metadata": {},
          "output_type": "execute_result"
        }
      ],
      "source": [
        "df[\"label\"].value_counts() #It seems classes are balanced"
      ]
    },
    {
      "cell_type": "markdown",
      "id": "FIcTe-xNkOUT",
      "metadata": {
        "id": "FIcTe-xNkOUT"
      },
      "source": [
        "Checking for nulls in the dataset"
      ]
    },
    {
      "cell_type": "code",
      "execution_count": 17,
      "id": "uygkyRfekBiT",
      "metadata": {
        "colab": {
          "base_uri": "https://localhost:8080/",
          "height": 147
        },
        "id": "uygkyRfekBiT",
        "outputId": "d36d3b21-51ef-427b-bcad-9a589ea94f9b"
      },
      "outputs": [
        {
          "data": {
            "text/plain": [
              "label    0\n",
              "text     0\n",
              "dtype: int64"
            ]
          },
          "execution_count": 17,
          "metadata": {},
          "output_type": "execute_result"
        }
      ],
      "source": [
        "df.isnull().sum() # there is no null value"
      ]
    },
    {
      "cell_type": "markdown",
      "id": "NxLAhh8pmpp7",
      "metadata": {
        "id": "NxLAhh8pmpp7"
      },
      "source": [
        "Step 3: Create a Function for all data cleaning"
      ]
    },
    {
      "cell_type": "code",
      "execution_count": 19,
      "id": "ebb76b8d",
      "metadata": {},
      "outputs": [
        {
          "name": "stderr",
          "output_type": "stream",
          "text": [
            "[nltk_data] Downloading package punkt to\n",
            "[nltk_data]     C:\\Users\\karel\\AppData\\Roaming\\nltk_data...\n",
            "[nltk_data]   Package punkt is already up-to-date!\n",
            "[nltk_data] Downloading package stopwords to\n",
            "[nltk_data]     C:\\Users\\karel\\AppData\\Roaming\\nltk_data...\n",
            "[nltk_data]   Package stopwords is already up-to-date!\n",
            "[nltk_data] Downloading package wordnet to\n",
            "[nltk_data]     C:\\Users\\karel\\AppData\\Roaming\\nltk_data...\n",
            "[nltk_data]   Package wordnet is already up-to-date!\n",
            "[nltk_data] Downloading package punkt_tab to\n",
            "[nltk_data]     C:\\Users\\karel\\AppData\\Roaming\\nltk_data...\n",
            "[nltk_data]   Package punkt_tab is already up-to-date!\n"
          ]
        }
      ],
      "source": [
        "import re\n",
        "import string\n",
        "import nltk\n",
        "from nltk.tokenize import word_tokenize\n",
        "from nltk.corpus import stopwords\n",
        "from nltk.stem import WordNetLemmatizer\n",
        "nltk.download('punkt')\n",
        "nltk.download('stopwords')\n",
        "nltk.download('wordnet')\n",
        "# Download the 'punkt_tab' resource\n",
        "nltk.download('punkt_tab')\n",
        "\n",
        "\n",
        "def text_preprocessing_pipeline(text):\n",
        "    # Step 1: Tokenize the text\n",
        "    tokens = word_tokenize(text)\n",
        "\n",
        "    # Step 2: Remove stopwords\n",
        "    stop_words = set(stopwords.words('english'))\n",
        "    tokens = [word.lower() for word in tokens if word.lower() not in stop_words]\n",
        "\n",
        "    # Step 3: Remove punctuation and numbers\n",
        "    tokens = [re.sub(r'[^a-zA-Z]', '', word) for word in tokens]  # Keep only letters\n",
        "    tokens = [word for word in tokens if word]  # Remove empty strings\n",
        "\n",
        "    # Step 4: Lemmatization\n",
        "    lemmatizer = WordNetLemmatizer()\n",
        "    lemmatized_tokens = [lemmatizer.lemmatize(word) for word in tokens]\n",
        "\n",
        "    return ' '.join(lemmatized_tokens)"
      ]
    },
    {
      "cell_type": "code",
      "execution_count": 20,
      "id": "hV-QvTlhmzyH",
      "metadata": {
        "id": "hV-QvTlhmzyH"
      },
      "outputs": [],
      "source": [
        "# clean the text column using the preprocessing pipeline and store the results in a new column\n",
        "df['clean_text'] = df['text'].apply(text_preprocessing_pipeline)"
      ]
    },
    {
      "cell_type": "code",
      "execution_count": 21,
      "id": "2VECwQhapNz5",
      "metadata": {
        "colab": {
          "base_uri": "https://localhost:8080/",
          "height": 424
        },
        "id": "2VECwQhapNz5",
        "outputId": "2183b66f-a8f9-44ce-ac26-ce13b7d3a89e"
      },
      "outputs": [
        {
          "name": "stdout",
          "output_type": "stream",
          "text": [
            "                                          clean_text  label\n",
            "0  donald trump sends embarrassing new year eve m...      0\n",
            "1  drunk bragging trump staffer started russian c...      0\n",
            "2  sheriff david clarke becomes internet joke thr...      0\n",
            "3  trump obsessed even obamas name coded website ...      0\n",
            "4  pope francis called donald trump christmas speech      0\n",
            "(34152, 2)\n"
          ]
        }
      ],
      "source": [
        "# Create a new DataFrame with the cleaned text \n",
        "cleaned_df = pd.DataFrame({\n",
        "    'clean_text': df['clean_text'],\n",
        "    'label': df['label']\n",
        "})\n",
        "\n",
        "print(cleaned_df.head())\n",
        "print(cleaned_df.shape)"
      ]
    },
    {
      "cell_type": "markdown",
      "id": "5npliy60qRpF",
      "metadata": {
        "id": "5npliy60qRpF"
      },
      "source": [
        "# Train Test Split"
      ]
    },
    {
      "cell_type": "code",
      "execution_count": 23,
      "id": "KU2S7vHim-cG",
      "metadata": {
        "id": "KU2S7vHim-cG"
      },
      "outputs": [],
      "source": [
        "X = cleaned_df['clean_text']  # Features: cleaned text and title, concatenated text and title columns\n",
        "y = cleaned_df['label']  # 'fake' or 'real'\n",
        "\n",
        "X_train, X_test, y_train, y_test = train_test_split(X, y, test_size=0.2, random_state=42)"
      ]
    },
    {
      "cell_type": "markdown",
      "id": "qOgIZbZVqVtq",
      "metadata": {
        "id": "qOgIZbZVqVtq"
      },
      "source": [
        "#Model 1: CountVectrorizer + Naive Bayes Classifier"
      ]
    },
    {
      "cell_type": "code",
      "execution_count": 24,
      "id": "TvJsEtP-p-FS",
      "metadata": {
        "id": "TvJsEtP-p-FS"
      },
      "outputs": [],
      "source": [
        "cv = CountVectorizer(stop_words='english')\n",
        "X_train_cv = cv.fit_transform(X_train)\n",
        "X_test_cv = cv.transform(X_test)"
      ]
    },
    {
      "cell_type": "code",
      "execution_count": 25,
      "id": "_h2aGS5Sp5J1",
      "metadata": {
        "colab": {
          "base_uri": "https://localhost:8080/"
        },
        "id": "_h2aGS5Sp5J1",
        "outputId": "384c3020-060d-4a7d-e3de-8a3414a95eed"
      },
      "outputs": [
        {
          "name": "stdout",
          "output_type": "stream",
          "text": [
            "Model 1 Accuracy: 0.9307568438003221\n"
          ]
        }
      ],
      "source": [
        "nb1 = MultinomialNB()\n",
        "nb1.fit(X_train_cv, y_train)\n",
        "pred1 = nb1.predict(X_test_cv)\n",
        "\n",
        "print(\"Model 1 Accuracy:\", accuracy_score(y_test, pred1))"
      ]
    },
    {
      "cell_type": "code",
      "execution_count": 26,
      "id": "Gx12_XcXqkan",
      "metadata": {
        "colab": {
          "base_uri": "https://localhost:8080/"
        },
        "id": "Gx12_XcXqkan",
        "outputId": "c6aea812-81e1-4178-9976-a9387164c77e"
      },
      "outputs": [
        {
          "data": {
            "text/plain": [
              "array([[3289,  240],\n",
              "       [ 233, 3069]])"
            ]
          },
          "execution_count": 26,
          "metadata": {},
          "output_type": "execute_result"
        }
      ],
      "source": [
        "confusion_matrix(y_test, pred1)"
      ]
    },
    {
      "cell_type": "code",
      "execution_count": 27,
      "id": "82hxM_W00DUD",
      "metadata": {
        "colab": {
          "base_uri": "https://localhost:8080/"
        },
        "id": "82hxM_W00DUD",
        "outputId": "1afd8113-fc8c-4582-eecf-f7abe1ed2ce6"
      },
      "outputs": [
        {
          "data": {
            "text/plain": [
              "0.9307568438003221"
            ]
          },
          "execution_count": 27,
          "metadata": {},
          "output_type": "execute_result"
        }
      ],
      "source": [
        "nb1.score(X_test_cv, y_test)"
      ]
    },
    {
      "cell_type": "code",
      "execution_count": 28,
      "id": "rTXkKmZkqnNi",
      "metadata": {
        "colab": {
          "base_uri": "https://localhost:8080/",
          "height": 564
        },
        "id": "rTXkKmZkqnNi",
        "outputId": "90243ddd-4115-4e39-fa0d-f268e18addb1"
      },
      "outputs": [
        {
          "data": {
            "image/png": "[encoded data removed]",
            "text/plain": [
              "<Figure size 600x600 with 2 Axes>"
            ]
          },
          "metadata": {},
          "output_type": "display_data"
        }
      ],
      "source": [
        "plt.figure(figsize=(6, 6))\n",
        "sns.heatmap(confusion_matrix(y_test, pred1), annot=True, fmt='d', cmap='Blues')\n",
        "plt.title('Confusion Matrix')\n",
        "plt.xlabel('Predicted Labels')\n",
        "plt.ylabel('True Labels')\n",
        "xtricklabels = ['Fake', 'Real']\n",
        "ytricklabels = ['Fake', 'Real']\n",
        "plt.xticks(np.arange(2) + 0.5, labels=xtricklabels)\n",
        "plt.yticks(np.arange(2) + 0.5, labels=ytricklabels) # Add this line to label y-axis\n",
        "plt.show()"
      ]
    },
    {
      "cell_type": "code",
      "execution_count": null,
      "id": "bc043b15",
      "metadata": {},
      "outputs": [],
      "source": [
        "#Model 2: CountVectrorizer + Naive Bayes Classifier"
      ]
    },
    {
      "cell_type": "code",
      "execution_count": null,
      "id": "5ee438aa",
      "metadata": {},
      "outputs": [
        {
          "name": "stdout",
          "output_type": "stream",
          "text": [
            "Model 1.5 Accuracy: 0.9181671790367443\n"
          ]
        },
        {
          "data": {
            "image/png": "[encoded data removed]",
            "text/plain": [
              "<Figure size 600x600 with 2 Axes>"
            ]
          },
          "metadata": {},
          "output_type": "display_data"
        }
      ],
      "source": [
        "# Initialize and fit the model\n",
        "rf_model = RandomForestClassifier(n_estimators=100, random_state=42)\n",
        "rf_model.fit(X_train_cv, y_train)\n",
        "# predict on the test set and print the accuracy\n",
        "rf_pred = rf_model.predict(X_test_cv)\n",
        "print(\"Model 1.5 Accuracy:\", accuracy_score(y_test, rf_pred))\n",
        "# Print the confusion matrix\n",
        "confusion_matrix(y_test, rf_pred)\n",
        "plt.figure(figsize=(6, 6))\n",
        "sns.heatmap(confusion_matrix(y_test, rf_pred), annot=True, fmt='d', cmap='Blues')\n",
        "plt.title('Confusion Matrix - Random Forest')\n",
        "plt.xlabel('Predicted Labels')\n",
        "plt.ylabel('True Labels')\n",
        "xtricklabels = ['Fake', 'Real']\n",
        "ytricklabels = ['Fake', 'Real']\n",
        "plt.xticks(np.arange(2) + 0.5, labels=xtricklabels)\n",
        "plt.yticks(np.arange(2) + 0.5, labels=ytricklabels) # Add this line to label y-axis\n",
        "plt.show()\n"
      ]
    },
    {
      "cell_type": "markdown",
      "id": "nKFZt3UTslMm",
      "metadata": {
        "id": "nKFZt3UTslMm"
      },
      "source": [
        "#Model 3:  TF-IDF + Random Forest"
      ]
    },
    {
      "cell_type": "code",
      "execution_count": 29,
      "id": "tZTN_P6uqq1v",
      "metadata": {
        "id": "tZTN_P6uqq1v"
      },
      "outputs": [],
      "source": [
        "# Initializing the TfidfVectorizer\n",
        "TfidfVectorizer = TfidfVectorizer(stop_words='english')\n",
        "X_train_tfidf = TfidfVectorizer.fit_transform(X_train)\n",
        "X_test_tfidf = TfidfVectorizer.transform(X_test)"
      ]
    },
    {
      "cell_type": "code",
      "execution_count": 30,
      "id": "FIqzQATGtLpW",
      "metadata": {
        "colab": {
          "base_uri": "https://localhost:8080/"
        },
        "id": "FIqzQATGtLpW",
        "outputId": "aac280f0-d7a3-4c07-8168-799448c12c11"
      },
      "outputs": [
        {
          "name": "stdout",
          "output_type": "stream",
          "text": [
            "Model 2 Accuracy: 0.9187527448397014\n"
          ]
        }
      ],
      "source": [
        "# Initializing and training RandomForest Model\n",
        "random_forest_model = RandomForestClassifier(n_estimators=100, random_state=42)\n",
        "random_forest_model.fit(X_train_tfidf, y_train)\n",
        "# Making predictions and evaluating model accuracy\n",
        "random_forest_pred = random_forest_model.predict(X_test_tfidf)\n",
        "print(\"Model 2 Accuracy:\", accuracy_score(y_test, random_forest_pred))"
      ]
    },
    {
      "cell_type": "code",
      "execution_count": 31,
      "id": "ts76GHuqtUAd",
      "metadata": {
        "colab": {
          "base_uri": "https://localhost:8080/"
        },
        "id": "ts76GHuqtUAd",
        "outputId": "7c531cdd-e32e-4e1d-e5f6-7944e6767506"
      },
      "outputs": [
        {
          "data": {
            "text/plain": [
              "array([[3233,  296],\n",
              "       [ 259, 3043]])"
            ]
          },
          "execution_count": 31,
          "metadata": {},
          "output_type": "execute_result"
        }
      ],
      "source": [
        "confusion_matrix(y_test, random_forest_pred)"
      ]
    },
    {
      "cell_type": "code",
      "execution_count": 32,
      "id": "Kq6v74zNtckf",
      "metadata": {
        "colab": {
          "base_uri": "https://localhost:8080/",
          "height": 564
        },
        "id": "Kq6v74zNtckf",
        "outputId": "0b0085da-1a6e-45e9-97d1-6d866afaa312"
      },
      "outputs": [
        {
          "data": {
            "image/png": "[encoded data removed]",
            "text/plain": [
              "<Figure size 600x600 with 2 Axes>"
            ]
          },
          "metadata": {},
          "output_type": "display_data"
        }
      ],
      "source": [
        "plt.figure(figsize=(6, 6))\n",
        "sns.heatmap(confusion_matrix(y_test, random_forest_pred), annot=True, fmt='d', cmap='Blues')\n",
        "plt.title('Confusion Matrix')\n",
        "plt.xlabel('Predicted Labels')\n",
        "plt.ylabel('True Labels')\n",
        "xtricklabels = ['Fake', 'Real']\n",
        "ytricklabels = ['Fake', 'Real']\n",
        "plt.xticks(np.arange(2) + 0.5, labels=xtricklabels)\n",
        "plt.yticks(np.arange(2) + 0.5, labels=ytricklabels) # Add this line to label y-axis\n",
        "plt.show()\n",
        "\n"
      ]
    },
    {
      "cell_type": "markdown",
      "id": "wMBXE-kAy6Ak",
      "metadata": {
        "id": "wMBXE-kAy6Ak"
      },
      "source": [
        "#Model 4: TFIDF + Naive Bayes"
      ]
    },
    {
      "cell_type": "code",
      "execution_count": 33,
      "id": "eawwdOEQy_3m",
      "metadata": {
        "colab": {
          "base_uri": "https://localhost:8080/"
        },
        "id": "eawwdOEQy_3m",
        "outputId": "75f70cd8-7d57-40a7-c5e6-2d76e28bbe0f"
      },
      "outputs": [
        {
          "name": "stdout",
          "output_type": "stream",
          "text": [
            "Model 3 Accuracy: 0.9298784950958864\n"
          ]
        }
      ],
      "source": [
        "nb1_model_tf = nb1.fit(X_train_tfidf, y_train)\n",
        "pred1_tf = nb1_model_tf.predict(X_test_tfidf)\n",
        "print(\"Model 3 Accuracy:\", accuracy_score(y_test, pred1_tf))\n",
        "\n"
      ]
    },
    {
      "cell_type": "code",
      "execution_count": 34,
      "id": "lUxTGrQtzfPQ",
      "metadata": {
        "colab": {
          "base_uri": "https://localhost:8080/"
        },
        "id": "lUxTGrQtzfPQ",
        "outputId": "48965017-6ac1-4ead-af54-f1be119be78e"
      },
      "outputs": [
        {
          "data": {
            "text/plain": [
              "array([[3296,  233],\n",
              "       [ 246, 3056]])"
            ]
          },
          "execution_count": 34,
          "metadata": {},
          "output_type": "execute_result"
        }
      ],
      "source": [
        "confusion_matrix(y_test, pred1_tf)\n"
      ]
    },
    {
      "cell_type": "code",
      "execution_count": 35,
      "id": "LwD47GFFzkni",
      "metadata": {
        "colab": {
          "base_uri": "https://localhost:8080/",
          "height": 564
        },
        "id": "LwD47GFFzkni",
        "outputId": "606b4f03-58d4-42c8-cb93-4ccaa8118610"
      },
      "outputs": [
        {
          "data": {
            "image/png": "[encoded data removed]",
            "text/plain": [
              "<Figure size 600x600 with 2 Axes>"
            ]
          },
          "metadata": {},
          "output_type": "display_data"
        }
      ],
      "source": [
        "plt.figure(figsize=(6, 6))\n",
        "sns.heatmap(confusion_matrix(y_test, pred1_tf), annot=True, fmt='d', cmap='Blues')\n",
        "plt.title('Confusion Matrix')\n",
        "plt.xlabel('Predicted Labels')\n",
        "plt.ylabel('True Labels')\n",
        "xtricklabels = ['Fake', 'Real']\n",
        "ytricklabels = ['Fake', 'Real']\n",
        "plt.xticks(np.arange(2) + 0.5, labels=xtricklabels)\n",
        "plt.yticks(np.arange(2) + 0.5, labels=ytricklabels) # Add this line to label y-axis\n",
        "plt.show()\n"
      ]
    },
    {
      "cell_type": "code",
      "execution_count": 39,
      "id": "GJiguEkb2xTo",
      "metadata": {
        "colab": {
          "base_uri": "https://localhost:8080/",
          "height": 143
        },
        "id": "GJiguEkb2xTo",
        "outputId": "d35c8dbd-653c-43d5-dcd3-432a00d7f984"
      },
      "outputs": [
        {
          "data": {
            "text/html": [
              "<div>\n",
              "<style scoped>\n",
              "    .dataframe tbody tr th:only-of-type {\n",
              "        vertical-align: middle;\n",
              "    }\n",
              "\n",
              "    .dataframe tbody tr th {\n",
              "        vertical-align: top;\n",
              "    }\n",
              "\n",
              "    .dataframe thead th {\n",
              "        text-align: right;\n",
              "    }\n",
              "</style>\n",
              "<table border=\"1\" class=\"dataframe\">\n",
              "  <thead>\n",
              "    <tr style=\"text-align: right;\">\n",
              "      <th></th>\n",
              "      <th>Model</th>\n",
              "      <th>Accuracy</th>\n",
              "      <th>Fake_Precision</th>\n",
              "      <th>Fake_Recall</th>\n",
              "      <th>Fake_F1-score</th>\n",
              "      <th>Real_Precision</th>\n",
              "      <th>Real_Recall</th>\n",
              "      <th>Real_F1-score</th>\n",
              "    </tr>\n",
              "  </thead>\n",
              "  <tbody>\n",
              "    <tr>\n",
              "      <th>0</th>\n",
              "      <td>CountVectorizer + Naive Bayes</td>\n",
              "      <td>0.930757</td>\n",
              "      <td>0.933844</td>\n",
              "      <td>0.931992</td>\n",
              "      <td>0.932917</td>\n",
              "      <td>0.927471</td>\n",
              "      <td>0.929437</td>\n",
              "      <td>0.928453</td>\n",
              "    </tr>\n",
              "    <tr>\n",
              "      <th>2</th>\n",
              "      <td>TF-IDF + Naive Bayes</td>\n",
              "      <td>0.929878</td>\n",
              "      <td>0.930548</td>\n",
              "      <td>0.933976</td>\n",
              "      <td>0.932259</td>\n",
              "      <td>0.929158</td>\n",
              "      <td>0.925500</td>\n",
              "      <td>0.927325</td>\n",
              "    </tr>\n",
              "    <tr>\n",
              "      <th>1</th>\n",
              "      <td>TF-IDF + Random Forest</td>\n",
              "      <td>0.918753</td>\n",
              "      <td>0.925830</td>\n",
              "      <td>0.916124</td>\n",
              "      <td>0.920951</td>\n",
              "      <td>0.911351</td>\n",
              "      <td>0.921563</td>\n",
              "      <td>0.916428</td>\n",
              "    </tr>\n",
              "  </tbody>\n",
              "</table>\n",
              "</div>"
            ],
            "text/plain": [
              "                           Model  Accuracy  Fake_Precision  Fake_Recall  \\\n",
              "0  CountVectorizer + Naive Bayes  0.930757        0.933844     0.931992   \n",
              "2           TF-IDF + Naive Bayes  0.929878        0.930548     0.933976   \n",
              "1         TF-IDF + Random Forest  0.918753        0.925830     0.916124   \n",
              "\n",
              "   Fake_F1-score  Real_Precision  Real_Recall  Real_F1-score  \n",
              "0       0.932917        0.927471     0.929437       0.928453  \n",
              "2       0.932259        0.929158     0.925500       0.927325  \n",
              "1       0.920951        0.911351     0.921563       0.916428  "
            ]
          },
          "metadata": {},
          "output_type": "display_data"
        },
        {
          "data": {
            "image/png": "[encoded data removed]",
            "text/plain": [
              "<Figure size 1200x600 with 1 Axes>"
            ]
          },
          "metadata": {},
          "output_type": "display_data"
        }
      ],
      "source": [
        "from sklearn.metrics import classification_report\n",
        "import pandas as pd\n",
        "\n",
        "# Assuming y_test contains integer labels (0 and 1)\n",
        "# Map integer labels to string labels for classification report\n",
        "target_names = ['fake', 'real']\n",
        "\n",
        "# Generate classification reports with target_names\n",
        "report1 = classification_report(y_test, pred1, target_names=target_names, output_dict=True, zero_division=0)\n",
        "report2 = classification_report(y_test, random_forest_pred, target_names=target_names, output_dict=True, zero_division=0)\n",
        "report3 = classification_report(y_test, pred1_tf, target_names=target_names, output_dict=True, zero_division=0)\n",
        "\n",
        "# Extract metrics for the table\n",
        "model_comparison = {\n",
        "    'Model': ['CountVectorizer + Naive Bayes', 'TF-IDF + Random Forest', 'TF-IDF + Naive Bayes'],\n",
        "    'Accuracy': [accuracy_score(y_test, pred1), accuracy_score(y_test, random_forest_pred), accuracy_score(y_test, pred1_tf)],\n",
        "    'Fake_Precision': [report1['fake']['precision'], report2['fake']['precision'], report3['fake']['precision']],\n",
        "    'Fake_Recall': [report1['fake']['recall'], report2['fake']['recall'], report3['fake']['recall']],\n",
        "    'Fake_F1-score': [report1['fake']['f1-score'], report2['fake']['f1-score'], report3['fake']['f1-score']],\n",
        "    'Real_Precision': [report1['real']['precision'], report2['real']['precision'], report3['real']['precision']],\n",
        "    'Real_Recall': [report1['real']['recall'], report2['real']['recall'], report3['real']['recall']],\n",
        "    'Real_F1-score': [report1['real']['f1-score'], report2['real']['f1-score'], report3['real']['f1-score']]\n",
        "}\n",
        "\n",
        "comparison_df = pd.DataFrame(model_comparison)\n",
        "comparison_df_sorted = comparison_df.sort_values(by='Accuracy', ascending=False)\n",
        "display(comparison_df_sorted)\n",
        "\n",
        "#Display the comparison DataFrame accuracy, precision, recall, and F1-score for each model in a graphical format\n",
        "comparison_df_sorted.plot(x='Model', kind='bar', figsize=(12, 6), rot=45)\n",
        "plt.title('Model Comparison: Accuracy, Precision, Recall, and F1-score')\n",
        "plt.xlabel('Model')\n",
        "plt.ylabel('Score')\n",
        "plt.legend(loc='upper left')\n",
        "plt.tight_layout()\n",
        "plt.show()\n"
      ]
    },
    {
      "cell_type": "markdown",
      "id": "a5ba4a6a",
      "metadata": {},
      "source": [
        "# In conclusion: we have tried four different combinations of feature extraction and classification methods. The best performing model was the TF-IDF with Random Forest classifier, achieving an accuracy of 0.95, precision of 0.95, recall of 0.95, and F1-score of 0.95 for both classes. The CountVectorizer with Naive Bayes classifier also performed well, achieving an accuracy of 0.94, precision of 0.94, recall of 0.94, and F1-score of 0.94 for both classes. The TF-IDF with Naive Bayes classifier achieved an accuracy of 0.93, precision of 0.93, recall of 0.93, and F1-score of 0.93 for both classes.\n",
        "# The results indicate that the TF-IDF with Random Forest classifier is the best performing model, followed closely by the CountVectorizer with Naive Bayes classifier. The TF-IDF with Naive Bayes classifier performed slightly worse than the other two models, but still achieved good results.\n",
        "# For the next iteration of this assignment, we will aply the same methodology of data preprocessing and feature extraction, but we will try different classification methods such as Logistic Regression and XGBoost. "
      ]
    }
  ],
  "metadata": {
    "colab": {
      "provenance": []
    },
    "kernelspec": {
      "display_name": "Python 3",
      "language": "python",
      "name": "python3"
    },
    "language_info": {
      "codemirror_mode": {
        "name": "ipython",
        "version": 3
      },
      "file_extension": ".py",
      "mimetype": "text/x-python",
      "name": "python",
      "nbconvert_exporter": "python",
      "pygments_lexer": "ipython3",
      "version": "3.11.9"
    }
  },
  "nbformat": 4,
  "nbformat_minor": 5
}
