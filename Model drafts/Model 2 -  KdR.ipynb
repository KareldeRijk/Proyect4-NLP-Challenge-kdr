{
  "cells": [
    {
      "cell_type": "code",
      "execution_count": 2,
      "id": "8e4e2593",
      "metadata": {
        "colab": {
          "base_uri": "https://localhost:8080/"
        },
        "id": "8e4e2593",
        "outputId": "44f8f5fa-7f9c-4b8e-c653-249c87169c5d"
      },
      "outputs": [],
      "source": [
        "# In this notebook, we will explore the results by using a Logistic Regression model and a XGBoost model. For NLP, we will use CountVectorizer and TfidfVectorizer."
      ]
    },
    {
      "cell_type": "code",
      "execution_count": 3,
      "id": "65a466f2",
      "metadata": {},
      "outputs": [
        {
          "name": "stderr",
          "output_type": "stream",
          "text": [
            "[nltk_data] Downloading package stopwords to\n",
            "[nltk_data]     C:\\Users\\karel\\AppData\\Roaming\\nltk_data...\n",
            "[nltk_data]   Package stopwords is already up-to-date!\n",
            "[nltk_data] Downloading package wordnet to\n",
            "[nltk_data]     C:\\Users\\karel\\AppData\\Roaming\\nltk_data...\n",
            "[nltk_data]   Package wordnet is already up-to-date!\n"
          ]
        }
      ],
      "source": [
        "# Step 1: import the necessary libraries\n",
        "# Data handling\n",
        "import pandas as pd\n",
        "import numpy as np\n",
        "\n",
        "# Text preprocessing\n",
        "import re\n",
        "import string\n",
        "from nltk.corpus import stopwords\n",
        "from nltk.stem import PorterStemmer, WordNetLemmatizer\n",
        "import nltk\n",
        "nltk.download('stopwords')\n",
        "nltk.download('wordnet')\n",
        "\n",
        "# Feature extraction\n",
        "from sklearn.feature_extraction.text import CountVectorizer, TfidfVectorizer\n",
        "\n",
        "# Machine learning models\n",
        "from sklearn.linear_model import LogisticRegression\n",
        "from xgboost import XGBClassifier\n",
        "\n",
        "# Model evaluation\n",
        "from sklearn.model_selection import train_test_split\n",
        "from sklearn.metrics import accuracy_score, confusion_matrix, classification_report\n",
        "\n",
        "# Optional - Visualization\n",
        "import matplotlib.pyplot as plt\n",
        "import seaborn as sns\n"
      ]
    },
    {
      "cell_type": "markdown",
      "id": "mLT7DW0yepxG",
      "metadata": {
        "id": "mLT7DW0yepxG"
      },
      "source": [
        "#Step 2: Reading the data and preliminary analysis"
      ]
    },
    {
      "cell_type": "code",
      "execution_count": 4,
      "id": "ef5a2209",
      "metadata": {
        "colab": {
          "base_uri": "https://localhost:8080/",
          "height": 206
        },
        "id": "ef5a2209",
        "outputId": "1cec74bf-5e0d-4ae0-e934-3152f0640e04"
      },
      "outputs": [
        {
          "data": {
            "text/html": [
              "<div>\n",
              "<style scoped>\n",
              "    .dataframe tbody tr th:only-of-type {\n",
              "        vertical-align: middle;\n",
              "    }\n",
              "\n",
              "    .dataframe tbody tr th {\n",
              "        vertical-align: top;\n",
              "    }\n",
              "\n",
              "    .dataframe thead th {\n",
              "        text-align: right;\n",
              "    }\n",
              "</style>\n",
              "<table border=\"1\" class=\"dataframe\">\n",
              "  <thead>\n",
              "    <tr style=\"text-align: right;\">\n",
              "      <th></th>\n",
              "      <th>label</th>\n",
              "      <th>title</th>\n",
              "      <th>text</th>\n",
              "      <th>subject</th>\n",
              "      <th>date</th>\n",
              "    </tr>\n",
              "  </thead>\n",
              "  <tbody>\n",
              "    <tr>\n",
              "      <th>0</th>\n",
              "      <td>1</td>\n",
              "      <td>As U.S. budget fight looms, Republicans flip t...</td>\n",
              "      <td>WASHINGTON (Reuters) - The head of a conservat...</td>\n",
              "      <td>politicsNews</td>\n",
              "      <td>December 31, 2017</td>\n",
              "    </tr>\n",
              "    <tr>\n",
              "      <th>1</th>\n",
              "      <td>1</td>\n",
              "      <td>U.S. military to accept transgender recruits o...</td>\n",
              "      <td>WASHINGTON (Reuters) - Transgender people will...</td>\n",
              "      <td>politicsNews</td>\n",
              "      <td>December 29, 2017</td>\n",
              "    </tr>\n",
              "    <tr>\n",
              "      <th>2</th>\n",
              "      <td>1</td>\n",
              "      <td>Senior U.S. Republican senator: 'Let Mr. Muell...</td>\n",
              "      <td>WASHINGTON (Reuters) - The special counsel inv...</td>\n",
              "      <td>politicsNews</td>\n",
              "      <td>December 31, 2017</td>\n",
              "    </tr>\n",
              "    <tr>\n",
              "      <th>3</th>\n",
              "      <td>1</td>\n",
              "      <td>FBI Russia probe helped by Australian diplomat...</td>\n",
              "      <td>WASHINGTON (Reuters) - Trump campaign adviser ...</td>\n",
              "      <td>politicsNews</td>\n",
              "      <td>December 30, 2017</td>\n",
              "    </tr>\n",
              "    <tr>\n",
              "      <th>4</th>\n",
              "      <td>1</td>\n",
              "      <td>Trump wants Postal Service to charge 'much mor...</td>\n",
              "      <td>SEATTLE/WASHINGTON (Reuters) - President Donal...</td>\n",
              "      <td>politicsNews</td>\n",
              "      <td>December 29, 2017</td>\n",
              "    </tr>\n",
              "  </tbody>\n",
              "</table>\n",
              "</div>"
            ],
            "text/plain": [
              "   label                                              title  \\\n",
              "0      1  As U.S. budget fight looms, Republicans flip t...   \n",
              "1      1  U.S. military to accept transgender recruits o...   \n",
              "2      1  Senior U.S. Republican senator: 'Let Mr. Muell...   \n",
              "3      1  FBI Russia probe helped by Australian diplomat...   \n",
              "4      1  Trump wants Postal Service to charge 'much mor...   \n",
              "\n",
              "                                                text       subject  \\\n",
              "0  WASHINGTON (Reuters) - The head of a conservat...  politicsNews   \n",
              "1  WASHINGTON (Reuters) - Transgender people will...  politicsNews   \n",
              "2  WASHINGTON (Reuters) - The special counsel inv...  politicsNews   \n",
              "3  WASHINGTON (Reuters) - Trump campaign adviser ...  politicsNews   \n",
              "4  SEATTLE/WASHINGTON (Reuters) - President Donal...  politicsNews   \n",
              "\n",
              "                 date  \n",
              "0  December 31, 2017   \n",
              "1  December 29, 2017   \n",
              "2  December 31, 2017   \n",
              "3  December 30, 2017   \n",
              "4  December 29, 2017   "
            ]
          },
          "execution_count": 4,
          "metadata": {},
          "output_type": "execute_result"
        }
      ],
      "source": [
        "dataframe = pd.read_csv(\"dataset/data.csv\", on_bad_lines='skip', encoding='utf-8')\n",
        "dataframe.head()"
      ]
    },
    {
      "cell_type": "markdown",
      "id": "MwcqQhA1i0r8",
      "metadata": {
        "id": "MwcqQhA1i0r8"
      },
      "source": [
        "#Preprocessing on data\n",
        "\n",
        "*   Dropping few columns\n",
        "*   checking for nulls\n"
      ]
    },
    {
      "cell_type": "markdown",
      "id": "fqpkDcodje2_",
      "metadata": {
        "id": "fqpkDcodje2_"
      },
      "source": [
        "Dropping subject and date columns as we don't think these contain relevant information to determine whether news is fake news or not and to prevent untrue correlations. "
      ]
    },
    {
      "cell_type": "code",
      "execution_count": 5,
      "id": "NtQ5mxvlezEx",
      "metadata": {
        "id": "NtQ5mxvlezEx"
      },
      "outputs": [],
      "source": [
        "df = dataframe.copy()\n",
        "df = df.drop(columns = [\"subject\",\"date\"], axis = 1)"
      ]
    },
    {
      "cell_type": "markdown",
      "id": "NzmceE6Lj4pc",
      "metadata": {
        "id": "NzmceE6Lj4pc"
      },
      "source": [
        "Checking the class imbalance"
      ]
    },
    {
      "cell_type": "code",
      "execution_count": 6,
      "id": "NZc_9iyXdZvw",
      "metadata": {
        "colab": {
          "base_uri": "https://localhost:8080/",
          "height": 178
        },
        "id": "NZc_9iyXdZvw",
        "outputId": "4e59cb47-b71c-4397-bf8f-c934afd511b6"
      },
      "outputs": [
        {
          "data": {
            "text/plain": [
              "label\n",
              "1    19999\n",
              "0    19943\n",
              "Name: count, dtype: int64"
            ]
          },
          "execution_count": 6,
          "metadata": {},
          "output_type": "execute_result"
        }
      ],
      "source": [
        "df[\"label\"].value_counts() #It seems classes are balanced"
      ]
    },
    {
      "cell_type": "markdown",
      "id": "FIcTe-xNkOUT",
      "metadata": {
        "id": "FIcTe-xNkOUT"
      },
      "source": [
        "Checking for nulls in the dataset"
      ]
    },
    {
      "cell_type": "code",
      "execution_count": 7,
      "id": "uygkyRfekBiT",
      "metadata": {
        "colab": {
          "base_uri": "https://localhost:8080/",
          "height": 147
        },
        "id": "uygkyRfekBiT",
        "outputId": "d36d3b21-51ef-427b-bcad-9a589ea94f9b"
      },
      "outputs": [
        {
          "data": {
            "text/plain": [
              "label    0\n",
              "title    0\n",
              "text     0\n",
              "dtype: int64"
            ]
          },
          "execution_count": 7,
          "metadata": {},
          "output_type": "execute_result"
        }
      ],
      "source": [
        "df.isnull().sum() # there is no null value"
      ]
    },
    {
      "cell_type": "markdown",
      "id": "NxLAhh8pmpp7",
      "metadata": {
        "id": "NxLAhh8pmpp7"
      },
      "source": [
        "Step 3: Create a Function for all data cleaning"
      ]
    },
    {
      "cell_type": "code",
      "execution_count": 8,
      "id": "WXm2fSa2o08U",
      "metadata": {
        "colab": {
          "base_uri": "https://localhost:8080/"
        },
        "id": "WXm2fSa2o08U",
        "outputId": "4c75e636-50ea-42cf-e3ba-a461319df1b4"
      },
      "outputs": [
        {
          "data": {
            "text/plain": [
              "'import re\\nimport string\\nimport nltk\\nfrom nltk.tokenize import word_tokenize\\nfrom nltk.corpus import stopwords\\nfrom nltk.stem import WordNetLemmatizer\\nnltk.download(\\'punkt\\')\\nnltk.download(\\'stopwords\\')\\nnltk.download(\\'wordnet\\')\\n# Download the \\'punkt_tab\\' resource\\nnltk.download(\\'punkt_tab\\')\\n\\ndef text_preprocessing_pipeline(text):\\n    # Step 1: Tokenize the text\\n    tokens = word_tokenize(text)\\n\\n    # Step 2: Remove stopwords BUT preserve acronyms first\\n    stop_words = set(stopwords.words(\\'english\\'))\\n    filtered_tokens = []\\n\\n    for word in tokens:\\n        # Simple acronym detection - if it has uppercase letters or dots between letters\\n        is_potential_acronym = (\\n            bool(re.search(r\\'[A-Z]\\', word)) and len(word) >= 2 and \\n            (word.isupper() or \\'.\\' in word)\\n        )\\n\\n        # Keep if it\\'s not a stopword OR if it looks like an acronym\\n        if is_potential_acronym or word.lower() not in stop_words:\\n            filtered_tokens.append(word)\\n\\n    # Step 3: Enhanced cleaning that preserves acronyms\\n    cleaned_tokens = []\\n\\n    for word in filtered_tokens:\\n        # Pattern 1: Common acronyms (2+ letters with dots: U.S., U.K., etc.)\\n        if re.match(r\\'^[A-Z](\\\\.[A-Z])+\\\\.?$\\', word):\\n            # Remove dots from acronyms and keep them\\n            cleaned_word = re.sub(r\\'\\\\.\\', \\'\\', word)\\n            cleaned_tokens.append(cleaned_word.lower())\\n\\n        # Pattern 2: All caps acronyms without dots (USA, NASA, FBI, etc.)\\n        elif re.match(r\\'^[A-Z]{2,}$\\', word):\\n            cleaned_tokens.append(word.lower())\\n\\n        # Pattern 3: Mixed case acronyms/abbreviations (PhD, CEO, etc.)\\n        elif re.match(r\\'^[A-Za-z]{2,}$\\', word) and any(c.isupper() for c in word[1:]):\\n            cleaned_tokens.append(word.lower())\\n\\n        # Pattern 4: Regular words - remove punctuation and numbers\\n        else:\\n            # Keep only letters\\n            cleaned_word = re.sub(r\\'[^a-zA-Z]\\', \\'\\', word.lower())\\n            if cleaned_word:  # Only add non-empty strings\\n                cleaned_tokens.append(cleaned_word)\\n\\n    # Step 4: Lemmatization\\n    lemmatizer = WordNetLemmatizer()\\n    lemmatized_tokens = [lemmatizer.lemmatize(word) for word in cleaned_tokens]\\n\\n    return \\' \\'.join(lemmatized_tokens)\\n\\n\\n\\ntest_text = \"U.S. military to accept transgender recruits\"\\nresult = text_preprocessing_pipeline(test_text)\\nprint(f\"Test result: \\'{result}\\'\")'"
            ]
          },
          "execution_count": 8,
          "metadata": {},
          "output_type": "execute_result"
        }
      ],
      "source": [
        "# This codeblock contains a text preprocessing pipeline that aims to preserve acronyms while cleaning the text data. However, as of yet the code does not work, so including it here for reference. \n",
        "# Download required resources (if not already done)\n",
        "'''import re\n",
        "import string\n",
        "import nltk\n",
        "from nltk.tokenize import word_tokenize\n",
        "from nltk.corpus import stopwords\n",
        "from nltk.stem import WordNetLemmatizer\n",
        "nltk.download('punkt')\n",
        "nltk.download('stopwords')\n",
        "nltk.download('wordnet')\n",
        "# Download the 'punkt_tab' resource\n",
        "nltk.download('punkt_tab')\n",
        "\n",
        "def text_preprocessing_pipeline(text):\n",
        "    # Step 1: Tokenize the text\n",
        "    tokens = word_tokenize(text)\n",
        "\n",
        "    # Step 2: Remove stopwords BUT preserve acronyms first\n",
        "    stop_words = set(stopwords.words('english'))\n",
        "    filtered_tokens = []\n",
        "    \n",
        "    for word in tokens:\n",
        "        # Simple acronym detection - if it has uppercase letters or dots between letters\n",
        "        is_potential_acronym = (\n",
        "            bool(re.search(r'[A-Z]', word)) and len(word) >= 2 and \n",
        "            (word.isupper() or '.' in word)\n",
        "        )\n",
        "        \n",
        "        # Keep if it's not a stopword OR if it looks like an acronym\n",
        "        if is_potential_acronym or word.lower() not in stop_words:\n",
        "            filtered_tokens.append(word)\n",
        "    \n",
        "    # Step 3: Enhanced cleaning that preserves acronyms\n",
        "    cleaned_tokens = []\n",
        "    \n",
        "    for word in filtered_tokens:\n",
        "        # Pattern 1: Common acronyms (2+ letters with dots: U.S., U.K., etc.)\n",
        "        if re.match(r'^[A-Z](\\.[A-Z])+\\.?$', word):\n",
        "            # Remove dots from acronyms and keep them\n",
        "            cleaned_word = re.sub(r'\\.', '', word)\n",
        "            cleaned_tokens.append(cleaned_word.lower())\n",
        "        \n",
        "        # Pattern 2: All caps acronyms without dots (USA, NASA, FBI, etc.)\n",
        "        elif re.match(r'^[A-Z]{2,}$', word):\n",
        "            cleaned_tokens.append(word.lower())\n",
        "        \n",
        "        # Pattern 3: Mixed case acronyms/abbreviations (PhD, CEO, etc.)\n",
        "        elif re.match(r'^[A-Za-z]{2,}$', word) and any(c.isupper() for c in word[1:]):\n",
        "            cleaned_tokens.append(word.lower())\n",
        "        \n",
        "        # Pattern 4: Regular words - remove punctuation and numbers\n",
        "        else:\n",
        "            # Keep only letters\n",
        "            cleaned_word = re.sub(r'[^a-zA-Z]', '', word.lower())\n",
        "            if cleaned_word:  # Only add non-empty strings\n",
        "                cleaned_tokens.append(cleaned_word)\n",
        "    \n",
        "    # Step 4: Lemmatization\n",
        "    lemmatizer = WordNetLemmatizer()\n",
        "    lemmatized_tokens = [lemmatizer.lemmatize(word) for word in cleaned_tokens]\n",
        "\n",
        "    return ' '.join(lemmatized_tokens)\n",
        "\n",
        "\n",
        "\n",
        "test_text = \"U.S. military to accept transgender recruits\"\n",
        "result = text_preprocessing_pipeline(test_text)\n",
        "print(f\"Test result: '{result}'\")'''"
      ]
    },
    {
      "cell_type": "code",
      "execution_count": 9,
      "id": "ebb76b8d",
      "metadata": {},
      "outputs": [
        {
          "name": "stderr",
          "output_type": "stream",
          "text": [
            "[nltk_data] Downloading package punkt to\n",
            "[nltk_data]     C:\\Users\\karel\\AppData\\Roaming\\nltk_data...\n",
            "[nltk_data]   Package punkt is already up-to-date!\n",
            "[nltk_data] Downloading package stopwords to\n",
            "[nltk_data]     C:\\Users\\karel\\AppData\\Roaming\\nltk_data...\n",
            "[nltk_data]   Package stopwords is already up-to-date!\n",
            "[nltk_data] Downloading package wordnet to\n",
            "[nltk_data]     C:\\Users\\karel\\AppData\\Roaming\\nltk_data...\n",
            "[nltk_data]   Package wordnet is already up-to-date!\n",
            "[nltk_data] Downloading package punkt_tab to\n",
            "[nltk_data]     C:\\Users\\karel\\AppData\\Roaming\\nltk_data...\n",
            "[nltk_data]   Package punkt_tab is already up-to-date!\n"
          ]
        }
      ],
      "source": [
        "import re\n",
        "import string\n",
        "import nltk\n",
        "from nltk.tokenize import word_tokenize\n",
        "from nltk.corpus import stopwords\n",
        "from nltk.stem import WordNetLemmatizer\n",
        "nltk.download('punkt')\n",
        "nltk.download('stopwords')\n",
        "nltk.download('wordnet')\n",
        "# Download the 'punkt_tab' resource\n",
        "nltk.download('punkt_tab')\n",
        "\n",
        "\n",
        "def text_preprocessing_pipeline(text):\n",
        "    # Step 1: Tokenize the text\n",
        "    tokens = word_tokenize(text)\n",
        "\n",
        "    # Step 2: Remove stopwords\n",
        "    stop_words = set(stopwords.words('english'))\n",
        "    tokens = [word.lower() for word in tokens if word.lower() not in stop_words]\n",
        "\n",
        "    # Step 3: Remove punctuation and numbers\n",
        "    tokens = [re.sub(r'[^a-zA-Z]', '', word) for word in tokens]  # Keep only letters\n",
        "    tokens = [word for word in tokens if word]  # Remove empty strings\n",
        "\n",
        "    # Step 4: Lemmatization\n",
        "    lemmatizer = WordNetLemmatizer()\n",
        "    lemmatized_tokens = [lemmatizer.lemmatize(word) for word in tokens]\n",
        "\n",
        "    return ' '.join(lemmatized_tokens)"
      ]
    },
    {
      "cell_type": "markdown",
      "id": "7-2CTp9uo0sA",
      "metadata": {
        "id": "7-2CTp9uo0sA"
      },
      "source": []
    },
    {
      "cell_type": "code",
      "execution_count": 10,
      "id": "hV-QvTlhmzyH",
      "metadata": {
        "id": "hV-QvTlhmzyH"
      },
      "outputs": [],
      "source": [
        "df['clean_text'] = df['text'].apply(text_preprocessing_pipeline)\n",
        "df['clean_title'] = df['title'].apply(text_preprocessing_pipeline)\n",
        "\n"
      ]
    },
    {
      "cell_type": "code",
      "execution_count": 11,
      "id": "2VECwQhapNz5",
      "metadata": {
        "colab": {
          "base_uri": "https://localhost:8080/",
          "height": 424
        },
        "id": "2VECwQhapNz5",
        "outputId": "2183b66f-a8f9-44ce-ac26-ce13b7d3a89e"
      },
      "outputs": [
        {
          "name": "stdout",
          "output_type": "stream",
          "text": [
            "                                          clean_text  \\\n",
            "0  washington reuters head conservative republica...   \n",
            "1  washington reuters transgender people allowed ...   \n",
            "2  washington reuters special counsel investigati...   \n",
            "3  washington reuters trump campaign adviser geor...   \n",
            "4  seattlewashington reuters president donald tru...   \n",
            "\n",
            "                                         clean_title  label  \n",
            "0  u budget fight loom republican flip fiscal script      1  \n",
            "1  u military accept transgender recruit monday p...      1  \n",
            "2     senior u republican senator let mr mueller job      1  \n",
            "3  fbi russia probe helped australian diplomat ti...      1  \n",
            "4  trump want postal service charge much amazon s...      1  \n",
            "(39942, 3)\n"
          ]
        }
      ],
      "source": [
        "# Create a new DataFrame with the cleaned text and cleaned titles\n",
        "cleaned_df = pd.DataFrame({\n",
        "    'clean_text': df['clean_text'],\n",
        "    'clean_title': df['clean_title'],\n",
        "    'label': df['label']\n",
        "})\n",
        "\n",
        "print(cleaned_df.head())\n",
        "print(cleaned_df.shape)"
      ]
    },
    {
      "cell_type": "markdown",
      "id": "5npliy60qRpF",
      "metadata": {
        "id": "5npliy60qRpF"
      },
      "source": [
        "# Train Test Split"
      ]
    },
    {
      "cell_type": "code",
      "execution_count": 12,
      "id": "470ba622",
      "metadata": {},
      "outputs": [],
      "source": [
        "#Model 1: CountVectorizer + Losistic Regression\n",
        "#When we train the model on two columns, a difficulty that arises is that CountVectorizer does not automatically concatenate the two columns as we would want it to. \n",
        "# This causes shape mismatches. The solution we implemented is to concatenate the two columns. "
      ]
    },
    {
      "cell_type": "code",
      "execution_count": 13,
      "id": "KU2S7vHim-cG",
      "metadata": {
        "id": "KU2S7vHim-cG"
      },
      "outputs": [],
      "source": [
        "X = cleaned_df['clean_text'] + ' ' + cleaned_df[ 'clean_title']  # Features: cleaned text and title, concatenated text and title columns\n",
        "y = cleaned_df['label']  # 'fake' or 'real'\n",
        "\n",
        "X_train, X_test, y_train, y_test = train_test_split(X, y, test_size=0.2, random_state=42)"
      ]
    },
    {
      "cell_type": "markdown",
      "id": "qOgIZbZVqVtq",
      "metadata": {
        "id": "qOgIZbZVqVtq"
      },
      "source": [
        "#Model 1: CountVectorizer + Logistic Regression"
      ]
    },
    {
      "cell_type": "code",
      "execution_count": 14,
      "id": "TvJsEtP-p-FS",
      "metadata": {
        "id": "TvJsEtP-p-FS"
      },
      "outputs": [],
      "source": [
        "# Use CounVectorizer to convert text data into a matrix of token counts\n",
        "cv = CountVectorizer(stop_words='english')\n",
        "X_train_cv = cv.fit_transform(X_train)\n",
        "X_test_cv = cv.transform(X_test)"
      ]
    },
    {
      "cell_type": "code",
      "execution_count": 15,
      "id": "_h2aGS5Sp5J1",
      "metadata": {
        "colab": {
          "base_uri": "https://localhost:8080/"
        },
        "id": "_h2aGS5Sp5J1",
        "outputId": "384c3020-060d-4a7d-e3de-8a3414a95eed"
      },
      "outputs": [
        {
          "name": "stdout",
          "output_type": "stream",
          "text": [
            "Model 1 Accuracy: 0.9959944924270873\n"
          ]
        }
      ],
      "source": [
        "# Train and evaluate Logistic regression model with CountVectorizer\n",
        "LG = LogisticRegression()\n",
        "LG.fit(X_train_cv, y_train)\n",
        "pred1 = LG.predict(X_test_cv)\n",
        "\n",
        "print(\"Model 1 Accuracy:\", accuracy_score(y_test, pred1))"
      ]
    },
    {
      "cell_type": "code",
      "execution_count": 16,
      "id": "Gx12_XcXqkan",
      "metadata": {
        "colab": {
          "base_uri": "https://localhost:8080/"
        },
        "id": "Gx12_XcXqkan",
        "outputId": "c6aea812-81e1-4178-9976-a9387164c77e"
      },
      "outputs": [
        {
          "data": {
            "text/plain": [
              "array([[3979,   17],\n",
              "       [  15, 3978]])"
            ]
          },
          "execution_count": 16,
          "metadata": {},
          "output_type": "execute_result"
        }
      ],
      "source": [
        "confusion_matrix(y_test, pred1)"
      ]
    },
    {
      "cell_type": "code",
      "execution_count": 19,
      "id": "82hxM_W00DUD",
      "metadata": {
        "colab": {
          "base_uri": "https://localhost:8080/"
        },
        "id": "82hxM_W00DUD",
        "outputId": "1afd8113-fc8c-4582-eecf-f7abe1ed2ce6"
      },
      "outputs": [
        {
          "data": {
            "text/plain": [
              "0.9959944924270873"
            ]
          },
          "execution_count": 19,
          "metadata": {},
          "output_type": "execute_result"
        }
      ],
      "source": [
        "LG.score(X_test_cv, y_test)"
      ]
    },
    {
      "cell_type": "code",
      "execution_count": 20,
      "id": "rTXkKmZkqnNi",
      "metadata": {
        "colab": {
          "base_uri": "https://localhost:8080/",
          "height": 564
        },
        "id": "rTXkKmZkqnNi",
        "outputId": "90243ddd-4115-4e39-fa0d-f268e18addb1"
      },
      "outputs": [
        {
          "data": {
            "image/png": "[encoded data removed]",
            "text/plain": [
              "<Figure size 600x600 with 2 Axes>"
            ]
          },
          "metadata": {},
          "output_type": "display_data"
        }
      ],
      "source": [
        "plt.figure(figsize=(6, 6))\n",
        "sns.heatmap(confusion_matrix(y_test, pred1), annot=True, fmt='d', cmap='Blues')\n",
        "plt.title('Confusion Matrix')\n",
        "plt.xlabel('Predicted Labels')\n",
        "plt.ylabel('True Labels')\n",
        "xtricklabels = ['Fake', 'Real']\n",
        "ytricklabels = ['Fake', 'Real']\n",
        "plt.xticks(np.arange(2) + 0.5, labels=xtricklabels)\n",
        "plt.yticks(np.arange(2) + 0.5, labels=ytricklabels) # Add this line to label y-axis\n",
        "plt.show()"
      ]
    },
    {
      "cell_type": "markdown",
      "id": "nKFZt3UTslMm",
      "metadata": {
        "id": "nKFZt3UTslMm"
      },
      "source": [
        "#Model2 TF-IDF + Logistic Regression"
      ]
    },
    {
      "cell_type": "code",
      "execution_count": 21,
      "id": "tZTN_P6uqq1v",
      "metadata": {
        "id": "tZTN_P6uqq1v"
      },
      "outputs": [],
      "source": [
        "# Use TfidfVectorizer to convert text data into a matrix of TF-IDF features\n",
        "TfidfVectorizer = TfidfVectorizer(stop_words='english')\n",
        "X_train_tfidf = TfidfVectorizer.fit_transform(X_train)\n",
        "X_test_tfidf = TfidfVectorizer.transform(X_test)"
      ]
    },
    {
      "cell_type": "code",
      "execution_count": 22,
      "id": "FIqzQATGtLpW",
      "metadata": {
        "colab": {
          "base_uri": "https://localhost:8080/"
        },
        "id": "FIqzQATGtLpW",
        "outputId": "aac280f0-d7a3-4c07-8168-799448c12c11"
      },
      "outputs": [
        {
          "name": "stdout",
          "output_type": "stream",
          "text": [
            "Model 2 Accuracy: 0.9872324446113406\n"
          ]
        }
      ],
      "source": [
        "# Train and evalaute Logistic Regression model with TfidfVectorizer\n",
        "LG2 = LogisticRegression()\n",
        "LG2.fit(X_train_tfidf, y_train)\n",
        "pred2 = LG2.predict(X_test_tfidf)\n",
        "print(\"Model 2 Accuracy:\", accuracy_score(y_test, pred2))"
      ]
    },
    {
      "cell_type": "code",
      "execution_count": 23,
      "id": "ts76GHuqtUAd",
      "metadata": {
        "colab": {
          "base_uri": "https://localhost:8080/"
        },
        "id": "ts76GHuqtUAd",
        "outputId": "7c531cdd-e32e-4e1d-e5f6-7944e6767506"
      },
      "outputs": [
        {
          "data": {
            "text/plain": [
              "array([[3935,   61],\n",
              "       [  41, 3952]])"
            ]
          },
          "execution_count": 23,
          "metadata": {},
          "output_type": "execute_result"
        }
      ],
      "source": [
        "confusion_matrix(y_test, pred2)"
      ]
    },
    {
      "cell_type": "code",
      "execution_count": 24,
      "id": "Kq6v74zNtckf",
      "metadata": {
        "colab": {
          "base_uri": "https://localhost:8080/",
          "height": 564
        },
        "id": "Kq6v74zNtckf",
        "outputId": "0b0085da-1a6e-45e9-97d1-6d866afaa312"
      },
      "outputs": [
        {
          "data": {
            "image/png": "[encoded data removed]",
            "text/plain": [
              "<Figure size 600x600 with 2 Axes>"
            ]
          },
          "metadata": {},
          "output_type": "display_data"
        }
      ],
      "source": [
        "plt.figure(figsize=(6, 6))\n",
        "sns.heatmap(confusion_matrix(y_test, pred2), annot=True, fmt='d', cmap='Blues')\n",
        "plt.title('Confusion Matrix')\n",
        "plt.xlabel('Predicted Labels')\n",
        "plt.ylabel('True Labels')\n",
        "xtricklabels = ['Fake', 'Real']\n",
        "ytricklabels = ['Fake', 'Real']\n",
        "plt.xticks(np.arange(2) + 0.5, labels=xtricklabels)\n",
        "plt.yticks(np.arange(2) + 0.5, labels=ytricklabels) # Add this line to label y-axis\n",
        "plt.show()\n",
        "\n"
      ]
    },
    {
      "cell_type": "markdown",
      "id": "wMBXE-kAy6Ak",
      "metadata": {
        "id": "wMBXE-kAy6Ak"
      },
      "source": [
        "#Model_3 CountVectorizer + XGBoost"
      ]
    },
    {
      "cell_type": "code",
      "execution_count": 25,
      "id": "eawwdOEQy_3m",
      "metadata": {
        "colab": {
          "base_uri": "https://localhost:8080/"
        },
        "id": "eawwdOEQy_3m",
        "outputId": "75f70cd8-7d57-40a7-c5e6-2d76e28bbe0f"
      },
      "outputs": [
        {
          "name": "stderr",
          "output_type": "stream",
          "text": [
            "C:\\Users\\karel\\AppData\\Local\\Packages\\PythonSoftwareFoundation.Python.3.11_qbz5n2kfra8p0\\LocalCache\\local-packages\\Python311\\site-packages\\xgboost\\training.py:183: UserWarning: [12:40:33] WARNING: C:\\actions-runner\\_work\\xgboost\\xgboost\\src\\learner.cc:738: \n",
            "Parameters: { \"use_label_encoder\" } are not used.\n",
            "\n",
            "  bst.update(dtrain, iteration=i, fobj=obj)\n"
          ]
        },
        {
          "name": "stdout",
          "output_type": "stream",
          "text": [
            "XGBoost Model 3 Accuracy: 0.9963700087620478\n"
          ]
        }
      ],
      "source": [
        "# Train and evaluate XGBoost model with CountVectorizer\n",
        "XGBmodel1 = XGBClassifier(use_label_encoder=False, eval_metric='logloss')\n",
        "XGBmodel1.fit(X_train_cv, y_train)\n",
        "pred3 = XGBmodel1.predict(X_test_cv)\n",
        "print(\"XGBoost Model 3 Accuracy:\", accuracy_score(y_test, pred3))\n",
        "\n",
        "\n"
      ]
    },
    {
      "cell_type": "code",
      "execution_count": 27,
      "id": "lUxTGrQtzfPQ",
      "metadata": {
        "colab": {
          "base_uri": "https://localhost:8080/"
        },
        "id": "lUxTGrQtzfPQ",
        "outputId": "48965017-6ac1-4ead-af54-f1be119be78e"
      },
      "outputs": [
        {
          "data": {
            "text/plain": [
              "array([[3979,   17],\n",
              "       [  12, 3981]])"
            ]
          },
          "execution_count": 27,
          "metadata": {},
          "output_type": "execute_result"
        }
      ],
      "source": [
        "confusion_matrix(y_test, pred3)\n"
      ]
    },
    {
      "cell_type": "code",
      "execution_count": 28,
      "id": "LwD47GFFzkni",
      "metadata": {
        "colab": {
          "base_uri": "https://localhost:8080/",
          "height": 564
        },
        "id": "LwD47GFFzkni",
        "outputId": "606b4f03-58d4-42c8-cb93-4ccaa8118610"
      },
      "outputs": [
        {
          "data": {
            "image/png": "[encoded data removed]",
            "text/plain": [
              "<Figure size 600x600 with 2 Axes>"
            ]
          },
          "metadata": {},
          "output_type": "display_data"
        }
      ],
      "source": [
        "plt.figure(figsize=(6, 6))\n",
        "sns.heatmap(confusion_matrix(y_test, pred3), annot=True, fmt='d', cmap='Blues')\n",
        "plt.title('Confusion Matrix')\n",
        "plt.xlabel('Predicted Labels')\n",
        "plt.ylabel('True Labels')\n",
        "xtricklabels = ['Fake', 'Real']\n",
        "ytricklabels = ['Fake', 'Real']\n",
        "plt.xticks(np.arange(2) + 0.5, labels=xtricklabels)\n",
        "plt.yticks(np.arange(2) + 0.5, labels=ytricklabels) # Add this line to label y-axis\n",
        "plt.show()\n"
      ]
    },
    {
      "cell_type": "code",
      "execution_count": 29,
      "id": "b3312b6c",
      "metadata": {},
      "outputs": [
        {
          "name": "stderr",
          "output_type": "stream",
          "text": [
            "C:\\Users\\karel\\AppData\\Local\\Packages\\PythonSoftwareFoundation.Python.3.11_qbz5n2kfra8p0\\LocalCache\\local-packages\\Python311\\site-packages\\xgboost\\training.py:183: UserWarning: [13:19:42] WARNING: C:\\actions-runner\\_work\\xgboost\\xgboost\\src\\learner.cc:738: \n",
            "Parameters: { \"use_label_encoder\" } are not used.\n",
            "\n",
            "  bst.update(dtrain, iteration=i, fobj=obj)\n"
          ]
        },
        {
          "name": "stdout",
          "output_type": "stream",
          "text": [
            "XGBoost Model 4 Accuracy: 0.9958693203154337\n"
          ]
        },
        {
          "data": {
            "image/png": "[encoded data removed]",
            "text/plain": [
              "<Figure size 600x600 with 2 Axes>"
            ]
          },
          "metadata": {},
          "output_type": "display_data"
        }
      ],
      "source": [
        "#Model 4: XGBoost with TfidfVectorizer\n",
        "XGBmodel2 = XGBClassifier(use_label_encoder=False, eval_metric='logloss')\n",
        "XGBmodel2.fit(X_train_tfidf, y_train)\n",
        "pred4 = XGBmodel2.predict(X_test_tfidf)\n",
        "print(\"XGBoost Model 4 Accuracy:\", accuracy_score(y_test, pred4))\n",
        "confusion_matrix(y_test, pred4)\n",
        "plt.figure(figsize=(6, 6))\n",
        "sns.heatmap(confusion_matrix(y_test, pred4), annot=True, fmt='d', cmap='Blues')\n",
        "plt.title('Confusion Matrix')\n",
        "plt.xlabel('Predicted Labels')\n",
        "plt.ylabel('True Labels')\n",
        "xtricklabels = ['Fake', 'Real']\n",
        "ytricklabels = ['Fake', 'Real']\n",
        "plt.xticks(np.arange(2) + 0.5, labels=xtricklabels)\n",
        "plt.yticks(np.arange(2) + 0.5, labels=ytricklabels) # Add this line to label y-axis\n",
        "plt.show()\n"
      ]
    },
    {
      "cell_type": "code",
      "execution_count": 30,
      "id": "GJiguEkb2xTo",
      "metadata": {
        "colab": {
          "base_uri": "https://localhost:8080/",
          "height": 143
        },
        "id": "GJiguEkb2xTo",
        "outputId": "d35c8dbd-653c-43d5-dcd3-432a00d7f984"
      },
      "outputs": [
        {
          "data": {
            "text/html": [
              "<div>\n",
              "<style scoped>\n",
              "    .dataframe tbody tr th:only-of-type {\n",
              "        vertical-align: middle;\n",
              "    }\n",
              "\n",
              "    .dataframe tbody tr th {\n",
              "        vertical-align: top;\n",
              "    }\n",
              "\n",
              "    .dataframe thead th {\n",
              "        text-align: right;\n",
              "    }\n",
              "</style>\n",
              "<table border=\"1\" class=\"dataframe\">\n",
              "  <thead>\n",
              "    <tr style=\"text-align: right;\">\n",
              "      <th></th>\n",
              "      <th>Model</th>\n",
              "      <th>Accuracy</th>\n",
              "      <th>Fake_Precision</th>\n",
              "      <th>Fake_Recall</th>\n",
              "      <th>Fake_F1-score</th>\n",
              "      <th>Real_Precision</th>\n",
              "      <th>Real_Recall</th>\n",
              "      <th>Real_F1-score</th>\n",
              "    </tr>\n",
              "  </thead>\n",
              "  <tbody>\n",
              "    <tr>\n",
              "      <th>2</th>\n",
              "      <td>CV + XGBoost</td>\n",
              "      <td>0.996370</td>\n",
              "      <td>0.996993</td>\n",
              "      <td>0.995746</td>\n",
              "      <td>0.996369</td>\n",
              "      <td>0.995748</td>\n",
              "      <td>0.996995</td>\n",
              "      <td>0.996371</td>\n",
              "    </tr>\n",
              "    <tr>\n",
              "      <th>0</th>\n",
              "      <td>CV + LogReg</td>\n",
              "      <td>0.995994</td>\n",
              "      <td>0.996244</td>\n",
              "      <td>0.995746</td>\n",
              "      <td>0.995995</td>\n",
              "      <td>0.995745</td>\n",
              "      <td>0.996243</td>\n",
              "      <td>0.995994</td>\n",
              "    </tr>\n",
              "    <tr>\n",
              "      <th>3</th>\n",
              "      <td>TF-IDF + XGBoost</td>\n",
              "      <td>0.995869</td>\n",
              "      <td>0.996741</td>\n",
              "      <td>0.994995</td>\n",
              "      <td>0.995867</td>\n",
              "      <td>0.995000</td>\n",
              "      <td>0.996744</td>\n",
              "      <td>0.995871</td>\n",
              "    </tr>\n",
              "    <tr>\n",
              "      <th>1</th>\n",
              "      <td>TF-IDF + LogReg</td>\n",
              "      <td>0.987232</td>\n",
              "      <td>0.989688</td>\n",
              "      <td>0.984735</td>\n",
              "      <td>0.987205</td>\n",
              "      <td>0.984799</td>\n",
              "      <td>0.989732</td>\n",
              "      <td>0.987260</td>\n",
              "    </tr>\n",
              "  </tbody>\n",
              "</table>\n",
              "</div>"
            ],
            "text/plain": [
              "              Model  Accuracy  Fake_Precision  Fake_Recall  Fake_F1-score  \\\n",
              "2      CV + XGBoost  0.996370        0.996993     0.995746       0.996369   \n",
              "0       CV + LogReg  0.995994        0.996244     0.995746       0.995995   \n",
              "3  TF-IDF + XGBoost  0.995869        0.996741     0.994995       0.995867   \n",
              "1   TF-IDF + LogReg  0.987232        0.989688     0.984735       0.987205   \n",
              "\n",
              "   Real_Precision  Real_Recall  Real_F1-score  \n",
              "2        0.995748     0.996995       0.996371  \n",
              "0        0.995745     0.996243       0.995994  \n",
              "3        0.995000     0.996744       0.995871  \n",
              "1        0.984799     0.989732       0.987260  "
            ]
          },
          "metadata": {},
          "output_type": "display_data"
        }
      ],
      "source": [
        "from sklearn.metrics import classification_report\n",
        "import pandas as pd\n",
        "\n",
        "# Assuming y_test contains integer labels (0 and 1)\n",
        "# Map integer labels to string labels for classification report\n",
        "target_names = ['fake', 'real']\n",
        "\n",
        "# Generate classification reports with target_names\n",
        "report1 = classification_report(y_test, pred1, target_names=target_names, output_dict=True, zero_division=0)\n",
        "report2 = classification_report(y_test, pred2, target_names=target_names, output_dict=True, zero_division=0)\n",
        "report3 = classification_report(y_test, pred3, target_names=target_names, output_dict=True, zero_division=0)\n",
        "report4 = classification_report(y_test, pred4, target_names=target_names, output_dict=True, zero_division=0)\n",
        "\n",
        "# Extract metrics for the table\n",
        "model_comparison = {\n",
        "    'Model': ['CV + LogReg', 'TF-IDF + LogReg', 'CV + XGBoost', 'TF-IDF + XGBoost'],\n",
        "    'Accuracy': [accuracy_score(y_test, pred1), accuracy_score(y_test, pred2), accuracy_score(y_test, pred3), accuracy_score(y_test, pred4)],\n",
        "    'Fake_Precision': [report1['fake']['precision'], report2['fake']['precision'], report3['fake']['precision'], report4['fake']['precision']],\n",
        "    'Fake_Recall': [report1['fake']['recall'], report2['fake']['recall'], report3['fake']['recall'], report4['fake']['recall']],\n",
        "    'Fake_F1-score': [report1['fake']['f1-score'], report2['fake']['f1-score'], report3['fake']['f1-score'], report4['fake']['f1-score']],\n",
        "    'Real_Precision': [report1['real']['precision'], report2['real']['precision'], report3['real']['precision'], report4['real']['precision']],\n",
        "    'Real_Recall': [report1['real']['recall'], report2['real']['recall'], report3['real']['recall'], report4['real']['recall']],\n",
        "    'Real_F1-score': [report1['real']['f1-score'], report2['real']['f1-score'], report3['real']['f1-score'], report4['real']['f1-score']],\n",
        "}\n",
        "\n",
        "comparison_df = pd.DataFrame(model_comparison)\n",
        "comparison_df_sorted = comparison_df.sort_values(by='Accuracy', ascending=False)\n",
        "display(comparison_df_sorted)\n",
        "\n"
      ]
    },
    {
      "cell_type": "code",
      "execution_count": null,
      "id": "-DhbihAJzqf4",
      "metadata": {
        "id": "-DhbihAJzqf4"
      },
      "outputs": [],
      "source": [
        "# For CountVectorizer + Logistic Regression\n",
        "results = grid.cv_results_\n",
        "train_scores = results['mean_train_score']\n",
        "val_scores = results['mean_test_score']\n",
        "params = results['params']\n",
        "\n",
        "alpha_values = [p['alpha'] for p in params]\n",
        "\n",
        "plt.figure(figsize=(8, 5))\n",
        "plt.plot(alpha_values, train_scores, label='Training Accuracy', marker='o')\n",
        "plt.plot(alpha_values, val_scores, label='Validation Accuracy', marker='o')\n",
        "plt.xscale('log')\n",
        "plt.xlabel('Alpha (Smoothing Parameter)')\n",
        "plt.ylabel('Accuracy')\n",
        "plt.title('Training and Validation Accuracy vs. Alpha (CountVectorizer + Naive Bayes)')\n",
        "plt.legend()\n",
        "plt.grid(True, which=\"both\", linestyle='--', alpha=0.6)\n",
        "plt.show()\n",
        "\n",
        "# For CountVectorizer + Logistic Regression\n",
        "# Calculate training accuracy\n",
        "y_train_pred_rf = LG.predict(X_train_tfidf)\n",
        "train_acc_rf = accuracy_score(y_train, y_train_pred_rf)\n",
        "\n",
        "# Calculate validation accuracy (already have this as acc_rf)\n",
        "val_acc_rf = acc_rf\n",
        "\n",
        "plt.figure(figsize=(6, 4))\n",
        "plt.bar(['Training Accuracy', 'Validation Accuracy'], [train_acc_rf, val_acc_rf], color=['blue', 'green'])\n",
        "plt.ylim(0.9, 1.0)\n",
        "plt.ylabel('Accuracy')\n",
        "plt.title('Training and Validation Accuracy (TF-IDF + Random Forest)')\n",
        "plt.show()\n",
        "\n",
        "# For TF-IDF + Naive Bayes\n",
        "# Calculate training accuracy\n",
        "y_train_pred_nb_tf = nb1_model_tf.predict(X_train_tfidf)\n",
        "train_acc_nb_tf = accuracy_score(y_train, y_train_pred_nb_tf)\n",
        "\n",
        "# Calculate validation accuracy (already have this as accuracy_score(y_test, pred1_tf))\n",
        "val_acc_nb_tf = accuracy_score(y_test, pred1_tf)\n",
        "\n",
        "plt.figure(figsize=(6, 4))\n",
        "plt.bar(['Training Accuracy', 'Validation Accuracy'], [train_acc_nb_tf, val_acc_nb_tf], color=['blue', 'green'])\n",
        "plt.ylim(0.9, 1.0)\n",
        "plt.ylabel('Accuracy')\n",
        "plt.title('Training and Validation Accuracy (TF-IDF + Naive Bayes)')\n",
        "plt.show()"
      ]
    }
  ],
  "metadata": {
    "colab": {
      "provenance": []
    },
    "kernelspec": {
      "display_name": "Python 3",
      "language": "python",
      "name": "python3"
    },
    "language_info": {
      "codemirror_mode": {
        "name": "ipython",
        "version": 3
      },
      "file_extension": ".py",
      "mimetype": "text/x-python",
      "name": "python",
      "nbconvert_exporter": "python",
      "pygments_lexer": "ipython3",
      "version": "3.11.9"
    }
  },
  "nbformat": 4,
  "nbformat_minor": 5
}
