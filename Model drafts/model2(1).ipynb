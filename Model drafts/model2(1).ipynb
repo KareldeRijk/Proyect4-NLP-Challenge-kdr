{
  "cells": [
    {
      "cell_type": "markdown",
      "source": [
        "##**Fake News Detection using** **NLP**\n",
        "The main objective is to develop and compare multiple models to accurately classify news as real or fake, with a focus on optimizing accuracy and F1-score."
      ],
      "metadata": {
        "id": "gAc8MqXlFeBa"
      },
      "id": "gAc8MqXlFeBa"
    },
    {
      "cell_type": "markdown",
      "source": [
        "\n",
        "# Project Workflow:\n",
        "Text Preprocessing: Cleaning and preparing the data using tokenization, stopword removal, and lemmatization.\n",
        "\n",
        "Feature Extraction: Converting text into numerical vectors using both CountVectorizer and TF-IDF Vectorizer.\n",
        "\n",
        "Model Development: Implemented and evaluated three different approaches:\n",
        "\n",
        "countVectorizer + Naive Bayes , TF-IDF + Random Forest, TF-IDF + Naive Bayes\n",
        "\n",
        "Model Evaluation: Compared all models using accuracy, confusion matrix, and F1-score to determine the most effective approach."
      ],
      "metadata": {
        "id": "78hsdrqIB1uP"
      },
      "id": "78hsdrqIB1uP"
    },
    {
      "cell_type": "markdown",
      "source": [
        "#Importing all required libraries"
      ],
      "metadata": {
        "id": "rd36K6_iRllE"
      },
      "id": "rd36K6_iRllE"
    },
    {
      "cell_type": "code",
      "execution_count": 7,
      "id": "8e4e2593",
      "metadata": {
        "colab": {
          "base_uri": "https://localhost:8080/"
        },
        "id": "8e4e2593",
        "outputId": "51755cfd-5e24-4ec2-a248-4b6ed99f4103"
      },
      "outputs": [
        {
          "output_type": "stream",
          "name": "stderr",
          "text": [
            "[nltk_data] Downloading package punkt to /root/nltk_data...\n",
            "[nltk_data]   Package punkt is already up-to-date!\n",
            "[nltk_data] Downloading package stopwords to /root/nltk_data...\n",
            "[nltk_data]   Package stopwords is already up-to-date!\n",
            "[nltk_data] Downloading package wordnet to /root/nltk_data...\n",
            "[nltk_data]   Package wordnet is already up-to-date!\n"
          ]
        }
      ],
      "source": [
        "# Data handling\n",
        "import pandas as pd\n",
        "import numpy as np\n",
        "\n",
        "# Text preprocessing\n",
        "import re\n",
        "import string\n",
        "import nltk\n",
        "from nltk.tokenize import word_tokenize\n",
        "from nltk.corpus import stopwords\n",
        "from nltk.stem import WordNetLemmatizer\n",
        "nltk.download('punkt')\n",
        "nltk.download('stopwords')\n",
        "nltk.download('wordnet')\n",
        "\n",
        "# Feature extraction\n",
        "from sklearn.feature_extraction.text import CountVectorizer, TfidfVectorizer\n",
        "\n",
        "# Machine learning models\n",
        "from sklearn.naive_bayes import MultinomialNB\n",
        "from sklearn.ensemble import RandomForestClassifier\n",
        "\n",
        "# Model evaluation\n",
        "from sklearn.model_selection import train_test_split\n",
        "from sklearn.metrics import accuracy_score, confusion_matrix, classification_report\n",
        "\n",
        "# Optional - Visualization\n",
        "import matplotlib.pyplot as plt\n",
        "import seaborn as sns\n"
      ]
    },
    {
      "cell_type": "markdown",
      "source": [
        "#Reading the data"
      ],
      "metadata": {
        "id": "mLT7DW0yepxG"
      },
      "id": "mLT7DW0yepxG"
    },
    {
      "cell_type": "code",
      "execution_count": 2,
      "id": "ef5a2209",
      "metadata": {
        "colab": {
          "base_uri": "https://localhost:8080/",
          "height": 206
        },
        "id": "ef5a2209",
        "outputId": "212aace4-9e0a-4789-f34d-c7431651c98b"
      },
      "outputs": [
        {
          "output_type": "execute_result",
          "data": {
            "text/plain": [
              "   label                                              title  \\\n",
              "0      1  As U.S. budget fight looms, Republicans flip t...   \n",
              "1      1  U.S. military to accept transgender recruits o...   \n",
              "2      1  Senior U.S. Republican senator: 'Let Mr. Muell...   \n",
              "3      1  FBI Russia probe helped by Australian diplomat...   \n",
              "4      1  Trump wants Postal Service to charge 'much mor...   \n",
              "\n",
              "                                                text       subject  \\\n",
              "0  WASHINGTON (Reuters) - The head of a conservat...  politicsNews   \n",
              "1  WASHINGTON (Reuters) - Transgender people will...  politicsNews   \n",
              "2  WASHINGTON (Reuters) - The special counsel inv...  politicsNews   \n",
              "3  WASHINGTON (Reuters) - Trump campaign adviser ...  politicsNews   \n",
              "4  SEATTLE/WASHINGTON (Reuters) - President Donal...  politicsNews   \n",
              "\n",
              "                 date  \n",
              "0  December 31, 2017   \n",
              "1  December 29, 2017   \n",
              "2  December 31, 2017   \n",
              "3  December 30, 2017   \n",
              "4  December 29, 2017   "
            ],
            "text/html": [
              "\n",
              "  <div id=\"df-ee071472-8316-4d48-91dd-8fcfe90d0321\" class=\"colab-df-container\">\n",
              "    <div>\n",
              "<style scoped>\n",
              "    .dataframe tbody tr th:only-of-type {\n",
              "        vertical-align: middle;\n",
              "    }\n",
              "\n",
              "    .dataframe tbody tr th {\n",
              "        vertical-align: top;\n",
              "    }\n",
              "\n",
              "    .dataframe thead th {\n",
              "        text-align: right;\n",
              "    }\n",
              "</style>\n",
              "<table border=\"1\" class=\"dataframe\">\n",
              "  <thead>\n",
              "    <tr style=\"text-align: right;\">\n",
              "      <th></th>\n",
              "      <th>label</th>\n",
              "      <th>title</th>\n",
              "      <th>text</th>\n",
              "      <th>subject</th>\n",
              "      <th>date</th>\n",
              "    </tr>\n",
              "  </thead>\n",
              "  <tbody>\n",
              "    <tr>\n",
              "      <th>0</th>\n",
              "      <td>1</td>\n",
              "      <td>As U.S. budget fight looms, Republicans flip t...</td>\n",
              "      <td>WASHINGTON (Reuters) - The head of a conservat...</td>\n",
              "      <td>politicsNews</td>\n",
              "      <td>December 31, 2017</td>\n",
              "    </tr>\n",
              "    <tr>\n",
              "      <th>1</th>\n",
              "      <td>1</td>\n",
              "      <td>U.S. military to accept transgender recruits o...</td>\n",
              "      <td>WASHINGTON (Reuters) - Transgender people will...</td>\n",
              "      <td>politicsNews</td>\n",
              "      <td>December 29, 2017</td>\n",
              "    </tr>\n",
              "    <tr>\n",
              "      <th>2</th>\n",
              "      <td>1</td>\n",
              "      <td>Senior U.S. Republican senator: 'Let Mr. Muell...</td>\n",
              "      <td>WASHINGTON (Reuters) - The special counsel inv...</td>\n",
              "      <td>politicsNews</td>\n",
              "      <td>December 31, 2017</td>\n",
              "    </tr>\n",
              "    <tr>\n",
              "      <th>3</th>\n",
              "      <td>1</td>\n",
              "      <td>FBI Russia probe helped by Australian diplomat...</td>\n",
              "      <td>WASHINGTON (Reuters) - Trump campaign adviser ...</td>\n",
              "      <td>politicsNews</td>\n",
              "      <td>December 30, 2017</td>\n",
              "    </tr>\n",
              "    <tr>\n",
              "      <th>4</th>\n",
              "      <td>1</td>\n",
              "      <td>Trump wants Postal Service to charge 'much mor...</td>\n",
              "      <td>SEATTLE/WASHINGTON (Reuters) - President Donal...</td>\n",
              "      <td>politicsNews</td>\n",
              "      <td>December 29, 2017</td>\n",
              "    </tr>\n",
              "  </tbody>\n",
              "</table>\n",
              "</div>\n",
              "    <div class=\"colab-df-buttons\">\n",
              "\n",
              "  <div class=\"colab-df-container\">\n",
              "    <button class=\"colab-df-convert\" onclick=\"convertToInteractive('df-ee071472-8316-4d48-91dd-8fcfe90d0321')\"\n",
              "            title=\"Convert this dataframe to an interactive table.\"\n",
              "            style=\"display:none;\">\n",
              "\n",
              "  <svg xmlns=\"http://www.w3.org/2000/svg\" height=\"24px\" viewBox=\"0 -960 960 960\">\n",
              "    <path d=\"M120-120v-720h720v720H120Zm60-500h600v-160H180v160Zm220 220h160v-160H400v160Zm0 220h160v-160H400v160ZM180-400h160v-160H180v160Zm440 0h160v-160H620v160ZM180-180h160v-160H180v160Zm440 0h160v-160H620v160Z\"/>\n",
              "  </svg>\n",
              "    </button>\n",
              "\n",
              "  <style>\n",
              "    .colab-df-container {\n",
              "      display:flex;\n",
              "      gap: 12px;\n",
              "    }\n",
              "\n",
              "    .colab-df-convert {\n",
              "      background-color: #E8F0FE;\n",
              "      border: none;\n",
              "      border-radius: 50%;\n",
              "      cursor: pointer;\n",
              "      display: none;\n",
              "      fill: #1967D2;\n",
              "      height: 32px;\n",
              "      padding: 0 0 0 0;\n",
              "      width: 32px;\n",
              "    }\n",
              "\n",
              "    .colab-df-convert:hover {\n",
              "      background-color: #E2EBFA;\n",
              "      box-shadow: 0px 1px 2px rgba(60, 64, 67, 0.3), 0px 1px 3px 1px rgba(60, 64, 67, 0.15);\n",
              "      fill: #174EA6;\n",
              "    }\n",
              "\n",
              "    .colab-df-buttons div {\n",
              "      margin-bottom: 4px;\n",
              "    }\n",
              "\n",
              "    [theme=dark] .colab-df-convert {\n",
              "      background-color: #3B4455;\n",
              "      fill: #D2E3FC;\n",
              "    }\n",
              "\n",
              "    [theme=dark] .colab-df-convert:hover {\n",
              "      background-color: #434B5C;\n",
              "      box-shadow: 0px 1px 3px 1px rgba(0, 0, 0, 0.15);\n",
              "      filter: drop-shadow(0px 1px 2px rgba(0, 0, 0, 0.3));\n",
              "      fill: #FFFFFF;\n",
              "    }\n",
              "  </style>\n",
              "\n",
              "    <script>\n",
              "      const buttonEl =\n",
              "        document.querySelector('#df-ee071472-8316-4d48-91dd-8fcfe90d0321 button.colab-df-convert');\n",
              "      buttonEl.style.display =\n",
              "        google.colab.kernel.accessAllowed ? 'block' : 'none';\n",
              "\n",
              "      async function convertToInteractive(key) {\n",
              "        const element = document.querySelector('#df-ee071472-8316-4d48-91dd-8fcfe90d0321');\n",
              "        const dataTable =\n",
              "          await google.colab.kernel.invokeFunction('convertToInteractive',\n",
              "                                                    [key], {});\n",
              "        if (!dataTable) return;\n",
              "\n",
              "        const docLinkHtml = 'Like what you see? Visit the ' +\n",
              "          '<a target=\"_blank\" href=https://colab.research.google.com/notebooks/data_table.ipynb>data table notebook</a>'\n",
              "          + ' to learn more about interactive tables.';\n",
              "        element.innerHTML = '';\n",
              "        dataTable['output_type'] = 'display_data';\n",
              "        await google.colab.output.renderOutput(dataTable, element);\n",
              "        const docLink = document.createElement('div');\n",
              "        docLink.innerHTML = docLinkHtml;\n",
              "        element.appendChild(docLink);\n",
              "      }\n",
              "    </script>\n",
              "  </div>\n",
              "\n",
              "\n",
              "    <div id=\"df-16961570-0110-4a0f-992e-41605f2ad19c\">\n",
              "      <button class=\"colab-df-quickchart\" onclick=\"quickchart('df-16961570-0110-4a0f-992e-41605f2ad19c')\"\n",
              "                title=\"Suggest charts\"\n",
              "                style=\"display:none;\">\n",
              "\n",
              "<svg xmlns=\"http://www.w3.org/2000/svg\" height=\"24px\"viewBox=\"0 0 24 24\"\n",
              "     width=\"24px\">\n",
              "    <g>\n",
              "        <path d=\"M19 3H5c-1.1 0-2 .9-2 2v14c0 1.1.9 2 2 2h14c1.1 0 2-.9 2-2V5c0-1.1-.9-2-2-2zM9 17H7v-7h2v7zm4 0h-2V7h2v10zm4 0h-2v-4h2v4z\"/>\n",
              "    </g>\n",
              "</svg>\n",
              "      </button>\n",
              "\n",
              "<style>\n",
              "  .colab-df-quickchart {\n",
              "      --bg-color: #E8F0FE;\n",
              "      --fill-color: #1967D2;\n",
              "      --hover-bg-color: #E2EBFA;\n",
              "      --hover-fill-color: #174EA6;\n",
              "      --disabled-fill-color: #AAA;\n",
              "      --disabled-bg-color: #DDD;\n",
              "  }\n",
              "\n",
              "  [theme=dark] .colab-df-quickchart {\n",
              "      --bg-color: #3B4455;\n",
              "      --fill-color: #D2E3FC;\n",
              "      --hover-bg-color: #434B5C;\n",
              "      --hover-fill-color: #FFFFFF;\n",
              "      --disabled-bg-color: #3B4455;\n",
              "      --disabled-fill-color: #666;\n",
              "  }\n",
              "\n",
              "  .colab-df-quickchart {\n",
              "    background-color: var(--bg-color);\n",
              "    border: none;\n",
              "    border-radius: 50%;\n",
              "    cursor: pointer;\n",
              "    display: none;\n",
              "    fill: var(--fill-color);\n",
              "    height: 32px;\n",
              "    padding: 0;\n",
              "    width: 32px;\n",
              "  }\n",
              "\n",
              "  .colab-df-quickchart:hover {\n",
              "    background-color: var(--hover-bg-color);\n",
              "    box-shadow: 0 1px 2px rgba(60, 64, 67, 0.3), 0 1px 3px 1px rgba(60, 64, 67, 0.15);\n",
              "    fill: var(--button-hover-fill-color);\n",
              "  }\n",
              "\n",
              "  .colab-df-quickchart-complete:disabled,\n",
              "  .colab-df-quickchart-complete:disabled:hover {\n",
              "    background-color: var(--disabled-bg-color);\n",
              "    fill: var(--disabled-fill-color);\n",
              "    box-shadow: none;\n",
              "  }\n",
              "\n",
              "  .colab-df-spinner {\n",
              "    border: 2px solid var(--fill-color);\n",
              "    border-color: transparent;\n",
              "    border-bottom-color: var(--fill-color);\n",
              "    animation:\n",
              "      spin 1s steps(1) infinite;\n",
              "  }\n",
              "\n",
              "  @keyframes spin {\n",
              "    0% {\n",
              "      border-color: transparent;\n",
              "      border-bottom-color: var(--fill-color);\n",
              "      border-left-color: var(--fill-color);\n",
              "    }\n",
              "    20% {\n",
              "      border-color: transparent;\n",
              "      border-left-color: var(--fill-color);\n",
              "      border-top-color: var(--fill-color);\n",
              "    }\n",
              "    30% {\n",
              "      border-color: transparent;\n",
              "      border-left-color: var(--fill-color);\n",
              "      border-top-color: var(--fill-color);\n",
              "      border-right-color: var(--fill-color);\n",
              "    }\n",
              "    40% {\n",
              "      border-color: transparent;\n",
              "      border-right-color: var(--fill-color);\n",
              "      border-top-color: var(--fill-color);\n",
              "    }\n",
              "    60% {\n",
              "      border-color: transparent;\n",
              "      border-right-color: var(--fill-color);\n",
              "    }\n",
              "    80% {\n",
              "      border-color: transparent;\n",
              "      border-right-color: var(--fill-color);\n",
              "      border-bottom-color: var(--fill-color);\n",
              "    }\n",
              "    90% {\n",
              "      border-color: transparent;\n",
              "      border-bottom-color: var(--fill-color);\n",
              "    }\n",
              "  }\n",
              "</style>\n",
              "\n",
              "      <script>\n",
              "        async function quickchart(key) {\n",
              "          const quickchartButtonEl =\n",
              "            document.querySelector('#' + key + ' button');\n",
              "          quickchartButtonEl.disabled = true;  // To prevent multiple clicks.\n",
              "          quickchartButtonEl.classList.add('colab-df-spinner');\n",
              "          try {\n",
              "            const charts = await google.colab.kernel.invokeFunction(\n",
              "                'suggestCharts', [key], {});\n",
              "          } catch (error) {\n",
              "            console.error('Error during call to suggestCharts:', error);\n",
              "          }\n",
              "          quickchartButtonEl.classList.remove('colab-df-spinner');\n",
              "          quickchartButtonEl.classList.add('colab-df-quickchart-complete');\n",
              "        }\n",
              "        (() => {\n",
              "          let quickchartButtonEl =\n",
              "            document.querySelector('#df-16961570-0110-4a0f-992e-41605f2ad19c button');\n",
              "          quickchartButtonEl.style.display =\n",
              "            google.colab.kernel.accessAllowed ? 'block' : 'none';\n",
              "        })();\n",
              "      </script>\n",
              "    </div>\n",
              "\n",
              "    </div>\n",
              "  </div>\n"
            ],
            "application/vnd.google.colaboratory.intrinsic+json": {
              "type": "dataframe",
              "variable_name": "df",
              "summary": "{\n  \"name\": \"df\",\n  \"rows\": 39942,\n  \"fields\": [\n    {\n      \"column\": \"label\",\n      \"properties\": {\n        \"dtype\": \"number\",\n        \"std\": 0,\n        \"min\": 0,\n        \"max\": 1,\n        \"num_unique_values\": 2,\n        \"samples\": [\n          0,\n          1\n        ],\n        \"semantic_type\": \"\",\n        \"description\": \"\"\n      }\n    },\n    {\n      \"column\": \"title\",\n      \"properties\": {\n        \"dtype\": \"string\",\n        \"num_unique_values\": 36083,\n        \"samples\": [\n          \"Swedish airport explosive suspect released without charge: prosecutor\",\n          \" Democrats Across The Country Are Figuring Out Ways To FORCE Trump To Release His Tax Returns\"\n        ],\n        \"semantic_type\": \"\",\n        \"description\": \"\"\n      }\n    },\n    {\n      \"column\": \"text\",\n      \"properties\": {\n        \"dtype\": \"string\",\n        \"num_unique_values\": 35977,\n        \"samples\": [\n          \"Rudi gets it! The former mayor of New York speaks out on the horrible Obama foreign policy and how it created ISIS: This did not have to happen if our policies were different.  If President Obama had listened to Senator McCain and Senator Graham and a whole group of other people, and had set up a no-fly zone in Syria five years ago   if we had gone in and worked with the Syrian legitimate rebels  If we had not taken our troops out of Iraq and Afghanistan, ISIS never would have emerged. ISIS is filling a vacuum created by a vacuous foreign policy   ISIS is an Obama creation.  \",\n          \" You re carrying Mexican flags while chanting,  Trump is not my President.  You know that this is America right? ***Language warning***\"\n        ],\n        \"semantic_type\": \"\",\n        \"description\": \"\"\n      }\n    },\n    {\n      \"column\": \"subject\",\n      \"properties\": {\n        \"dtype\": \"category\",\n        \"num_unique_values\": 6,\n        \"samples\": [\n          \"politicsNews\",\n          \"worldnews\"\n        ],\n        \"semantic_type\": \"\",\n        \"description\": \"\"\n      }\n    },\n    {\n      \"column\": \"date\",\n      \"properties\": {\n        \"dtype\": \"category\",\n        \"num_unique_values\": 2392,\n        \"samples\": [\n          \"March 10, 2017\",\n          \"June 16, 2017 \"\n        ],\n        \"semantic_type\": \"\",\n        \"description\": \"\"\n      }\n    }\n  ]\n}"
            }
          },
          "metadata": {},
          "execution_count": 2
        }
      ],
      "source": [
        "df = pd.read_csv(\"/content/data.csv\", on_bad_lines='skip', encoding='utf-8')\n",
        "df.head()"
      ]
    },
    {
      "cell_type": "markdown",
      "source": [
        "#Preprocessing on data\n",
        "\n",
        "*   Dropping few columns\n",
        "*   checking for nulls\n"
      ],
      "metadata": {
        "id": "MwcqQhA1i0r8"
      },
      "id": "MwcqQhA1i0r8"
    },
    {
      "cell_type": "markdown",
      "source": [
        "Dropping Title,subject and date columns (To detect fake news or not, these columns are not very relevant as we have text column also)"
      ],
      "metadata": {
        "id": "fqpkDcodje2_"
      },
      "id": "fqpkDcodje2_"
    },
    {
      "cell_type": "code",
      "source": [
        "df = df.drop(columns = [\"title\",\"subject\",\"date\"], axis = 1)"
      ],
      "metadata": {
        "id": "NtQ5mxvlezEx"
      },
      "id": "NtQ5mxvlezEx",
      "execution_count": 3,
      "outputs": []
    },
    {
      "cell_type": "markdown",
      "source": [
        "Checking the class imbalance"
      ],
      "metadata": {
        "id": "NzmceE6Lj4pc"
      },
      "id": "NzmceE6Lj4pc"
    },
    {
      "cell_type": "code",
      "source": [
        "df[\"label\"].value_counts() #It seems classes are balanced"
      ],
      "metadata": {
        "colab": {
          "base_uri": "https://localhost:8080/",
          "height": 178
        },
        "id": "NZc_9iyXdZvw",
        "outputId": "3056acab-453a-4e6d-9fb5-216433f74d96"
      },
      "id": "NZc_9iyXdZvw",
      "execution_count": 4,
      "outputs": [
        {
          "output_type": "execute_result",
          "data": {
            "text/plain": [
              "label\n",
              "1    19999\n",
              "0    19943\n",
              "Name: count, dtype: int64"
            ],
            "text/html": [
              "<div>\n",
              "<style scoped>\n",
              "    .dataframe tbody tr th:only-of-type {\n",
              "        vertical-align: middle;\n",
              "    }\n",
              "\n",
              "    .dataframe tbody tr th {\n",
              "        vertical-align: top;\n",
              "    }\n",
              "\n",
              "    .dataframe thead th {\n",
              "        text-align: right;\n",
              "    }\n",
              "</style>\n",
              "<table border=\"1\" class=\"dataframe\">\n",
              "  <thead>\n",
              "    <tr style=\"text-align: right;\">\n",
              "      <th></th>\n",
              "      <th>count</th>\n",
              "    </tr>\n",
              "    <tr>\n",
              "      <th>label</th>\n",
              "      <th></th>\n",
              "    </tr>\n",
              "  </thead>\n",
              "  <tbody>\n",
              "    <tr>\n",
              "      <th>1</th>\n",
              "      <td>19999</td>\n",
              "    </tr>\n",
              "    <tr>\n",
              "      <th>0</th>\n",
              "      <td>19943</td>\n",
              "    </tr>\n",
              "  </tbody>\n",
              "</table>\n",
              "</div><br><label><b>dtype:</b> int64</label>"
            ]
          },
          "metadata": {},
          "execution_count": 4
        }
      ]
    },
    {
      "cell_type": "markdown",
      "source": [
        "Checking for nulls in the dataset"
      ],
      "metadata": {
        "id": "FIcTe-xNkOUT"
      },
      "id": "FIcTe-xNkOUT"
    },
    {
      "cell_type": "code",
      "source": [
        "df.isnull().sum() # there is no null value"
      ],
      "metadata": {
        "colab": {
          "base_uri": "https://localhost:8080/",
          "height": 147
        },
        "id": "uygkyRfekBiT",
        "outputId": "b8eb8723-9556-4a5f-c791-2b5895af31b6"
      },
      "id": "uygkyRfekBiT",
      "execution_count": 5,
      "outputs": [
        {
          "output_type": "execute_result",
          "data": {
            "text/plain": [
              "label    0\n",
              "text     0\n",
              "dtype: int64"
            ],
            "text/html": [
              "<div>\n",
              "<style scoped>\n",
              "    .dataframe tbody tr th:only-of-type {\n",
              "        vertical-align: middle;\n",
              "    }\n",
              "\n",
              "    .dataframe tbody tr th {\n",
              "        vertical-align: top;\n",
              "    }\n",
              "\n",
              "    .dataframe thead th {\n",
              "        text-align: right;\n",
              "    }\n",
              "</style>\n",
              "<table border=\"1\" class=\"dataframe\">\n",
              "  <thead>\n",
              "    <tr style=\"text-align: right;\">\n",
              "      <th></th>\n",
              "      <th>0</th>\n",
              "    </tr>\n",
              "  </thead>\n",
              "  <tbody>\n",
              "    <tr>\n",
              "      <th>label</th>\n",
              "      <td>0</td>\n",
              "    </tr>\n",
              "    <tr>\n",
              "      <th>text</th>\n",
              "      <td>0</td>\n",
              "    </tr>\n",
              "  </tbody>\n",
              "</table>\n",
              "</div><br><label><b>dtype:</b> int64</label>"
            ]
          },
          "metadata": {},
          "execution_count": 5
        }
      ]
    },
    {
      "cell_type": "markdown",
      "source": [
        "Function for all data cleaning\n",
        "             \n",
        "\n"
      ],
      "metadata": {
        "id": "NxLAhh8pmpp7"
      },
      "id": "NxLAhh8pmpp7"
    },
    {
      "cell_type": "markdown",
      "source": [
        "### Text Preprocessing Pipeline Summary\n",
        "\n",
        "This function prepares raw text data for NLP tasks like classification:\n",
        "\n",
        "- **Tokenization**: Splits text into individual words.\n",
        "- **Stopword Removal**: Removes common, less informative words like \"the\", \"is\", etc.\n",
        "- **Punctuation & Number Removal**: Keeps only alphabetic characters to avoid noise.\n",
        "- **Lemmatization**: Converts words to their root form (e.g., \"running\" → \"run\").\n",
        "\n",
        "➡ This standardizes the text, reduces noise, and improves the performance of models like Naive Bayes and Random Forest by focusing on meaningful words.\n"
      ],
      "metadata": {
        "id": "cWl-Mn56VkcZ"
      },
      "id": "cWl-Mn56VkcZ"
    },
    {
      "cell_type": "code",
      "source": [
        "# Download required resources\n",
        "def text_preprocessing_pipeline(text):\n",
        "    # Step 1: Tokenize the text\n",
        "    tokens = word_tokenize(text)\n",
        "\n",
        "    # Step 2: Remove stopwords\n",
        "    stop_words = set(stopwords.words('english'))\n",
        "    tokens = [word.lower() for word in tokens if word.lower() not in stop_words]\n",
        "\n",
        "\n",
        "    # Step 3: Remove punctuation and numbers\n",
        "    tokens = [re.sub(r'[^a-zA-Z]', '', word) for word in tokens]  # Keep only letters\n",
        "    tokens = [word for word in tokens if word]  # Remove empty strings\n",
        "\n",
        "    # Step 4: Lemmatization\n",
        "    lemmatizer = WordNetLemmatizer()\n",
        "    lemmatized_tokens = [lemmatizer.lemmatize(word) for word in tokens]\n",
        "\n",
        "    return ' '.join(lemmatized_tokens)"
      ],
      "metadata": {
        "id": "_9GOPWXBkSdj"
      },
      "id": "_9GOPWXBkSdj",
      "execution_count": 17,
      "outputs": []
    },
    {
      "cell_type": "code",
      "source": [
        "df['clean_text'] = df['text'].apply(text_preprocessing_pipeline)\n"
      ],
      "metadata": {
        "id": "hV-QvTlhmzyH"
      },
      "id": "hV-QvTlhmzyH",
      "execution_count": 9,
      "outputs": []
    },
    {
      "cell_type": "code",
      "source": [
        "df['clean_text'][0]"
      ],
      "metadata": {
        "colab": {
          "base_uri": "https://localhost:8080/",
          "height": 122
        },
        "id": "hxIdGw2tWI_f",
        "outputId": "29bea8dc-23b5-4801-8917-5f144371774e"
      },
      "id": "hxIdGw2tWI_f",
      "execution_count": 20,
      "outputs": [
        {
          "output_type": "execute_result",
          "data": {
            "text/plain": [
              "'washington reuters the head conservative republican faction u congress voted month huge expansion national debt pay tax cut called fiscal conservative sunday urged budget restraint in keeping sharp pivot way among republican u representative mark meadow speaking cbs face nation drew hard line federal spending lawmaker bracing battle january when return holiday wednesday lawmaker begin trying pas federal budget fight likely linked issue immigration policy even november congressional election campaign approach republican seek keep control congress president donald trump republican want big budget increase military spending democrat also want proportional increase nondefense discretionary spending program support education scientific research infrastructure public health environmental protection the trump administration already willing say we going increase nondefense discretionary spending percent meadow chairman small influential house freedom caucus said program now democrat saying enough need give government pay raise percent for fiscal conservative i see rationale eventually run people money said meadow among republican voted late december party debtfinanced tax overhaul expected balloon federal budget deficit add trillion year trillion national debt it interesting hear mark talk fiscal responsibility democratic u representative joseph crowley said cbs crowley said republican tax bill would require united state borrow trillion paid future generation finance tax cut corporation rich this one least fiscally responsible bill ever seen passed history house representative i think going paying many many year come crowley said republican insist tax package biggest u tax overhaul year boost economy job growth house speaker paul ryan also supported tax bill recently went meadow making clear radio interview welfare entitlement reform party often call would top republican priority in republican parlance entitlement program mean food stamp housing assistance medicare medicaid health insurance elderly poor disabled well program created washington assist needy democrat seized ryan early december remark saying showed republican would try pay tax overhaul seeking spending cut social program but goal house republican may take back seat senate vote democrat needed approve budget prevent government shutdown democrat use leverage senate republican narrowly control defend discretionary nondefense program social spending tackling issue dreamer people brought illegally country child trump september put march expiration date deferred action childhood arrival daca program protects young immigrant deportation provides work permit the president said recent twitter message want funding proposed mexican border wall immigration law change exchange agreeing help dreamer representative debbie dingell told cbs favor linking issue policy objective wall funding we need daca clean said on wednesday trump aide meet congressional leader discus issue that followed weekend strategy session trump republican leader jan white house said trump also scheduled meet sunday florida republican governor rick scott want emergency aid the house passed billion aid package hurricane florida texas puerto rico wildfire california the package far exceeded billion requested trump administration the senate yet voted aid'"
            ],
            "application/vnd.google.colaboratory.intrinsic+json": {
              "type": "string"
            }
          },
          "metadata": {},
          "execution_count": 20
        }
      ]
    },
    {
      "cell_type": "code",
      "source": [
        "df['clean_text'][39937]"
      ],
      "metadata": {
        "colab": {
          "base_uri": "https://localhost:8080/",
          "height": 122
        },
        "id": "zJngC_6LWin9",
        "outputId": "ac394ed2-e320-462d-a0bc-00f062cae3f7"
      },
      "id": "zJngC_6LWin9",
      "execution_count": 22,
      "outputs": [
        {
          "output_type": "execute_result",
          "data": {
            "text/plain": [
              "'the left organizing decade george soros funding from chaos occupy wall street black life matter wherever chaos anarchy america george soros democrat party usually behind there report several year voter fraud effort suggested george soros involved this another example involvement scheme effect result election america using vast global network a new campaign touted october surprise end trump seeking mobilise secret swing state million mostly unregistered global citizen progressive american living abroad vote u electionthe million american abroad almost never vote this dead easy tool fix make famous http tcozllekdub avaaz avaaz september the initiative launched london united kingdom wednesday avaaz registered u charity one world largest powerful activist group linked globalist billionaire george soros campaigner toured university college london parliament blasting bruce springsteen born usa chanting don vote trump open top buswhile illegal registered u charity work presidential candidate spokeswoman avaaz denied connection hillary campaign quizzed campaigner avaaz however recorded shouting vote hillary demonstrationa huge per cent american living abroad register vote last presidential election avaaz point massive untapped voting block much likely progressive per cent u uk master degree overwhelmingly donated democratic candidate last three presidential primariesdoes anybody really believe get vote effort register legal american citizen this effort fraud written and little month go general election manpower pour new incoming registration going come if i know better i think george soros hillary planned overwhelm system last minute foreign vote properly vetted election kinda like muslim refugee the view top avaaz stop trump battle bus london american music balloon flag chanting lbc pictwittercomslstfdqti rachael venables rachaelvenables september avaaz created world first global citizen getoutthevote drive m alexander added the people share facebook american abroad see able stop global threat trump the group chose london launch uk largest concentration u expat outside north america event several american registered vote medium prove easy avaaz new tool for month world sat sideline horrified trump hate now global citizen way fight back emma rubysachs deputy director avaaz addedthe charity website encourages people email potential u voter country giving template read million american abroad could defeat trump vote i wanted make sure saw new overseas registration tool make voting deadeasy it literally take minute their effort stop uk also putting call mexican register vote who checking validity million vote coming last minute from register vote hillary campaign mexico million american mexico stop trump s wall gringosavotar campaign kick sun mexico city http tcoqfjjjkd pictwittercomtvcescy avaaz avaaz september english over million u citizen live mexico participation election key stopping trump beautiful wall this sunday meeting angel de la independencia paseo de la rom heart mexico city spread word register u voter sitethere music great people medium come take picture front massive artistic model trump wall say gringosavotar united trump rsvp share widely friendsif u passport holder want register vote site make sure bring scanned copy passport u voter mexico also register directly wwwavaazorggringosavotarsomething tell johnny cash alive today would approve clown using music promote destruction america foreign land via breitbart news'"
            ],
            "application/vnd.google.colaboratory.intrinsic+json": {
              "type": "string"
            }
          },
          "metadata": {},
          "execution_count": 22
        }
      ]
    },
    {
      "cell_type": "code",
      "source": [
        "df"
      ],
      "metadata": {
        "colab": {
          "base_uri": "https://localhost:8080/",
          "height": 424
        },
        "id": "2VECwQhapNz5",
        "outputId": "64737653-dc18-4a26-a601-ab04cddde8bc"
      },
      "id": "2VECwQhapNz5",
      "execution_count": 9,
      "outputs": [
        {
          "output_type": "execute_result",
          "data": {
            "text/plain": [
              "       label                                               text  \\\n",
              "0          1  WASHINGTON (Reuters) - The head of a conservat...   \n",
              "1          1  WASHINGTON (Reuters) - Transgender people will...   \n",
              "2          1  WASHINGTON (Reuters) - The special counsel inv...   \n",
              "3          1  WASHINGTON (Reuters) - Trump campaign adviser ...   \n",
              "4          1  SEATTLE/WASHINGTON (Reuters) - President Donal...   \n",
              "...      ...                                                ...   \n",
              "39937      0  The Left has been organizing for decades, and ...   \n",
              "39938      0  Monica Crowley offers some of the most brillia...   \n",
              "39939      0  Protest underway in Charlotte:  Things got com...   \n",
              "39940      0  Local Charlotte, NC news station WSOCTV is rep...   \n",
              "39941      0  Dividing America will be Obama s legacy. Hilla...   \n",
              "\n",
              "                                              clean_text  \n",
              "0      washington reuters head conservative republica...  \n",
              "1      washington reuters transgender people allowed ...  \n",
              "2      washington reuters special counsel investigati...  \n",
              "3      washington reuters trump campaign adviser geor...  \n",
              "4      seattlewashington reuters president donald tru...  \n",
              "...                                                  ...  \n",
              "39937  left organizing decade george soros funding ch...  \n",
              "39938  monica crowley offer brilliant political analy...  \n",
              "39939  protest underway charlotte thing got completel...  \n",
              "39940  local charlotte nc news station wsoctv reporti...  \n",
              "39941  dividing america obama legacy hillary continue...  \n",
              "\n",
              "[39942 rows x 3 columns]"
            ],
            "text/html": [
              "\n",
              "  <div id=\"df-02c8e4a6-fcc0-4f32-9c40-605e73fa154a\" class=\"colab-df-container\">\n",
              "    <div>\n",
              "<style scoped>\n",
              "    .dataframe tbody tr th:only-of-type {\n",
              "        vertical-align: middle;\n",
              "    }\n",
              "\n",
              "    .dataframe tbody tr th {\n",
              "        vertical-align: top;\n",
              "    }\n",
              "\n",
              "    .dataframe thead th {\n",
              "        text-align: right;\n",
              "    }\n",
              "</style>\n",
              "<table border=\"1\" class=\"dataframe\">\n",
              "  <thead>\n",
              "    <tr style=\"text-align: right;\">\n",
              "      <th></th>\n",
              "      <th>label</th>\n",
              "      <th>text</th>\n",
              "      <th>clean_text</th>\n",
              "    </tr>\n",
              "  </thead>\n",
              "  <tbody>\n",
              "    <tr>\n",
              "      <th>0</th>\n",
              "      <td>1</td>\n",
              "      <td>WASHINGTON (Reuters) - The head of a conservat...</td>\n",
              "      <td>washington reuters head conservative republica...</td>\n",
              "    </tr>\n",
              "    <tr>\n",
              "      <th>1</th>\n",
              "      <td>1</td>\n",
              "      <td>WASHINGTON (Reuters) - Transgender people will...</td>\n",
              "      <td>washington reuters transgender people allowed ...</td>\n",
              "    </tr>\n",
              "    <tr>\n",
              "      <th>2</th>\n",
              "      <td>1</td>\n",
              "      <td>WASHINGTON (Reuters) - The special counsel inv...</td>\n",
              "      <td>washington reuters special counsel investigati...</td>\n",
              "    </tr>\n",
              "    <tr>\n",
              "      <th>3</th>\n",
              "      <td>1</td>\n",
              "      <td>WASHINGTON (Reuters) - Trump campaign adviser ...</td>\n",
              "      <td>washington reuters trump campaign adviser geor...</td>\n",
              "    </tr>\n",
              "    <tr>\n",
              "      <th>4</th>\n",
              "      <td>1</td>\n",
              "      <td>SEATTLE/WASHINGTON (Reuters) - President Donal...</td>\n",
              "      <td>seattlewashington reuters president donald tru...</td>\n",
              "    </tr>\n",
              "    <tr>\n",
              "      <th>...</th>\n",
              "      <td>...</td>\n",
              "      <td>...</td>\n",
              "      <td>...</td>\n",
              "    </tr>\n",
              "    <tr>\n",
              "      <th>39937</th>\n",
              "      <td>0</td>\n",
              "      <td>The Left has been organizing for decades, and ...</td>\n",
              "      <td>left organizing decade george soros funding ch...</td>\n",
              "    </tr>\n",
              "    <tr>\n",
              "      <th>39938</th>\n",
              "      <td>0</td>\n",
              "      <td>Monica Crowley offers some of the most brillia...</td>\n",
              "      <td>monica crowley offer brilliant political analy...</td>\n",
              "    </tr>\n",
              "    <tr>\n",
              "      <th>39939</th>\n",
              "      <td>0</td>\n",
              "      <td>Protest underway in Charlotte:  Things got com...</td>\n",
              "      <td>protest underway charlotte thing got completel...</td>\n",
              "    </tr>\n",
              "    <tr>\n",
              "      <th>39940</th>\n",
              "      <td>0</td>\n",
              "      <td>Local Charlotte, NC news station WSOCTV is rep...</td>\n",
              "      <td>local charlotte nc news station wsoctv reporti...</td>\n",
              "    </tr>\n",
              "    <tr>\n",
              "      <th>39941</th>\n",
              "      <td>0</td>\n",
              "      <td>Dividing America will be Obama s legacy. Hilla...</td>\n",
              "      <td>dividing america obama legacy hillary continue...</td>\n",
              "    </tr>\n",
              "  </tbody>\n",
              "</table>\n",
              "<p>39942 rows × 3 columns</p>\n",
              "</div>\n",
              "    <div class=\"colab-df-buttons\">\n",
              "\n",
              "  <div class=\"colab-df-container\">\n",
              "    <button class=\"colab-df-convert\" onclick=\"convertToInteractive('df-02c8e4a6-fcc0-4f32-9c40-605e73fa154a')\"\n",
              "            title=\"Convert this dataframe to an interactive table.\"\n",
              "            style=\"display:none;\">\n",
              "\n",
              "  <svg xmlns=\"http://www.w3.org/2000/svg\" height=\"24px\" viewBox=\"0 -960 960 960\">\n",
              "    <path d=\"M120-120v-720h720v720H120Zm60-500h600v-160H180v160Zm220 220h160v-160H400v160Zm0 220h160v-160H400v160ZM180-400h160v-160H180v160Zm440 0h160v-160H620v160ZM180-180h160v-160H180v160Zm440 0h160v-160H620v160Z\"/>\n",
              "  </svg>\n",
              "    </button>\n",
              "\n",
              "  <style>\n",
              "    .colab-df-container {\n",
              "      display:flex;\n",
              "      gap: 12px;\n",
              "    }\n",
              "\n",
              "    .colab-df-convert {\n",
              "      background-color: #E8F0FE;\n",
              "      border: none;\n",
              "      border-radius: 50%;\n",
              "      cursor: pointer;\n",
              "      display: none;\n",
              "      fill: #1967D2;\n",
              "      height: 32px;\n",
              "      padding: 0 0 0 0;\n",
              "      width: 32px;\n",
              "    }\n",
              "\n",
              "    .colab-df-convert:hover {\n",
              "      background-color: #E2EBFA;\n",
              "      box-shadow: 0px 1px 2px rgba(60, 64, 67, 0.3), 0px 1px 3px 1px rgba(60, 64, 67, 0.15);\n",
              "      fill: #174EA6;\n",
              "    }\n",
              "\n",
              "    .colab-df-buttons div {\n",
              "      margin-bottom: 4px;\n",
              "    }\n",
              "\n",
              "    [theme=dark] .colab-df-convert {\n",
              "      background-color: #3B4455;\n",
              "      fill: #D2E3FC;\n",
              "    }\n",
              "\n",
              "    [theme=dark] .colab-df-convert:hover {\n",
              "      background-color: #434B5C;\n",
              "      box-shadow: 0px 1px 3px 1px rgba(0, 0, 0, 0.15);\n",
              "      filter: drop-shadow(0px 1px 2px rgba(0, 0, 0, 0.3));\n",
              "      fill: #FFFFFF;\n",
              "    }\n",
              "  </style>\n",
              "\n",
              "    <script>\n",
              "      const buttonEl =\n",
              "        document.querySelector('#df-02c8e4a6-fcc0-4f32-9c40-605e73fa154a button.colab-df-convert');\n",
              "      buttonEl.style.display =\n",
              "        google.colab.kernel.accessAllowed ? 'block' : 'none';\n",
              "\n",
              "      async function convertToInteractive(key) {\n",
              "        const element = document.querySelector('#df-02c8e4a6-fcc0-4f32-9c40-605e73fa154a');\n",
              "        const dataTable =\n",
              "          await google.colab.kernel.invokeFunction('convertToInteractive',\n",
              "                                                    [key], {});\n",
              "        if (!dataTable) return;\n",
              "\n",
              "        const docLinkHtml = 'Like what you see? Visit the ' +\n",
              "          '<a target=\"_blank\" href=https://colab.research.google.com/notebooks/data_table.ipynb>data table notebook</a>'\n",
              "          + ' to learn more about interactive tables.';\n",
              "        element.innerHTML = '';\n",
              "        dataTable['output_type'] = 'display_data';\n",
              "        await google.colab.output.renderOutput(dataTable, element);\n",
              "        const docLink = document.createElement('div');\n",
              "        docLink.innerHTML = docLinkHtml;\n",
              "        element.appendChild(docLink);\n",
              "      }\n",
              "    </script>\n",
              "  </div>\n",
              "\n",
              "\n",
              "    <div id=\"df-0cddce24-26e7-41b1-8d5f-0e157770b5e1\">\n",
              "      <button class=\"colab-df-quickchart\" onclick=\"quickchart('df-0cddce24-26e7-41b1-8d5f-0e157770b5e1')\"\n",
              "                title=\"Suggest charts\"\n",
              "                style=\"display:none;\">\n",
              "\n",
              "<svg xmlns=\"http://www.w3.org/2000/svg\" height=\"24px\"viewBox=\"0 0 24 24\"\n",
              "     width=\"24px\">\n",
              "    <g>\n",
              "        <path d=\"M19 3H5c-1.1 0-2 .9-2 2v14c0 1.1.9 2 2 2h14c1.1 0 2-.9 2-2V5c0-1.1-.9-2-2-2zM9 17H7v-7h2v7zm4 0h-2V7h2v10zm4 0h-2v-4h2v4z\"/>\n",
              "    </g>\n",
              "</svg>\n",
              "      </button>\n",
              "\n",
              "<style>\n",
              "  .colab-df-quickchart {\n",
              "      --bg-color: #E8F0FE;\n",
              "      --fill-color: #1967D2;\n",
              "      --hover-bg-color: #E2EBFA;\n",
              "      --hover-fill-color: #174EA6;\n",
              "      --disabled-fill-color: #AAA;\n",
              "      --disabled-bg-color: #DDD;\n",
              "  }\n",
              "\n",
              "  [theme=dark] .colab-df-quickchart {\n",
              "      --bg-color: #3B4455;\n",
              "      --fill-color: #D2E3FC;\n",
              "      --hover-bg-color: #434B5C;\n",
              "      --hover-fill-color: #FFFFFF;\n",
              "      --disabled-bg-color: #3B4455;\n",
              "      --disabled-fill-color: #666;\n",
              "  }\n",
              "\n",
              "  .colab-df-quickchart {\n",
              "    background-color: var(--bg-color);\n",
              "    border: none;\n",
              "    border-radius: 50%;\n",
              "    cursor: pointer;\n",
              "    display: none;\n",
              "    fill: var(--fill-color);\n",
              "    height: 32px;\n",
              "    padding: 0;\n",
              "    width: 32px;\n",
              "  }\n",
              "\n",
              "  .colab-df-quickchart:hover {\n",
              "    background-color: var(--hover-bg-color);\n",
              "    box-shadow: 0 1px 2px rgba(60, 64, 67, 0.3), 0 1px 3px 1px rgba(60, 64, 67, 0.15);\n",
              "    fill: var(--button-hover-fill-color);\n",
              "  }\n",
              "\n",
              "  .colab-df-quickchart-complete:disabled,\n",
              "  .colab-df-quickchart-complete:disabled:hover {\n",
              "    background-color: var(--disabled-bg-color);\n",
              "    fill: var(--disabled-fill-color);\n",
              "    box-shadow: none;\n",
              "  }\n",
              "\n",
              "  .colab-df-spinner {\n",
              "    border: 2px solid var(--fill-color);\n",
              "    border-color: transparent;\n",
              "    border-bottom-color: var(--fill-color);\n",
              "    animation:\n",
              "      spin 1s steps(1) infinite;\n",
              "  }\n",
              "\n",
              "  @keyframes spin {\n",
              "    0% {\n",
              "      border-color: transparent;\n",
              "      border-bottom-color: var(--fill-color);\n",
              "      border-left-color: var(--fill-color);\n",
              "    }\n",
              "    20% {\n",
              "      border-color: transparent;\n",
              "      border-left-color: var(--fill-color);\n",
              "      border-top-color: var(--fill-color);\n",
              "    }\n",
              "    30% {\n",
              "      border-color: transparent;\n",
              "      border-left-color: var(--fill-color);\n",
              "      border-top-color: var(--fill-color);\n",
              "      border-right-color: var(--fill-color);\n",
              "    }\n",
              "    40% {\n",
              "      border-color: transparent;\n",
              "      border-right-color: var(--fill-color);\n",
              "      border-top-color: var(--fill-color);\n",
              "    }\n",
              "    60% {\n",
              "      border-color: transparent;\n",
              "      border-right-color: var(--fill-color);\n",
              "    }\n",
              "    80% {\n",
              "      border-color: transparent;\n",
              "      border-right-color: var(--fill-color);\n",
              "      border-bottom-color: var(--fill-color);\n",
              "    }\n",
              "    90% {\n",
              "      border-color: transparent;\n",
              "      border-bottom-color: var(--fill-color);\n",
              "    }\n",
              "  }\n",
              "</style>\n",
              "\n",
              "      <script>\n",
              "        async function quickchart(key) {\n",
              "          const quickchartButtonEl =\n",
              "            document.querySelector('#' + key + ' button');\n",
              "          quickchartButtonEl.disabled = true;  // To prevent multiple clicks.\n",
              "          quickchartButtonEl.classList.add('colab-df-spinner');\n",
              "          try {\n",
              "            const charts = await google.colab.kernel.invokeFunction(\n",
              "                'suggestCharts', [key], {});\n",
              "          } catch (error) {\n",
              "            console.error('Error during call to suggestCharts:', error);\n",
              "          }\n",
              "          quickchartButtonEl.classList.remove('colab-df-spinner');\n",
              "          quickchartButtonEl.classList.add('colab-df-quickchart-complete');\n",
              "        }\n",
              "        (() => {\n",
              "          let quickchartButtonEl =\n",
              "            document.querySelector('#df-0cddce24-26e7-41b1-8d5f-0e157770b5e1 button');\n",
              "          quickchartButtonEl.style.display =\n",
              "            google.colab.kernel.accessAllowed ? 'block' : 'none';\n",
              "        })();\n",
              "      </script>\n",
              "    </div>\n",
              "\n",
              "  <div id=\"id_1ea27d79-7b76-46b3-9e87-9dcd39b48e61\">\n",
              "    <style>\n",
              "      .colab-df-generate {\n",
              "        background-color: #E8F0FE;\n",
              "        border: none;\n",
              "        border-radius: 50%;\n",
              "        cursor: pointer;\n",
              "        display: none;\n",
              "        fill: #1967D2;\n",
              "        height: 32px;\n",
              "        padding: 0 0 0 0;\n",
              "        width: 32px;\n",
              "      }\n",
              "\n",
              "      .colab-df-generate:hover {\n",
              "        background-color: #E2EBFA;\n",
              "        box-shadow: 0px 1px 2px rgba(60, 64, 67, 0.3), 0px 1px 3px 1px rgba(60, 64, 67, 0.15);\n",
              "        fill: #174EA6;\n",
              "      }\n",
              "\n",
              "      [theme=dark] .colab-df-generate {\n",
              "        background-color: #3B4455;\n",
              "        fill: #D2E3FC;\n",
              "      }\n",
              "\n",
              "      [theme=dark] .colab-df-generate:hover {\n",
              "        background-color: #434B5C;\n",
              "        box-shadow: 0px 1px 3px 1px rgba(0, 0, 0, 0.15);\n",
              "        filter: drop-shadow(0px 1px 2px rgba(0, 0, 0, 0.3));\n",
              "        fill: #FFFFFF;\n",
              "      }\n",
              "    </style>\n",
              "    <button class=\"colab-df-generate\" onclick=\"generateWithVariable('df')\"\n",
              "            title=\"Generate code using this dataframe.\"\n",
              "            style=\"display:none;\">\n",
              "\n",
              "  <svg xmlns=\"http://www.w3.org/2000/svg\" height=\"24px\"viewBox=\"0 0 24 24\"\n",
              "       width=\"24px\">\n",
              "    <path d=\"M7,19H8.4L18.45,9,17,7.55,7,17.6ZM5,21V16.75L18.45,3.32a2,2,0,0,1,2.83,0l1.4,1.43a1.91,1.91,0,0,1,.58,1.4,1.91,1.91,0,0,1-.58,1.4L9.25,21ZM18.45,9,17,7.55Zm-12,3A5.31,5.31,0,0,0,4.9,8.1,5.31,5.31,0,0,0,1,6.5,5.31,5.31,0,0,0,4.9,4.9,5.31,5.31,0,0,0,6.5,1,5.31,5.31,0,0,0,8.1,4.9,5.31,5.31,0,0,0,12,6.5,5.46,5.46,0,0,0,6.5,12Z\"/>\n",
              "  </svg>\n",
              "    </button>\n",
              "    <script>\n",
              "      (() => {\n",
              "      const buttonEl =\n",
              "        document.querySelector('#id_1ea27d79-7b76-46b3-9e87-9dcd39b48e61 button.colab-df-generate');\n",
              "      buttonEl.style.display =\n",
              "        google.colab.kernel.accessAllowed ? 'block' : 'none';\n",
              "\n",
              "      buttonEl.onclick = () => {\n",
              "        google.colab.notebook.generateWithVariable('df');\n",
              "      }\n",
              "      })();\n",
              "    </script>\n",
              "  </div>\n",
              "\n",
              "    </div>\n",
              "  </div>\n"
            ],
            "application/vnd.google.colaboratory.intrinsic+json": {
              "type": "dataframe",
              "variable_name": "df",
              "summary": "{\n  \"name\": \"df\",\n  \"rows\": 39942,\n  \"fields\": [\n    {\n      \"column\": \"label\",\n      \"properties\": {\n        \"dtype\": \"number\",\n        \"std\": 0,\n        \"min\": 0,\n        \"max\": 1,\n        \"num_unique_values\": 2,\n        \"samples\": [\n          0,\n          1\n        ],\n        \"semantic_type\": \"\",\n        \"description\": \"\"\n      }\n    },\n    {\n      \"column\": \"text\",\n      \"properties\": {\n        \"dtype\": \"string\",\n        \"num_unique_values\": 35977,\n        \"samples\": [\n          \"Rudi gets it! The former mayor of New York speaks out on the horrible Obama foreign policy and how it created ISIS: This did not have to happen if our policies were different.  If President Obama had listened to Senator McCain and Senator Graham and a whole group of other people, and had set up a no-fly zone in Syria five years ago   if we had gone in and worked with the Syrian legitimate rebels  If we had not taken our troops out of Iraq and Afghanistan, ISIS never would have emerged. ISIS is filling a vacuum created by a vacuous foreign policy   ISIS is an Obama creation.  \",\n          \" You re carrying Mexican flags while chanting,  Trump is not my President.  You know that this is America right? ***Language warning***\"\n        ],\n        \"semantic_type\": \"\",\n        \"description\": \"\"\n      }\n    },\n    {\n      \"column\": \"clean_text\",\n      \"properties\": {\n        \"dtype\": \"string\",\n        \"num_unique_values\": 35752,\n        \"samples\": [\n          \"career criminal professional grifter ultimate democrat politician voter illinois michigan witnessed nastiest moment thus far democratic presidential campaign sunday night former california gov jerry brown accused arkansas gov bill clinton wife hillary unethical behavior funneling state business little rock law firmwith former massachusetts sen paul tsongas standing onehour tv debate chicago brown launched harsh personal attack democratic frontrunner citing washington post story published sunday raised question relationship state arkansas law firm hillary clinton partnerwatch exchange governor jerry brown bill clinton clinton ardently defended wife integrity charged brown attack driven electoral desperation poll resultsthe confrontation came three democrat met last time tuesday presidential primary illinois michiganagainst backdrop brown unleashed barrage tsongas asked debate panelist clinton electability possible fall campaign president bush think got big electability problem brown said citing post story well newspaper article addressed governor environmental record arkansascalling scandal major proportion brown said funneling money wife law firm state business kind conflict interest incompatible kind public servant expect post story say either clinton wife channeled money state business law firm note rose law firm several state agency large corporation client liststabbing finger rival clinton said let tell something jerry care say ought ashamed jumping wife worthy platform clinton mocked brown populist campaign approach bulldog tactic think take much say seriously clinton said jerry come family wealth suit making lying accusation wife never funneled money wife law firm never never clinton insisted wife turned partnership share income firm receives state businessthe candidate began shouting one another clinton alluding brown aide patrick caddell longtime washington political consultant suggesting former california governor somebody else mouthpiece feel sorry jerry brown clinton barked reinvents every year two clinton whose campaign thus far survived supermarket tabloid allegation infidelity question draft history forced respond suggestion democratic rival defeat bushlast week clinton address new york time report documented clinton investment real estate deal man later became head saving loan eventually failedbrown attack pointed campaign may marked transition point american politics point career conduct male politician spouse becomes fair game attackfrom role cbs minute defending husband charge philandering less celebrated role campaign adviser hillary clinton played exceedingly public role campaignvia chicago tribune\",\n          \"making christmas great first lady melania trump barron trump received official white house christmas tree today andahalffoot balsam fir wisconsin picked september national christmas tree association white house official decide tree contest held every year chapman family win silent night evergreen owned chapman family last provided official white house christmas tree according national christmas tree associationthe chapman family got present tree white house meet first lady melania trump barron trumpafter first lady son barron gave symbolic approval tree set decorated blue room white housethe first lady wrote twitter thank silent night evergreen wisconsin beautiful tree potus barron excited christmas new home thank silent night evergreen wisconsin beautiful tree potus barron excited christmas new home pictwittercomsohvgst melania trump flotus november\"\n        ],\n        \"semantic_type\": \"\",\n        \"description\": \"\"\n      }\n    }\n  ]\n}"
            }
          },
          "metadata": {},
          "execution_count": 9
        }
      ]
    },
    {
      "cell_type": "markdown",
      "source": [
        "# Train Test Split"
      ],
      "metadata": {
        "id": "5npliy60qRpF"
      },
      "id": "5npliy60qRpF"
    },
    {
      "cell_type": "code",
      "source": [
        "X = df['clean_text']\n",
        "y = df['label']  # 'fake' or 'real'\n",
        "\n",
        "X_train, X_test, y_train, y_test = train_test_split(X, y, test_size=0.2, random_state=42)\n",
        "X_train.shape, X_test.shape\n"
      ],
      "metadata": {
        "id": "KU2S7vHim-cG",
        "colab": {
          "base_uri": "https://localhost:8080/"
        },
        "outputId": "22fd1a77-aa40-4c9e-b24e-f2eb505991f9"
      },
      "id": "KU2S7vHim-cG",
      "execution_count": 12,
      "outputs": [
        {
          "output_type": "execute_result",
          "data": {
            "text/plain": [
              "((31953,), (7989,))"
            ]
          },
          "metadata": {},
          "execution_count": 12
        }
      ]
    },
    {
      "cell_type": "markdown",
      "source": [
        "#Model 1: CountVectrorizer + NaiveBayes"
      ],
      "metadata": {
        "id": "qOgIZbZVqVtq"
      },
      "id": "qOgIZbZVqVtq"
    },
    {
      "cell_type": "markdown",
      "source": [
        "###  Feature Extraction using CountVectorizer (Bag of Words)\n",
        "\n",
        "We use `CountVectorizer` to convert our text data into numerical vectors using the Bag-of-Words approach.\n",
        "- It removes English stopwords like \"the\", \"is\", etc.\n",
        "- It builds a vocabulary from training data.\n",
        "- It converts each text into a vector of word frequencies.\n",
        "\n",
        "We apply `.fit_transform()` on training data (learn + convert) and `.transform()` on test data (only convert using learned vocab).\n"
      ],
      "metadata": {
        "id": "kBf9phCKYun9"
      },
      "id": "kBf9phCKYun9"
    },
    {
      "cell_type": "markdown",
      "source": [
        "> Note: We've already removed stopwords during preprocessing using NLTK.\n",
        "> Therefore, passing `stop_words='english'` to `CountVectorizer` is optional — and redundant in our case.\n"
      ],
      "metadata": {
        "id": "Xh8Jh08jZTtn"
      },
      "id": "Xh8Jh08jZTtn"
    },
    {
      "cell_type": "code",
      "source": [
        "cv = CountVectorizer(stop_words='english')\n",
        "X_train_cv = cv.fit_transform(X_train)\n",
        "X_test_cv = cv.transform(X_test)"
      ],
      "metadata": {
        "id": "TvJsEtP-p-FS"
      },
      "id": "TvJsEtP-p-FS",
      "execution_count": 26,
      "outputs": []
    },
    {
      "cell_type": "code",
      "source": [
        "print(\"Vocabulary size:\", len(cv.vocabulary_))\n",
        "print(\"Example features:\", list(cv.vocabulary_.keys())[:10])\n"
      ],
      "metadata": {
        "colab": {
          "base_uri": "https://localhost:8080/"
        },
        "id": "zV12UoPDY9OD",
        "outputId": "a4e5f1cc-aa14-4cad-c430-bc2462d42618"
      },
      "id": "zV12UoPDY9OD",
      "execution_count": 27,
      "outputs": [
        {
          "output_type": "stream",
          "name": "stdout",
          "text": [
            "Vocabulary size: 154457\n",
            "Example features: ['minneapolis', 'mayoral', 'candidate', 'raymond', 'dehn', 'proposes', 'disarming', 'cop', 'wake', 'damond']\n"
          ]
        }
      ]
    },
    {
      "cell_type": "markdown",
      "source": [
        "#Basic Model Training (MultinomialNB)"
      ],
      "metadata": {
        "id": "IpDDqFFoeSH3"
      },
      "id": "IpDDqFFoeSH3"
    },
    {
      "cell_type": "markdown",
      "source": [
        "we trained a basic Multinomial Naive Bayes model on CountVectorizer features. The model calculates word probabilities for each class (fake or real) and uses Bayes’ theorem to make predictions.\n",
        "Note: This is your baseline model using default alpha=1.0.\n",
        "\n",
        "\n",
        "\n"
      ],
      "metadata": {
        "id": "c_X4I7IxeYR4"
      },
      "id": "c_X4I7IxeYR4"
    },
    {
      "cell_type": "code",
      "source": [
        "nb1 = MultinomialNB()\n",
        "nb1.fit(X_train_cv, y_train)\n",
        "pred1 = nb1.predict(X_test_cv)\n",
        "\n",
        "print(\"Model 1 Accuracy:\", accuracy_score(y_test, pred1))"
      ],
      "metadata": {
        "colab": {
          "base_uri": "https://localhost:8080/"
        },
        "id": "_h2aGS5Sp5J1",
        "outputId": "e6820761-9b3f-4fca-a014-f33f1a2ebecd"
      },
      "id": "_h2aGS5Sp5J1",
      "execution_count": 32,
      "outputs": [
        {
          "output_type": "stream",
          "name": "stdout",
          "text": [
            "Model 1 Accuracy: 0.9341594692702466\n"
          ]
        }
      ]
    },
    {
      "cell_type": "markdown",
      "source": [
        "#Hyperparameter Tuning using GridSearchCV (MultinomialNB)"
      ],
      "metadata": {
        "id": "tGu5ntqaerCg"
      },
      "id": "tGu5ntqaerCg"
    },
    {
      "cell_type": "markdown",
      "source": [
        "The alpha parameter in Naive Bayes controls smoothing, which avoids zero probabilities for unseen words. We used GridSearchCV to find the best alpha value from [0.01, 0.1, 0.5, 1.0, 2.0] using 5-fold cross-validation."
      ],
      "metadata": {
        "id": "fUmpuyFheuf2"
      },
      "id": "fUmpuyFheuf2"
    },
    {
      "cell_type": "code",
      "source": [
        "from sklearn.model_selection import GridSearchCV\n",
        "\n",
        "params = {'alpha': [0.01, 0.1, 0.5, 1.0, 2.0]}\n",
        "#grid = GridSearchCV(MultinomialNB(), param_grid=params, cv=5, scoring='accuracy')\n",
        "grid = GridSearchCV(MultinomialNB(), param_grid=params, cv=5, scoring='accuracy', return_train_score=True)\n",
        "grid.fit(X_train_cv, y_train)\n",
        "\n",
        "print(\"Best alpha:\", grid.best_params_)\n",
        "print(\"Best accuracy:\", grid.best_score_)\n"
      ],
      "metadata": {
        "colab": {
          "base_uri": "https://localhost:8080/"
        },
        "id": "1jqgglPlbqWJ",
        "outputId": "18304273-152c-4120-f647-28db8dc0f015"
      },
      "id": "1jqgglPlbqWJ",
      "execution_count": 60,
      "outputs": [
        {
          "output_type": "stream",
          "name": "stdout",
          "text": [
            "Best alpha: {'alpha': 0.01}\n",
            "Best accuracy: 0.9418207872034448\n"
          ]
        }
      ]
    },
    {
      "cell_type": "markdown",
      "source": [
        "## Final Model Evaluation (CountVectrorizer + NaiveBayes)\n",
        "\n",
        "After finding the best alpha (0.01), defaut was 1.0 using GridSearchCV, we used the optimized Naive Bayes model (`best_estimator_`) to predict labels on the test dataset.\n",
        "\n",
        "We then evaluated the model's performance using **accuracy**, **precision**, **recall**, and **F1-score**.\n",
        "\n",
        "This allows us to compare the tuned model with the default model and confirm whether the hyperparameter tuning improved the performance."
      ],
      "metadata": {
        "id": "fnkAZIY7fs9f"
      },
      "id": "fnkAZIY7fs9f"
    },
    {
      "cell_type": "code",
      "source": [
        "best_nb = grid.best_estimator_\n",
        "y_pred_best = best_nb.predict(X_test_cv)"
      ],
      "metadata": {
        "id": "ewWfLvbCb7zm"
      },
      "id": "ewWfLvbCb7zm",
      "execution_count": 61,
      "outputs": []
    },
    {
      "cell_type": "code",
      "source": [
        "# Accuracy & F1 score for default alpha\n",
        "acc_default = accuracy_score(y_test, pred1)\n",
        "f1_default = f1_score(y_test, pred1)\n",
        "\n",
        "# Accuracy & F1 score for best alpha\n",
        "acc_best = accuracy_score(y_test, y_pred_best)\n",
        "f1_best = f1_score(y_test, y_pred_best)\n",
        "\n",
        "# Print reports\n",
        "print(\"📌 Default Alpha (alpha=1.0):\")\n",
        "print(\"Accuracy:\", acc_default)\n",
        "print(\"F1 Score:\", f1_default)\n",
        "print(\"\\nClassification Report:\\n\", classification_report(y_test, pred1))\n",
        "print(\"\\nConfusion Matrix:\\n\", confusion_matrix(y_test, pred1))\n",
        "\n",
        "print(\"\\n📌 Best Alpha (GridSearch):\")\n",
        "print(\"Accuracy:\", acc_best)\n",
        "print(\"F1 Score:\", f1_best)\n",
        "print(\"\\nClassification Report:\\n\", classification_report(y_test, y_pred_best))\n",
        "print(\"\\nConfusion Matrix:\\n\", confusion_matrix(y_test, y_pred_best))\n",
        "\n",
        "# 🔥 Plot Confusion Matrix for Best Model\n",
        "plt.figure(figsize=(6, 4))\n",
        "sns.heatmap(confusion_matrix(y_test, y_pred_best), annot=True, fmt='d', cmap='Blues')\n",
        "plt.title('Confusion Matrix (Best Alpha)')\n",
        "plt.xlabel('Predicted Labels')\n",
        "plt.ylabel('True Labels')\n",
        "xtricklabels = ['Fake', 'Real']\n",
        "ytricklabels = ['Fake', 'Real']\n",
        "plt.xticks(np.arange(2) + 0.5, labels=xtricklabels)\n",
        "plt.yticks(np.arange(2) + 0.5, labels=ytricklabels)\n",
        "plt.show()\n",
        "\n",
        "# 📊 Plot Accuracy and F1 Score Comparison\n",
        "labels = ['Accuracy', 'F1 Score']\n",
        "default_scores = [acc_default, f1_default]\n",
        "best_scores = [acc_best, f1_best]\n",
        "\n",
        "x = np.arange(len(labels))  # x locations\n",
        "width = 0.35  # width of bars\n",
        "\n",
        "plt.figure(figsize=(8, 5))\n",
        "plt.bar(x - width/2, default_scores, width, label='Default Alpha', color='gray')\n",
        "plt.bar(x + width/2, best_scores, width, label='Best Alpha', color='green')\n",
        "\n",
        "plt.ylabel('Score')\n",
        "plt.title('Comparison of Accuracy and F1 Score')\n",
        "plt.xticks(x, labels)\n",
        "plt.ylim(0.8, 1.0)\n",
        "plt.legend()\n",
        "plt.grid(True, axis='y', linestyle='--', alpha=0.6)\n",
        "plt.tight_layout()\n",
        "plt.show()\n",
        "\n"
      ],
      "metadata": {
        "colab": {
          "base_uri": "https://localhost:8080/",
          "height": 1000
        },
        "id": "P-htaBLIcIRd",
        "outputId": "20c87f7b-590f-4520-80ad-cbfae4b63b7a"
      },
      "id": "P-htaBLIcIRd",
      "execution_count": 62,
      "outputs": [
        {
          "output_type": "stream",
          "name": "stdout",
          "text": [
            "📌 Default Alpha (alpha=1.0):\n",
            "Accuracy: 0.9341594692702466\n",
            "F1 Score: 0.9352376262004433\n",
            "\n",
            "Classification Report:\n",
            "               precision    recall  f1-score   support\n",
            "\n",
            "           0       0.95      0.92      0.93      3996\n",
            "           1       0.92      0.95      0.94      3993\n",
            "\n",
            "    accuracy                           0.93      7989\n",
            "   macro avg       0.93      0.93      0.93      7989\n",
            "weighted avg       0.93      0.93      0.93      7989\n",
            "\n",
            "\n",
            "Confusion Matrix:\n",
            " [[3665  331]\n",
            " [ 195 3798]]\n",
            "\n",
            "📌 Best Alpha (GridSearch):\n",
            "Accuracy: 0.9445487545374891\n",
            "F1 Score: 0.9449484279855846\n",
            "\n",
            "Classification Report:\n",
            "               precision    recall  f1-score   support\n",
            "\n",
            "           0       0.95      0.94      0.94      3996\n",
            "           1       0.94      0.95      0.94      3993\n",
            "\n",
            "    accuracy                           0.94      7989\n",
            "   macro avg       0.94      0.94      0.94      7989\n",
            "weighted avg       0.94      0.94      0.94      7989\n",
            "\n",
            "\n",
            "Confusion Matrix:\n",
            " [[3744  252]\n",
            " [ 191 3802]]\n"
          ]
        },
        {
          "output_type": "display_data",
          "data": {
            "text/plain": [
              "<Figure size 600x400 with 2 Axes>"
            ],
            "image/png": "[encoded data removed]"
          },
          "metadata": {}
        },
        {
          "output_type": "display_data",
          "data": {
            "text/plain": [
              "<Figure size 800x500 with 1 Axes>"
            ],
            "image/png": "[encoded data removed]"
          },
          "metadata": {}
        }
      ]
    },
    {
      "cell_type": "markdown",
      "source": [
        "#Model2 TF-IDF +Random_forest"
      ],
      "metadata": {
        "id": "nKFZt3UTslMm"
      },
      "id": "nKFZt3UTslMm"
    },
    {
      "cell_type": "markdown",
      "source": [
        "we convert the raw text data into numerical features using TF-IDF (Term Frequency-Inverse Document Frequency) vectorization.\n",
        "    TF-IDF captures how important a word is to a document relative to the entire dataset.\n",
        "    It assigns higher weights to words that appear frequently in a document but rarely across other documents, helping to highlight distinctive words.\n",
        "    Using stop_words='english' removes common English words (like \"the\", \"and\") which usually do not carry much meaning.\n",
        "    fit_transform is applied on the training data to learn the vocabulary and transform the text into a TF-IDF weighted matrix.\n",
        "    transform is then applied on the test data using the same learned vocabulary to ensure consistency.\n",
        "This numerical representation is essential because machine learning models like Random Forest cannot work directly with raw text."
      ],
      "metadata": {
        "id": "4pzq_u1RjA7H"
      },
      "id": "4pzq_u1RjA7H"
    },
    {
      "cell_type": "code",
      "source": [],
      "metadata": {
        "id": "A8JQDdzJjAPV"
      },
      "id": "A8JQDdzJjAPV",
      "execution_count": null,
      "outputs": []
    },
    {
      "cell_type": "code",
      "source": [
        "# Step 1: TF-IDF Vectorization\n",
        "tfidf_vectorizer = TfidfVectorizer(stop_words='english')\n",
        "X_train_tfidf = tfidf_vectorizer.fit_transform(X_train)\n",
        "X_test_tfidf = tfidf_vectorizer.transform(X_test)\n",
        "\n",
        "# Initialize and train RF with default params\n",
        "rf_default = RandomForestClassifier(random_state=42)\n",
        "rf_default.fit(X_train_tfidf, y_train)\n",
        "\n",
        "# Predict on test data\n",
        "y_pred_rf = rf_default.predict(X_test_tfidf)\n",
        "\n",
        "# # Step 5: Evaluate performance\n",
        "acc_rf = accuracy_score(y_test, y_pred_rf)\n",
        "print(f\"Random Forest Model Accuracy: {acc_rf:.4f}\")\n",
        "\n",
        "print(\"\\nClassification Report:\")\n",
        "print(classification_report(y_test, y_pred_rf))\n",
        "\n",
        "# # Confusion Matrix Plot\n",
        "plt.figure(figsize=(6,4))\n",
        "sns.heatmap(confusion_matrix(y_test, y_pred_rf), annot=True, fmt='d', cmap='Blues')\n",
        "plt.title('Confusion Matrix - Random Forest with TF-IDF')\n",
        "plt.xlabel('Predicted Label')\n",
        "plt.ylabel('True Label')\n",
        "plt.xticks(np.arange(2) + 0.5, labels=['Fake', 'Real'])\n",
        "plt.yticks(np.arange(2) + 0.5, labels=['Fake', 'Real'])\n",
        "plt.show()\n"
      ],
      "metadata": {
        "colab": {
          "base_uri": "https://localhost:8080/",
          "height": 618
        },
        "id": "Lan2j5vnim-8",
        "outputId": "8395a08c-0c99-482b-d6bf-d128cdc53313"
      },
      "id": "Lan2j5vnim-8",
      "execution_count": 54,
      "outputs": [
        {
          "output_type": "stream",
          "name": "stdout",
          "text": [
            "Random Forest Model Accuracy: 0.9869\n",
            "\n",
            "Classification Report:\n",
            "              precision    recall  f1-score   support\n",
            "\n",
            "           0       0.99      0.98      0.99      3996\n",
            "           1       0.98      0.99      0.99      3993\n",
            "\n",
            "    accuracy                           0.99      7989\n",
            "   macro avg       0.99      0.99      0.99      7989\n",
            "weighted avg       0.99      0.99      0.99      7989\n",
            "\n"
          ]
        },
        {
          "output_type": "display_data",
          "data": {
            "text/plain": [
              "<Figure size 600x400 with 2 Axes>"
            ],
            "image/png": "[encoded data removed]"
          },
          "metadata": {}
        }
      ]
    },
    {
      "cell_type": "markdown",
      "source": [
        "#Model_3 TFIDF +Navie Base"
      ],
      "metadata": {
        "id": "wMBXE-kAy6Ak"
      },
      "id": "wMBXE-kAy6Ak"
    },
    {
      "cell_type": "code",
      "source": [
        "#nb1_model_tf = nb1.fit(X_train_tfidf, y_train)\n",
        "nb1_model_tf = best_nb.fit(X_train_tfidf, y_train)\n",
        "pred1_tf = nb1_model_tf.predict(X_test_tfidf)\n",
        "print(\"Model 3 Accuracy:\", accuracy_score(y_test, pred1_tf))\n",
        "\n"
      ],
      "metadata": {
        "colab": {
          "base_uri": "https://localhost:8080/"
        },
        "id": "eawwdOEQy_3m",
        "outputId": "0f045dc8-7888-4685-de55-80d040e8cbf3"
      },
      "id": "eawwdOEQy_3m",
      "execution_count": 55,
      "outputs": [
        {
          "output_type": "stream",
          "name": "stdout",
          "text": [
            "Model 3 Accuracy: 0.9385404931781199\n"
          ]
        }
      ]
    },
    {
      "cell_type": "code",
      "source": [
        "confusion_matrix(y_test, pred1_tf)\n"
      ],
      "metadata": {
        "colab": {
          "base_uri": "https://localhost:8080/"
        },
        "id": "lUxTGrQtzfPQ",
        "outputId": "742afde4-51be-4333-b4f3-bbdb368fed40"
      },
      "id": "lUxTGrQtzfPQ",
      "execution_count": 24,
      "outputs": [
        {
          "output_type": "execute_result",
          "data": {
            "text/plain": [
              "array([[3519,  477],\n",
              "       [ 173, 3820]])"
            ]
          },
          "metadata": {},
          "execution_count": 24
        }
      ]
    },
    {
      "cell_type": "code",
      "source": [
        "plt.figure(figsize=(6, 6))\n",
        "sns.heatmap(confusion_matrix(y_test, pred1_tf), annot=True, fmt='d', cmap='Blues')\n",
        "plt.title('Confusion Matrix')\n",
        "plt.xlabel('Predicted Labels')\n",
        "plt.ylabel('True Labels')\n",
        "xtricklabels = ['Fake', 'Real']\n",
        "ytricklabels = ['Fake', 'Real']\n",
        "plt.xticks(np.arange(2) + 0.5, labels=xtricklabels)\n",
        "plt.yticks(np.arange(2) + 0.5, labels=ytricklabels) # Add this line to label y-axis\n",
        "plt.show()\n"
      ],
      "metadata": {
        "colab": {
          "base_uri": "https://localhost:8080/",
          "height": 564
        },
        "id": "LwD47GFFzkni",
        "outputId": "dce7ced5-842f-408f-bbc6-2570345c2914"
      },
      "id": "LwD47GFFzkni",
      "execution_count": 56,
      "outputs": [
        {
          "output_type": "display_data",
          "data": {
            "text/plain": [
              "<Figure size 600x600 with 2 Axes>"
            ],
            "image/png": "[encoded data removed]"
          },
          "metadata": {}
        }
      ]
    },
    {
      "cell_type": "code",
      "source": [
        "from sklearn.metrics import classification_report\n",
        "import pandas as pd\n",
        "\n",
        "# Assuming y_test contains integer labels (0 and 1)\n",
        "# Map integer labels to string labels for classification report\n",
        "target_names = ['fake', 'real']\n",
        "\n",
        "# Generate classification reports with target_names\n",
        "report1 = classification_report(y_test, pred1, target_names=target_names, output_dict=True, zero_division=0)\n",
        "report2 = classification_report(y_test, y_pred_rf, target_names=target_names, output_dict=True, zero_division=0)\n",
        "report3 = classification_report(y_test, pred1_tf, target_names=target_names, output_dict=True, zero_division=0)\n",
        "\n",
        "# Extract metrics for the table\n",
        "model_comparison = {\n",
        "    'Model': ['CountVectorizer + Naive Bayes', 'TF-IDF + Random Forest', 'TF-IDF + Naive Bayes'],\n",
        "    'Accuracy': [accuracy_score(y_test, pred1), accuracy_score(y_test, y_pred_rf), accuracy_score(y_test, pred1_tf)],\n",
        "    'Fake_Precision': [report1['fake']['precision'], report2['fake']['precision'], report3['fake']['precision']],\n",
        "    'Fake_Recall': [report1['fake']['recall'], report2['fake']['recall'], report3['fake']['recall']],\n",
        "    'Fake_F1-score': [report1['fake']['f1-score'], report2['fake']['f1-score'], report3['fake']['f1-score']],\n",
        "    'Real_Precision': [report1['real']['precision'], report2['real']['precision'], report3['real']['precision']],\n",
        "    'Real_Recall': [report1['real']['recall'], report2['real']['recall'], report3['real']['recall']],\n",
        "    'Real_F1-score': [report1['real']['f1-score'], report2['real']['f1-score'], report3['real']['f1-score']]\n",
        "}\n",
        "\n",
        "comparison_df = pd.DataFrame(model_comparison)\n",
        "comparison_df_sorted = comparison_df.sort_values(by='Accuracy', ascending=False)\n",
        "display(comparison_df_sorted)\n",
        "\n"
      ],
      "metadata": {
        "colab": {
          "base_uri": "https://localhost:8080/",
          "height": 143
        },
        "id": "GJiguEkb2xTo",
        "outputId": "905dd041-2266-45e5-fc45-fa40be78063a"
      },
      "id": "GJiguEkb2xTo",
      "execution_count": 66,
      "outputs": [
        {
          "output_type": "display_data",
          "data": {
            "text/plain": [
              "                           Model  Accuracy  Fake_Precision  Fake_Recall  \\\n",
              "1         TF-IDF + Random Forest  0.986857        0.989434     0.984234   \n",
              "2           TF-IDF + Naive Bayes  0.938540        0.946497     0.929680   \n",
              "0  CountVectorizer + Naive Bayes  0.934159        0.949482     0.917167   \n",
              "\n",
              "   Fake_F1-score  Real_Precision  Real_Recall  Real_F1-score  \n",
              "1       0.986827        0.984305     0.989482       0.986886  \n",
              "2       0.938013        0.930856     0.947408       0.939059  \n",
              "0       0.933045        0.919835     0.951165       0.935238  "
            ],
            "text/html": [
              "\n",
              "  <div id=\"df-37ebb53d-1623-471b-bce5-2b1712e602c2\" class=\"colab-df-container\">\n",
              "    <div>\n",
              "<style scoped>\n",
              "    .dataframe tbody tr th:only-of-type {\n",
              "        vertical-align: middle;\n",
              "    }\n",
              "\n",
              "    .dataframe tbody tr th {\n",
              "        vertical-align: top;\n",
              "    }\n",
              "\n",
              "    .dataframe thead th {\n",
              "        text-align: right;\n",
              "    }\n",
              "</style>\n",
              "<table border=\"1\" class=\"dataframe\">\n",
              "  <thead>\n",
              "    <tr style=\"text-align: right;\">\n",
              "      <th></th>\n",
              "      <th>Model</th>\n",
              "      <th>Accuracy</th>\n",
              "      <th>Fake_Precision</th>\n",
              "      <th>Fake_Recall</th>\n",
              "      <th>Fake_F1-score</th>\n",
              "      <th>Real_Precision</th>\n",
              "      <th>Real_Recall</th>\n",
              "      <th>Real_F1-score</th>\n",
              "    </tr>\n",
              "  </thead>\n",
              "  <tbody>\n",
              "    <tr>\n",
              "      <th>1</th>\n",
              "      <td>TF-IDF + Random Forest</td>\n",
              "      <td>0.986857</td>\n",
              "      <td>0.989434</td>\n",
              "      <td>0.984234</td>\n",
              "      <td>0.986827</td>\n",
              "      <td>0.984305</td>\n",
              "      <td>0.989482</td>\n",
              "      <td>0.986886</td>\n",
              "    </tr>\n",
              "    <tr>\n",
              "      <th>2</th>\n",
              "      <td>TF-IDF + Naive Bayes</td>\n",
              "      <td>0.938540</td>\n",
              "      <td>0.946497</td>\n",
              "      <td>0.929680</td>\n",
              "      <td>0.938013</td>\n",
              "      <td>0.930856</td>\n",
              "      <td>0.947408</td>\n",
              "      <td>0.939059</td>\n",
              "    </tr>\n",
              "    <tr>\n",
              "      <th>0</th>\n",
              "      <td>CountVectorizer + Naive Bayes</td>\n",
              "      <td>0.934159</td>\n",
              "      <td>0.949482</td>\n",
              "      <td>0.917167</td>\n",
              "      <td>0.933045</td>\n",
              "      <td>0.919835</td>\n",
              "      <td>0.951165</td>\n",
              "      <td>0.935238</td>\n",
              "    </tr>\n",
              "  </tbody>\n",
              "</table>\n",
              "</div>\n",
              "    <div class=\"colab-df-buttons\">\n",
              "\n",
              "  <div class=\"colab-df-container\">\n",
              "    <button class=\"colab-df-convert\" onclick=\"convertToInteractive('df-37ebb53d-1623-471b-bce5-2b1712e602c2')\"\n",
              "            title=\"Convert this dataframe to an interactive table.\"\n",
              "            style=\"display:none;\">\n",
              "\n",
              "  <svg xmlns=\"http://www.w3.org/2000/svg\" height=\"24px\" viewBox=\"0 -960 960 960\">\n",
              "    <path d=\"M120-120v-720h720v720H120Zm60-500h600v-160H180v160Zm220 220h160v-160H400v160Zm0 220h160v-160H400v160ZM180-400h160v-160H180v160Zm440 0h160v-160H620v160ZM180-180h160v-160H180v160Zm440 0h160v-160H620v160Z\"/>\n",
              "  </svg>\n",
              "    </button>\n",
              "\n",
              "  <style>\n",
              "    .colab-df-container {\n",
              "      display:flex;\n",
              "      gap: 12px;\n",
              "    }\n",
              "\n",
              "    .colab-df-convert {\n",
              "      background-color: #E8F0FE;\n",
              "      border: none;\n",
              "      border-radius: 50%;\n",
              "      cursor: pointer;\n",
              "      display: none;\n",
              "      fill: #1967D2;\n",
              "      height: 32px;\n",
              "      padding: 0 0 0 0;\n",
              "      width: 32px;\n",
              "    }\n",
              "\n",
              "    .colab-df-convert:hover {\n",
              "      background-color: #E2EBFA;\n",
              "      box-shadow: 0px 1px 2px rgba(60, 64, 67, 0.3), 0px 1px 3px 1px rgba(60, 64, 67, 0.15);\n",
              "      fill: #174EA6;\n",
              "    }\n",
              "\n",
              "    .colab-df-buttons div {\n",
              "      margin-bottom: 4px;\n",
              "    }\n",
              "\n",
              "    [theme=dark] .colab-df-convert {\n",
              "      background-color: #3B4455;\n",
              "      fill: #D2E3FC;\n",
              "    }\n",
              "\n",
              "    [theme=dark] .colab-df-convert:hover {\n",
              "      background-color: #434B5C;\n",
              "      box-shadow: 0px 1px 3px 1px rgba(0, 0, 0, 0.15);\n",
              "      filter: drop-shadow(0px 1px 2px rgba(0, 0, 0, 0.3));\n",
              "      fill: #FFFFFF;\n",
              "    }\n",
              "  </style>\n",
              "\n",
              "    <script>\n",
              "      const buttonEl =\n",
              "        document.querySelector('#df-37ebb53d-1623-471b-bce5-2b1712e602c2 button.colab-df-convert');\n",
              "      buttonEl.style.display =\n",
              "        google.colab.kernel.accessAllowed ? 'block' : 'none';\n",
              "\n",
              "      async function convertToInteractive(key) {\n",
              "        const element = document.querySelector('#df-37ebb53d-1623-471b-bce5-2b1712e602c2');\n",
              "        const dataTable =\n",
              "          await google.colab.kernel.invokeFunction('convertToInteractive',\n",
              "                                                    [key], {});\n",
              "        if (!dataTable) return;\n",
              "\n",
              "        const docLinkHtml = 'Like what you see? Visit the ' +\n",
              "          '<a target=\"_blank\" href=https://colab.research.google.com/notebooks/data_table.ipynb>data table notebook</a>'\n",
              "          + ' to learn more about interactive tables.';\n",
              "        element.innerHTML = '';\n",
              "        dataTable['output_type'] = 'display_data';\n",
              "        await google.colab.output.renderOutput(dataTable, element);\n",
              "        const docLink = document.createElement('div');\n",
              "        docLink.innerHTML = docLinkHtml;\n",
              "        element.appendChild(docLink);\n",
              "      }\n",
              "    </script>\n",
              "  </div>\n",
              "\n",
              "\n",
              "    <div id=\"df-71f0b77a-88d4-4386-99ff-8d80f1c07cfb\">\n",
              "      <button class=\"colab-df-quickchart\" onclick=\"quickchart('df-71f0b77a-88d4-4386-99ff-8d80f1c07cfb')\"\n",
              "                title=\"Suggest charts\"\n",
              "                style=\"display:none;\">\n",
              "\n",
              "<svg xmlns=\"http://www.w3.org/2000/svg\" height=\"24px\"viewBox=\"0 0 24 24\"\n",
              "     width=\"24px\">\n",
              "    <g>\n",
              "        <path d=\"M19 3H5c-1.1 0-2 .9-2 2v14c0 1.1.9 2 2 2h14c1.1 0 2-.9 2-2V5c0-1.1-.9-2-2-2zM9 17H7v-7h2v7zm4 0h-2V7h2v10zm4 0h-2v-4h2v4z\"/>\n",
              "    </g>\n",
              "</svg>\n",
              "      </button>\n",
              "\n",
              "<style>\n",
              "  .colab-df-quickchart {\n",
              "      --bg-color: #E8F0FE;\n",
              "      --fill-color: #1967D2;\n",
              "      --hover-bg-color: #E2EBFA;\n",
              "      --hover-fill-color: #174EA6;\n",
              "      --disabled-fill-color: #AAA;\n",
              "      --disabled-bg-color: #DDD;\n",
              "  }\n",
              "\n",
              "  [theme=dark] .colab-df-quickchart {\n",
              "      --bg-color: #3B4455;\n",
              "      --fill-color: #D2E3FC;\n",
              "      --hover-bg-color: #434B5C;\n",
              "      --hover-fill-color: #FFFFFF;\n",
              "      --disabled-bg-color: #3B4455;\n",
              "      --disabled-fill-color: #666;\n",
              "  }\n",
              "\n",
              "  .colab-df-quickchart {\n",
              "    background-color: var(--bg-color);\n",
              "    border: none;\n",
              "    border-radius: 50%;\n",
              "    cursor: pointer;\n",
              "    display: none;\n",
              "    fill: var(--fill-color);\n",
              "    height: 32px;\n",
              "    padding: 0;\n",
              "    width: 32px;\n",
              "  }\n",
              "\n",
              "  .colab-df-quickchart:hover {\n",
              "    background-color: var(--hover-bg-color);\n",
              "    box-shadow: 0 1px 2px rgba(60, 64, 67, 0.3), 0 1px 3px 1px rgba(60, 64, 67, 0.15);\n",
              "    fill: var(--button-hover-fill-color);\n",
              "  }\n",
              "\n",
              "  .colab-df-quickchart-complete:disabled,\n",
              "  .colab-df-quickchart-complete:disabled:hover {\n",
              "    background-color: var(--disabled-bg-color);\n",
              "    fill: var(--disabled-fill-color);\n",
              "    box-shadow: none;\n",
              "  }\n",
              "\n",
              "  .colab-df-spinner {\n",
              "    border: 2px solid var(--fill-color);\n",
              "    border-color: transparent;\n",
              "    border-bottom-color: var(--fill-color);\n",
              "    animation:\n",
              "      spin 1s steps(1) infinite;\n",
              "  }\n",
              "\n",
              "  @keyframes spin {\n",
              "    0% {\n",
              "      border-color: transparent;\n",
              "      border-bottom-color: var(--fill-color);\n",
              "      border-left-color: var(--fill-color);\n",
              "    }\n",
              "    20% {\n",
              "      border-color: transparent;\n",
              "      border-left-color: var(--fill-color);\n",
              "      border-top-color: var(--fill-color);\n",
              "    }\n",
              "    30% {\n",
              "      border-color: transparent;\n",
              "      border-left-color: var(--fill-color);\n",
              "      border-top-color: var(--fill-color);\n",
              "      border-right-color: var(--fill-color);\n",
              "    }\n",
              "    40% {\n",
              "      border-color: transparent;\n",
              "      border-right-color: var(--fill-color);\n",
              "      border-top-color: var(--fill-color);\n",
              "    }\n",
              "    60% {\n",
              "      border-color: transparent;\n",
              "      border-right-color: var(--fill-color);\n",
              "    }\n",
              "    80% {\n",
              "      border-color: transparent;\n",
              "      border-right-color: var(--fill-color);\n",
              "      border-bottom-color: var(--fill-color);\n",
              "    }\n",
              "    90% {\n",
              "      border-color: transparent;\n",
              "      border-bottom-color: var(--fill-color);\n",
              "    }\n",
              "  }\n",
              "</style>\n",
              "\n",
              "      <script>\n",
              "        async function quickchart(key) {\n",
              "          const quickchartButtonEl =\n",
              "            document.querySelector('#' + key + ' button');\n",
              "          quickchartButtonEl.disabled = true;  // To prevent multiple clicks.\n",
              "          quickchartButtonEl.classList.add('colab-df-spinner');\n",
              "          try {\n",
              "            const charts = await google.colab.kernel.invokeFunction(\n",
              "                'suggestCharts', [key], {});\n",
              "          } catch (error) {\n",
              "            console.error('Error during call to suggestCharts:', error);\n",
              "          }\n",
              "          quickchartButtonEl.classList.remove('colab-df-spinner');\n",
              "          quickchartButtonEl.classList.add('colab-df-quickchart-complete');\n",
              "        }\n",
              "        (() => {\n",
              "          let quickchartButtonEl =\n",
              "            document.querySelector('#df-71f0b77a-88d4-4386-99ff-8d80f1c07cfb button');\n",
              "          quickchartButtonEl.style.display =\n",
              "            google.colab.kernel.accessAllowed ? 'block' : 'none';\n",
              "        })();\n",
              "      </script>\n",
              "    </div>\n",
              "\n",
              "  <div id=\"id_ea928679-d159-4873-9c18-eaf16799345b\">\n",
              "    <style>\n",
              "      .colab-df-generate {\n",
              "        background-color: #E8F0FE;\n",
              "        border: none;\n",
              "        border-radius: 50%;\n",
              "        cursor: pointer;\n",
              "        display: none;\n",
              "        fill: #1967D2;\n",
              "        height: 32px;\n",
              "        padding: 0 0 0 0;\n",
              "        width: 32px;\n",
              "      }\n",
              "\n",
              "      .colab-df-generate:hover {\n",
              "        background-color: #E2EBFA;\n",
              "        box-shadow: 0px 1px 2px rgba(60, 64, 67, 0.3), 0px 1px 3px 1px rgba(60, 64, 67, 0.15);\n",
              "        fill: #174EA6;\n",
              "      }\n",
              "\n",
              "      [theme=dark] .colab-df-generate {\n",
              "        background-color: #3B4455;\n",
              "        fill: #D2E3FC;\n",
              "      }\n",
              "\n",
              "      [theme=dark] .colab-df-generate:hover {\n",
              "        background-color: #434B5C;\n",
              "        box-shadow: 0px 1px 3px 1px rgba(0, 0, 0, 0.15);\n",
              "        filter: drop-shadow(0px 1px 2px rgba(0, 0, 0, 0.3));\n",
              "        fill: #FFFFFF;\n",
              "      }\n",
              "    </style>\n",
              "    <button class=\"colab-df-generate\" onclick=\"generateWithVariable('comparison_df_sorted')\"\n",
              "            title=\"Generate code using this dataframe.\"\n",
              "            style=\"display:none;\">\n",
              "\n",
              "  <svg xmlns=\"http://www.w3.org/2000/svg\" height=\"24px\"viewBox=\"0 0 24 24\"\n",
              "       width=\"24px\">\n",
              "    <path d=\"M7,19H8.4L18.45,9,17,7.55,7,17.6ZM5,21V16.75L18.45,3.32a2,2,0,0,1,2.83,0l1.4,1.43a1.91,1.91,0,0,1,.58,1.4,1.91,1.91,0,0,1-.58,1.4L9.25,21ZM18.45,9,17,7.55Zm-12,3A5.31,5.31,0,0,0,4.9,8.1,5.31,5.31,0,0,0,1,6.5,5.31,5.31,0,0,0,4.9,4.9,5.31,5.31,0,0,0,6.5,1,5.31,5.31,0,0,0,8.1,4.9,5.31,5.31,0,0,0,12,6.5,5.46,5.46,0,0,0,6.5,12Z\"/>\n",
              "  </svg>\n",
              "    </button>\n",
              "    <script>\n",
              "      (() => {\n",
              "      const buttonEl =\n",
              "        document.querySelector('#id_ea928679-d159-4873-9c18-eaf16799345b button.colab-df-generate');\n",
              "      buttonEl.style.display =\n",
              "        google.colab.kernel.accessAllowed ? 'block' : 'none';\n",
              "\n",
              "      buttonEl.onclick = () => {\n",
              "        google.colab.notebook.generateWithVariable('comparison_df_sorted');\n",
              "      }\n",
              "      })();\n",
              "    </script>\n",
              "  </div>\n",
              "\n",
              "    </div>\n",
              "  </div>\n"
            ],
            "application/vnd.google.colaboratory.intrinsic+json": {
              "type": "dataframe",
              "variable_name": "comparison_df_sorted",
              "summary": "{\n  \"name\": \"comparison_df_sorted\",\n  \"rows\": 3,\n  \"fields\": [\n    {\n      \"column\": \"Model\",\n      \"properties\": {\n        \"dtype\": \"string\",\n        \"num_unique_values\": 3,\n        \"samples\": [\n          \"TF-IDF + Random Forest\",\n          \"TF-IDF + Naive Bayes\",\n          \"CountVectorizer + Naive Bayes\"\n        ],\n        \"semantic_type\": \"\",\n        \"description\": \"\"\n      }\n    },\n    {\n      \"column\": \"Accuracy\",\n      \"properties\": {\n        \"dtype\": \"number\",\n        \"std\": 0.02924235927779213,\n        \"min\": 0.9341594692702466,\n        \"max\": 0.98685692827638,\n        \"num_unique_values\": 3,\n        \"samples\": [\n          0.98685692827638,\n          0.9385404931781199,\n          0.9341594692702466\n        ],\n        \"semantic_type\": \"\",\n        \"description\": \"\"\n      }\n    },\n    {\n      \"column\": \"Fake_Precision\",\n      \"properties\": {\n        \"dtype\": \"number\",\n        \"std\": 0.023974566965487706,\n        \"min\": 0.9464968152866242,\n        \"max\": 0.9894339622641509,\n        \"num_unique_values\": 3,\n        \"samples\": [\n          0.9894339622641509,\n          0.9464968152866242,\n          0.9494818652849741\n        ],\n        \"semantic_type\": \"\",\n        \"description\": \"\"\n      }\n    },\n    {\n      \"column\": \"Fake_Recall\",\n      \"properties\": {\n        \"dtype\": \"number\",\n        \"std\": 0.03566219725189904,\n        \"min\": 0.9171671671671672,\n        \"max\": 0.9842342342342343,\n        \"num_unique_values\": 3,\n        \"samples\": [\n          0.9842342342342343,\n          0.9296796796796797,\n          0.9171671671671672\n        ],\n        \"semantic_type\": \"\",\n        \"description\": \"\"\n      }\n    },\n    {\n      \"column\": \"Fake_F1-score\",\n      \"properties\": {\n        \"dtype\": \"number\",\n        \"std\": 0.029721136411312632,\n        \"min\": 0.9330448065173116,\n        \"max\": 0.9868272487768159,\n        \"num_unique_values\": 3,\n        \"samples\": [\n          0.9868272487768159,\n          0.9380128771619745,\n          0.9330448065173116\n        ],\n        \"semantic_type\": \"\",\n        \"description\": \"\"\n      }\n    },\n    {\n      \"column\": \"Real_Precision\",\n      \"properties\": {\n        \"dtype\": \"number\",\n        \"std\": 0.03448321016846214,\n        \"min\": 0.9198353112133688,\n        \"max\": 0.984304932735426,\n        \"num_unique_values\": 3,\n        \"samples\": [\n          0.984304932735426,\n          0.9308562992125984,\n          0.9198353112133688\n        ],\n        \"semantic_type\": \"\",\n        \"description\": \"\"\n      }\n    },\n    {\n      \"column\": \"Real_Recall\",\n      \"properties\": {\n        \"dtype\": \"number\",\n        \"std\": 0.023282678772605,\n        \"min\": 0.9474079639368895,\n        \"max\": 0.9894815927873779,\n        \"num_unique_values\": 3,\n        \"samples\": [\n          0.9894815927873779,\n          0.9474079639368895,\n          0.9511645379413974\n        ],\n        \"semantic_type\": \"\",\n        \"description\": \"\"\n      }\n    },\n    {\n      \"column\": \"Real_F1-score\",\n      \"properties\": {\n        \"dtype\": \"number\",\n        \"std\": 0.028779784081292045,\n        \"min\": 0.9352376262004433,\n        \"max\": 0.9868864743349569,\n        \"num_unique_values\": 3,\n        \"samples\": [\n          0.9868864743349569,\n          0.9390592031773612,\n          0.9352376262004433\n        ],\n        \"semantic_type\": \"\",\n        \"description\": \"\"\n      }\n    }\n  ]\n}"
            }
          },
          "metadata": {}
        }
      ]
    },
    {
      "cell_type": "code",
      "source": [],
      "metadata": {
        "id": "-DhbihAJzqf4"
      },
      "id": "-DhbihAJzqf4",
      "execution_count": null,
      "outputs": []
    },
    {
      "cell_type": "code",
      "source": [
        "# For CountVectorizer + Naive Bayes\n",
        "results = grid.cv_results_\n",
        "train_scores = results['mean_train_score']\n",
        "val_scores = results['mean_test_score']\n",
        "params = results['params']\n",
        "\n",
        "alpha_values = [p['alpha'] for p in params]\n",
        "\n",
        "plt.figure(figsize=(8, 5))\n",
        "plt.plot(alpha_values, train_scores, label='Training Accuracy', marker='o')\n",
        "plt.plot(alpha_values, val_scores, label='Validation Accuracy', marker='o')\n",
        "plt.xscale('log')\n",
        "plt.xlabel('Alpha (Smoothing Parameter)')\n",
        "plt.ylabel('Accuracy')\n",
        "plt.title('Training and Validation Accuracy vs. Alpha (CountVectorizer + Naive Bayes)')\n",
        "plt.legend()\n",
        "plt.grid(True, which=\"both\", linestyle='--', alpha=0.6)\n",
        "plt.show()\n",
        "\n",
        "# For TF-IDF + Random Forest\n",
        "# Calculate training accuracy\n",
        "y_train_pred_rf = rf_default.predict(X_train_tfidf)\n",
        "train_acc_rf = accuracy_score(y_train, y_train_pred_rf)\n",
        "\n",
        "# Calculate validation accuracy (already have this as acc_rf)\n",
        "val_acc_rf = acc_rf\n",
        "\n",
        "plt.figure(figsize=(6, 4))\n",
        "plt.bar(['Training Accuracy', 'Validation Accuracy'], [train_acc_rf, val_acc_rf], color=['blue', 'green'])\n",
        "plt.ylim(0.9, 1.0)\n",
        "plt.ylabel('Accuracy')\n",
        "plt.title('Training and Validation Accuracy (TF-IDF + Random Forest)')\n",
        "plt.show()\n",
        "\n",
        "# For TF-IDF + Naive Bayes\n",
        "# Calculate training accuracy\n",
        "y_train_pred_nb_tf = nb1_model_tf.predict(X_train_tfidf)\n",
        "train_acc_nb_tf = accuracy_score(y_train, y_train_pred_nb_tf)\n",
        "\n",
        "# Calculate validation accuracy (already have this as accuracy_score(y_test, pred1_tf))\n",
        "val_acc_nb_tf = accuracy_score(y_test, pred1_tf)\n",
        "\n",
        "plt.figure(figsize=(6, 4))\n",
        "plt.bar(['Training Accuracy', 'Validation Accuracy'], [train_acc_nb_tf, val_acc_nb_tf], color=['blue', 'green'])\n",
        "plt.ylim(0.9, 1.0)\n",
        "plt.ylabel('Accuracy')\n",
        "plt.title('Training and Validation Accuracy (TF-IDF + Naive Bayes)')\n",
        "plt.show()"
      ],
      "metadata": {
        "colab": {
          "base_uri": "https://localhost:8080/",
          "height": 1000
        },
        "id": "m82r1E-YugDe",
        "outputId": "4110b1d3-76dc-46e9-8283-44388864f939"
      },
      "id": "m82r1E-YugDe",
      "execution_count": 63,
      "outputs": [
        {
          "output_type": "display_data",
          "data": {
            "text/plain": [
              "<Figure size 800x500 with 1 Axes>"
            ],
            "image/png": "[encoded data removed]"
          },
          "metadata": {}
        },
        {
          "output_type": "display_data",
          "data": {
            "text/plain": [
              "<Figure size 600x400 with 1 Axes>"
            ],
            "image/png": "[encoded data removed]"
          },
          "metadata": {}
        },
        {
          "output_type": "display_data",
          "data": {
            "text/plain": [
              "<Figure size 600x400 with 1 Axes>"
            ],
            "image/png": "[encoded data removed]"
          },
          "metadata": {}
        }
      ]
    },
    {
      "cell_type": "code",
      "source": [],
      "metadata": {
        "id": "8sIXmDqyug8y"
      },
      "id": "8sIXmDqyug8y",
      "execution_count": null,
      "outputs": []
    },
    {
      "cell_type": "markdown",
      "source": [],
      "metadata": {
        "id": "Cnur2LNqy7M-"
      },
      "id": "Cnur2LNqy7M-"
    },
    {
      "cell_type": "code",
      "source": [
        "from sklearn.metrics import accuracy_score, f1_score\n",
        "import pandas as pd\n",
        "from IPython.display import display\n",
        "# Calculate metrics for each model (Training and Validation)\n",
        "\n",
        "# CountVectorizer + Naive Bayes (Default Alpha)\n",
        "y_train_pred_cv_nb_default = nb1.predict(X_train_cv)\n",
        "train_acc_cv_nb_default = accuracy_score(y_train, y_train_pred_cv_nb_default)\n",
        "train_f1_cv_nb_default = f1_score(y_train, y_train_pred_cv_nb_default, pos_label=positive_class_label)\n",
        "\n",
        "val_acc_cv_nb_default = accuracy_score(y_test, pred1)\n",
        "val_f1_cv_nb_default = f1_score(y_test, pred1, pos_label=positive_class_label)\n",
        "\n",
        "# CountVectorizer + Naive Bayes (Best Alpha)\n",
        "y_train_pred_cv_nb_best = best_nb.predict(X_train_cv)\n",
        "train_acc_cv_nb_best = accuracy_score(y_train, y_train_pred_cv_nb_best)\n",
        "train_f1_cv_nb_best = f1_score(y_train, y_train_pred_cv_nb_best, pos_label=positive_class_label)\n",
        "\n",
        "val_acc_cv_nb_best = accuracy_score(y_test, y_pred_best)\n",
        "val_f1_cv_nb_best = f1_score(y_test, y_pred_best, pos_label=positive_class_label)\n",
        "\n",
        "# TF-IDF + Random Forest\n",
        "y_train_pred_tfidf_rf = rf_default.predict(X_train_tfidf)\n",
        "train_acc_tfidf_rf = accuracy_score(y_train, y_train_pred_tfidf_rf)\n",
        "train_f1_tfidf_rf = f1_score(y_train, y_train_pred_tfidf_rf, pos_label=positive_class_label)\n",
        "\n",
        "val_acc_tfidf_rf = accuracy_score(y_test, y_pred_rf)\n",
        "val_f1_tfidf_rf = f1_score(y_test, y_pred_rf, pos_label=positive_class_label)\n",
        "\n",
        "# TF-IDF + Naive Bayes\n",
        "y_train_pred_tfidf_nb = nb1_model_tf.predict(X_train_tfidf)\n",
        "train_acc_tfidf_nb = accuracy_score(y_train, y_train_pred_tfidf_nb)\n",
        "train_f1_tfidf_nb = f1_score(y_train, y_train_pred_tfidf_nb, pos_label=positive_class_label)\n",
        "\n",
        "val_acc_tfidf_nb = accuracy_score(y_test, pred1_tf)\n",
        "val_f1_tfidf_nb = f1_score(y_test, pred1_tf, pos_label=positive_class_label)\n",
        "\n",
        "\n",
        "# Create a dictionary to hold the comparison data\n",
        "model_comparison_data = {\n",
        "    'Model': [\n",
        "        'CountVectorizer + Naive Bayes (Default Alpha)',\n",
        "        'CountVectorizer + Naive Bayes (Best Alpha)',\n",
        "        'TF-IDF + Random Forest',\n",
        "        'TF-IDF + Naive Bayes'\n",
        "    ],\n",
        "    'Training Accuracy': [\n",
        "        train_acc_cv_nb_default,\n",
        "        train_acc_cv_nb_best,\n",
        "        train_acc_tfidf_rf,\n",
        "        train_acc_tfidf_nb\n",
        "    ],\n",
        "    'Validation Accuracy': [\n",
        "        val_acc_cv_nb_default,\n",
        "        val_acc_cv_nb_best,\n",
        "        val_acc_tfidf_rf,\n",
        "        val_acc_tfidf_nb\n",
        "    ],\n",
        "     'Training F1 Score': [ # Simplified column name\n",
        "        train_f1_cv_nb_default,\n",
        "        train_f1_cv_nb_best,\n",
        "        train_f1_tfidf_rf,\n",
        "        train_f1_tfidf_nb\n",
        "    ],\n",
        "    'Validation F1 Score': [ # Simplified column name\n",
        "        val_f1_cv_nb_default,\n",
        "        val_f1_cv_nb_best,\n",
        "        val_f1_tfidf_rf,\n",
        "        val_f1_tfidf_nb\n",
        "    ]\n",
        "}\n",
        "\n",
        "# Create the pandas DataFrame\n",
        "comparison_df = pd.DataFrame(model_comparison_data)\n",
        "\n",
        "# Sort the DataFrame by Validation Accuracy in descending order\n",
        "comparison_df_sorted = comparison_df.sort_values(by='Validation Accuracy', ascending=False)\n",
        "\n",
        "# Display the sorted table\n",
        "print(\"Model Comparison (Training and Validation Metrics, Sorted by Validation Accuracy):\")\n",
        "display(comparison_df_sorted)"
      ],
      "metadata": {
        "colab": {
          "base_uri": "https://localhost:8080/",
          "height": 192
        },
        "id": "Tnil7qV72GEp",
        "outputId": "bd791ae2-9413-47fb-96a7-565a8087d81e"
      },
      "id": "Tnil7qV72GEp",
      "execution_count": 77,
      "outputs": [
        {
          "output_type": "stream",
          "name": "stdout",
          "text": [
            "Model Comparison (Training and Validation Metrics, Sorted by Validation Accuracy):\n"
          ]
        },
        {
          "output_type": "display_data",
          "data": {
            "text/plain": [
              "                                           Model  Training Accuracy  \\\n",
              "2                         TF-IDF + Random Forest           1.000000   \n",
              "1     CountVectorizer + Naive Bayes (Best Alpha)           0.964260   \n",
              "3                           TF-IDF + Naive Bayes           0.964385   \n",
              "0  CountVectorizer + Naive Bayes (Default Alpha)           0.946108   \n",
              "\n",
              "   Validation Accuracy  Training F1 Score  Validation F1 Score  \n",
              "2             0.986857           1.000000             0.986827  \n",
              "1             0.944549           0.963774             0.944143  \n",
              "3             0.938540           0.963944             0.938013  \n",
              "0             0.934159           0.944903             0.933045  "
            ],
            "text/html": [
              "\n",
              "  <div id=\"df-05d48259-90fa-4fd1-8a98-ac7dced7f769\" class=\"colab-df-container\">\n",
              "    <div>\n",
              "<style scoped>\n",
              "    .dataframe tbody tr th:only-of-type {\n",
              "        vertical-align: middle;\n",
              "    }\n",
              "\n",
              "    .dataframe tbody tr th {\n",
              "        vertical-align: top;\n",
              "    }\n",
              "\n",
              "    .dataframe thead th {\n",
              "        text-align: right;\n",
              "    }\n",
              "</style>\n",
              "<table border=\"1\" class=\"dataframe\">\n",
              "  <thead>\n",
              "    <tr style=\"text-align: right;\">\n",
              "      <th></th>\n",
              "      <th>Model</th>\n",
              "      <th>Training Accuracy</th>\n",
              "      <th>Validation Accuracy</th>\n",
              "      <th>Training F1 Score</th>\n",
              "      <th>Validation F1 Score</th>\n",
              "    </tr>\n",
              "  </thead>\n",
              "  <tbody>\n",
              "    <tr>\n",
              "      <th>2</th>\n",
              "      <td>TF-IDF + Random Forest</td>\n",
              "      <td>1.000000</td>\n",
              "      <td>0.986857</td>\n",
              "      <td>1.000000</td>\n",
              "      <td>0.986827</td>\n",
              "    </tr>\n",
              "    <tr>\n",
              "      <th>1</th>\n",
              "      <td>CountVectorizer + Naive Bayes (Best Alpha)</td>\n",
              "      <td>0.964260</td>\n",
              "      <td>0.944549</td>\n",
              "      <td>0.963774</td>\n",
              "      <td>0.944143</td>\n",
              "    </tr>\n",
              "    <tr>\n",
              "      <th>3</th>\n",
              "      <td>TF-IDF + Naive Bayes</td>\n",
              "      <td>0.964385</td>\n",
              "      <td>0.938540</td>\n",
              "      <td>0.963944</td>\n",
              "      <td>0.938013</td>\n",
              "    </tr>\n",
              "    <tr>\n",
              "      <th>0</th>\n",
              "      <td>CountVectorizer + Naive Bayes (Default Alpha)</td>\n",
              "      <td>0.946108</td>\n",
              "      <td>0.934159</td>\n",
              "      <td>0.944903</td>\n",
              "      <td>0.933045</td>\n",
              "    </tr>\n",
              "  </tbody>\n",
              "</table>\n",
              "</div>\n",
              "    <div class=\"colab-df-buttons\">\n",
              "\n",
              "  <div class=\"colab-df-container\">\n",
              "    <button class=\"colab-df-convert\" onclick=\"convertToInteractive('df-05d48259-90fa-4fd1-8a98-ac7dced7f769')\"\n",
              "            title=\"Convert this dataframe to an interactive table.\"\n",
              "            style=\"display:none;\">\n",
              "\n",
              "  <svg xmlns=\"http://www.w3.org/2000/svg\" height=\"24px\" viewBox=\"0 -960 960 960\">\n",
              "    <path d=\"M120-120v-720h720v720H120Zm60-500h600v-160H180v160Zm220 220h160v-160H400v160Zm0 220h160v-160H400v160ZM180-400h160v-160H180v160Zm440 0h160v-160H620v160ZM180-180h160v-160H180v160Zm440 0h160v-160H620v160Z\"/>\n",
              "  </svg>\n",
              "    </button>\n",
              "\n",
              "  <style>\n",
              "    .colab-df-container {\n",
              "      display:flex;\n",
              "      gap: 12px;\n",
              "    }\n",
              "\n",
              "    .colab-df-convert {\n",
              "      background-color: #E8F0FE;\n",
              "      border: none;\n",
              "      border-radius: 50%;\n",
              "      cursor: pointer;\n",
              "      display: none;\n",
              "      fill: #1967D2;\n",
              "      height: 32px;\n",
              "      padding: 0 0 0 0;\n",
              "      width: 32px;\n",
              "    }\n",
              "\n",
              "    .colab-df-convert:hover {\n",
              "      background-color: #E2EBFA;\n",
              "      box-shadow: 0px 1px 2px rgba(60, 64, 67, 0.3), 0px 1px 3px 1px rgba(60, 64, 67, 0.15);\n",
              "      fill: #174EA6;\n",
              "    }\n",
              "\n",
              "    .colab-df-buttons div {\n",
              "      margin-bottom: 4px;\n",
              "    }\n",
              "\n",
              "    [theme=dark] .colab-df-convert {\n",
              "      background-color: #3B4455;\n",
              "      fill: #D2E3FC;\n",
              "    }\n",
              "\n",
              "    [theme=dark] .colab-df-convert:hover {\n",
              "      background-color: #434B5C;\n",
              "      box-shadow: 0px 1px 3px 1px rgba(0, 0, 0, 0.15);\n",
              "      filter: drop-shadow(0px 1px 2px rgba(0, 0, 0, 0.3));\n",
              "      fill: #FFFFFF;\n",
              "    }\n",
              "  </style>\n",
              "\n",
              "    <script>\n",
              "      const buttonEl =\n",
              "        document.querySelector('#df-05d48259-90fa-4fd1-8a98-ac7dced7f769 button.colab-df-convert');\n",
              "      buttonEl.style.display =\n",
              "        google.colab.kernel.accessAllowed ? 'block' : 'none';\n",
              "\n",
              "      async function convertToInteractive(key) {\n",
              "        const element = document.querySelector('#df-05d48259-90fa-4fd1-8a98-ac7dced7f769');\n",
              "        const dataTable =\n",
              "          await google.colab.kernel.invokeFunction('convertToInteractive',\n",
              "                                                    [key], {});\n",
              "        if (!dataTable) return;\n",
              "\n",
              "        const docLinkHtml = 'Like what you see? Visit the ' +\n",
              "          '<a target=\"_blank\" href=https://colab.research.google.com/notebooks/data_table.ipynb>data table notebook</a>'\n",
              "          + ' to learn more about interactive tables.';\n",
              "        element.innerHTML = '';\n",
              "        dataTable['output_type'] = 'display_data';\n",
              "        await google.colab.output.renderOutput(dataTable, element);\n",
              "        const docLink = document.createElement('div');\n",
              "        docLink.innerHTML = docLinkHtml;\n",
              "        element.appendChild(docLink);\n",
              "      }\n",
              "    </script>\n",
              "  </div>\n",
              "\n",
              "\n",
              "    <div id=\"df-252713c7-e7db-4239-858d-61b63a74eee8\">\n",
              "      <button class=\"colab-df-quickchart\" onclick=\"quickchart('df-252713c7-e7db-4239-858d-61b63a74eee8')\"\n",
              "                title=\"Suggest charts\"\n",
              "                style=\"display:none;\">\n",
              "\n",
              "<svg xmlns=\"http://www.w3.org/2000/svg\" height=\"24px\"viewBox=\"0 0 24 24\"\n",
              "     width=\"24px\">\n",
              "    <g>\n",
              "        <path d=\"M19 3H5c-1.1 0-2 .9-2 2v14c0 1.1.9 2 2 2h14c1.1 0 2-.9 2-2V5c0-1.1-.9-2-2-2zM9 17H7v-7h2v7zm4 0h-2V7h2v10zm4 0h-2v-4h2v4z\"/>\n",
              "    </g>\n",
              "</svg>\n",
              "      </button>\n",
              "\n",
              "<style>\n",
              "  .colab-df-quickchart {\n",
              "      --bg-color: #E8F0FE;\n",
              "      --fill-color: #1967D2;\n",
              "      --hover-bg-color: #E2EBFA;\n",
              "      --hover-fill-color: #174EA6;\n",
              "      --disabled-fill-color: #AAA;\n",
              "      --disabled-bg-color: #DDD;\n",
              "  }\n",
              "\n",
              "  [theme=dark] .colab-df-quickchart {\n",
              "      --bg-color: #3B4455;\n",
              "      --fill-color: #D2E3FC;\n",
              "      --hover-bg-color: #434B5C;\n",
              "      --hover-fill-color: #FFFFFF;\n",
              "      --disabled-bg-color: #3B4455;\n",
              "      --disabled-fill-color: #666;\n",
              "  }\n",
              "\n",
              "  .colab-df-quickchart {\n",
              "    background-color: var(--bg-color);\n",
              "    border: none;\n",
              "    border-radius: 50%;\n",
              "    cursor: pointer;\n",
              "    display: none;\n",
              "    fill: var(--fill-color);\n",
              "    height: 32px;\n",
              "    padding: 0;\n",
              "    width: 32px;\n",
              "  }\n",
              "\n",
              "  .colab-df-quickchart:hover {\n",
              "    background-color: var(--hover-bg-color);\n",
              "    box-shadow: 0 1px 2px rgba(60, 64, 67, 0.3), 0 1px 3px 1px rgba(60, 64, 67, 0.15);\n",
              "    fill: var(--button-hover-fill-color);\n",
              "  }\n",
              "\n",
              "  .colab-df-quickchart-complete:disabled,\n",
              "  .colab-df-quickchart-complete:disabled:hover {\n",
              "    background-color: var(--disabled-bg-color);\n",
              "    fill: var(--disabled-fill-color);\n",
              "    box-shadow: none;\n",
              "  }\n",
              "\n",
              "  .colab-df-spinner {\n",
              "    border: 2px solid var(--fill-color);\n",
              "    border-color: transparent;\n",
              "    border-bottom-color: var(--fill-color);\n",
              "    animation:\n",
              "      spin 1s steps(1) infinite;\n",
              "  }\n",
              "\n",
              "  @keyframes spin {\n",
              "    0% {\n",
              "      border-color: transparent;\n",
              "      border-bottom-color: var(--fill-color);\n",
              "      border-left-color: var(--fill-color);\n",
              "    }\n",
              "    20% {\n",
              "      border-color: transparent;\n",
              "      border-left-color: var(--fill-color);\n",
              "      border-top-color: var(--fill-color);\n",
              "    }\n",
              "    30% {\n",
              "      border-color: transparent;\n",
              "      border-left-color: var(--fill-color);\n",
              "      border-top-color: var(--fill-color);\n",
              "      border-right-color: var(--fill-color);\n",
              "    }\n",
              "    40% {\n",
              "      border-color: transparent;\n",
              "      border-right-color: var(--fill-color);\n",
              "      border-top-color: var(--fill-color);\n",
              "    }\n",
              "    60% {\n",
              "      border-color: transparent;\n",
              "      border-right-color: var(--fill-color);\n",
              "    }\n",
              "    80% {\n",
              "      border-color: transparent;\n",
              "      border-right-color: var(--fill-color);\n",
              "      border-bottom-color: var(--fill-color);\n",
              "    }\n",
              "    90% {\n",
              "      border-color: transparent;\n",
              "      border-bottom-color: var(--fill-color);\n",
              "    }\n",
              "  }\n",
              "</style>\n",
              "\n",
              "      <script>\n",
              "        async function quickchart(key) {\n",
              "          const quickchartButtonEl =\n",
              "            document.querySelector('#' + key + ' button');\n",
              "          quickchartButtonEl.disabled = true;  // To prevent multiple clicks.\n",
              "          quickchartButtonEl.classList.add('colab-df-spinner');\n",
              "          try {\n",
              "            const charts = await google.colab.kernel.invokeFunction(\n",
              "                'suggestCharts', [key], {});\n",
              "          } catch (error) {\n",
              "            console.error('Error during call to suggestCharts:', error);\n",
              "          }\n",
              "          quickchartButtonEl.classList.remove('colab-df-spinner');\n",
              "          quickchartButtonEl.classList.add('colab-df-quickchart-complete');\n",
              "        }\n",
              "        (() => {\n",
              "          let quickchartButtonEl =\n",
              "            document.querySelector('#df-252713c7-e7db-4239-858d-61b63a74eee8 button');\n",
              "          quickchartButtonEl.style.display =\n",
              "            google.colab.kernel.accessAllowed ? 'block' : 'none';\n",
              "        })();\n",
              "      </script>\n",
              "    </div>\n",
              "\n",
              "  <div id=\"id_8f38df97-0702-4b8c-92fa-78f1a764c90a\">\n",
              "    <style>\n",
              "      .colab-df-generate {\n",
              "        background-color: #E8F0FE;\n",
              "        border: none;\n",
              "        border-radius: 50%;\n",
              "        cursor: pointer;\n",
              "        display: none;\n",
              "        fill: #1967D2;\n",
              "        height: 32px;\n",
              "        padding: 0 0 0 0;\n",
              "        width: 32px;\n",
              "      }\n",
              "\n",
              "      .colab-df-generate:hover {\n",
              "        background-color: #E2EBFA;\n",
              "        box-shadow: 0px 1px 2px rgba(60, 64, 67, 0.3), 0px 1px 3px 1px rgba(60, 64, 67, 0.15);\n",
              "        fill: #174EA6;\n",
              "      }\n",
              "\n",
              "      [theme=dark] .colab-df-generate {\n",
              "        background-color: #3B4455;\n",
              "        fill: #D2E3FC;\n",
              "      }\n",
              "\n",
              "      [theme=dark] .colab-df-generate:hover {\n",
              "        background-color: #434B5C;\n",
              "        box-shadow: 0px 1px 3px 1px rgba(0, 0, 0, 0.15);\n",
              "        filter: drop-shadow(0px 1px 2px rgba(0, 0, 0, 0.3));\n",
              "        fill: #FFFFFF;\n",
              "      }\n",
              "    </style>\n",
              "    <button class=\"colab-df-generate\" onclick=\"generateWithVariable('comparison_df_sorted')\"\n",
              "            title=\"Generate code using this dataframe.\"\n",
              "            style=\"display:none;\">\n",
              "\n",
              "  <svg xmlns=\"http://www.w3.org/2000/svg\" height=\"24px\"viewBox=\"0 0 24 24\"\n",
              "       width=\"24px\">\n",
              "    <path d=\"M7,19H8.4L18.45,9,17,7.55,7,17.6ZM5,21V16.75L18.45,3.32a2,2,0,0,1,2.83,0l1.4,1.43a1.91,1.91,0,0,1,.58,1.4,1.91,1.91,0,0,1-.58,1.4L9.25,21ZM18.45,9,17,7.55Zm-12,3A5.31,5.31,0,0,0,4.9,8.1,5.31,5.31,0,0,0,1,6.5,5.31,5.31,0,0,0,4.9,4.9,5.31,5.31,0,0,0,6.5,1,5.31,5.31,0,0,0,8.1,4.9,5.31,5.31,0,0,0,12,6.5,5.46,5.46,0,0,0,6.5,12Z\"/>\n",
              "  </svg>\n",
              "    </button>\n",
              "    <script>\n",
              "      (() => {\n",
              "      const buttonEl =\n",
              "        document.querySelector('#id_8f38df97-0702-4b8c-92fa-78f1a764c90a button.colab-df-generate');\n",
              "      buttonEl.style.display =\n",
              "        google.colab.kernel.accessAllowed ? 'block' : 'none';\n",
              "\n",
              "      buttonEl.onclick = () => {\n",
              "        google.colab.notebook.generateWithVariable('comparison_df_sorted');\n",
              "      }\n",
              "      })();\n",
              "    </script>\n",
              "  </div>\n",
              "\n",
              "    </div>\n",
              "  </div>\n"
            ],
            "application/vnd.google.colaboratory.intrinsic+json": {
              "type": "dataframe",
              "variable_name": "comparison_df_sorted",
              "summary": "{\n  \"name\": \"comparison_df_sorted\",\n  \"rows\": 4,\n  \"fields\": [\n    {\n      \"column\": \"Model\",\n      \"properties\": {\n        \"dtype\": \"string\",\n        \"num_unique_values\": 4,\n        \"samples\": [\n          \"CountVectorizer + Naive Bayes (Best Alpha)\",\n          \"CountVectorizer + Naive Bayes (Default Alpha)\",\n          \"TF-IDF + Random Forest\"\n        ],\n        \"semantic_type\": \"\",\n        \"description\": \"\"\n      }\n    },\n    {\n      \"column\": \"Training Accuracy\",\n      \"properties\": {\n        \"dtype\": \"number\",\n        \"std\": 0.022571393251960097,\n        \"min\": 0.9461083466341189,\n        \"max\": 1.0,\n        \"num_unique_values\": 4,\n        \"samples\": [\n          0.9642600068851125,\n          0.9461083466341189,\n          1.0\n        ],\n        \"semantic_type\": \"\",\n        \"description\": \"\"\n      }\n    },\n    {\n      \"column\": \"Validation Accuracy\",\n      \"properties\": {\n        \"dtype\": \"number\",\n        \"std\": 0.024263675653872094,\n        \"min\": 0.9341594692702466,\n        \"max\": 0.98685692827638,\n        \"num_unique_values\": 4,\n        \"samples\": [\n          0.9445487545374891,\n          0.9341594692702466,\n          0.98685692827638\n        ],\n        \"semantic_type\": \"\",\n        \"description\": \"\"\n      }\n    },\n    {\n      \"column\": \"Training F1 Score\",\n      \"properties\": {\n        \"dtype\": \"number\",\n        \"std\": 0.023033932448961274,\n        \"min\": 0.9449030524092916,\n        \"max\": 1.0,\n        \"num_unique_values\": 4,\n        \"samples\": [\n          0.9637736327877173,\n          0.9449030524092916,\n          1.0\n        ],\n        \"semantic_type\": \"\",\n        \"description\": \"\"\n      }\n    },\n    {\n      \"column\": \"Validation F1 Score\",\n      \"properties\": {\n        \"dtype\": \"number\",\n        \"std\": 0.024635267928568863,\n        \"min\": 0.9330448065173116,\n        \"max\": 0.9868272487768159,\n        \"num_unique_values\": 4,\n        \"samples\": [\n          0.9441432354053714,\n          0.9330448065173116,\n          0.9868272487768159\n        ],\n        \"semantic_type\": \"\",\n        \"description\": \"\"\n      }\n    }\n  ]\n}"
            }
          },
          "metadata": {}
        }
      ]
    },
    {
      "cell_type": "markdown",
      "source": [
        "##Summary\n",
        "\n",
        "\n",
        "\n"
      ],
      "metadata": {
        "id": "XqQ_57Pc3kSd"
      },
      "id": "XqQ_57Pc3kSd"
    },
    {
      "cell_type": "markdown",
      "source": [
        "The notebook focuses on building and comparing different machine learning models for fake news detection. The workflow involves:\n",
        "\n",
        "Data Loading and Preprocessing: Loading the data, dropping irrelevant columns ('title', 'subject', 'date'), checking for class balance (which appears balanced), and handling null values (none found). A text preprocessing pipeline is implemented to tokenize, remove stopwords, remove punctuation and numbers, and lemmatize the text data.\n",
        "Feature Extraction: Two methods are used: CountVectorizer (Bag of Words) and TF-IDF Vectorizer.\n",
        "Model Development and Evaluation: Three models are built and evaluated:\\\n",
        "countVectorizer + Naive Bayes (both with default alpha and tuned alpha using GridSearchCV).\n",
        "TF-IDF + Random Forest (using default parameters).\n",
        "TF-IDF + Naive Bayes (using the best alpha found for the CountVectorizer + Naive Bayes model).\n",
        "Model Comparison: The models are compared based on accuracy, precision, recall, and F1-score on the test set, presented in a table. Visualizations of confusion matrices and accuracy/F1 score comparisons are also included.\n"
      ],
      "metadata": {
        "id": "IX9yWSTk3Sbw"
      },
      "id": "IX9yWSTk3Sbw"
    },
    {
      "cell_type": "markdown",
      "source": [
        "## Conclusion and Model Choice"
      ],
      "metadata": {
        "id": "o34pWDKY4Xn5"
      },
      "id": "o34pWDKY4Xn5"
    },
    {
      "cell_type": "markdown",
      "source": [
        "To determine the best model, we should consider both training and validation metrics, focusing on the model that performs well on unseen data (validation set) and shows a good balance between precision and recall (often indicated by the F1-score), especially for both classes ('fake' and 'real').\n",
        "\n",
        "Looking at the \"Model Comparison (Training and Validation Metrics, Sorted by Validation Accuracy)\" table you generated:\n",
        "\n",
        "The \"TF-IDF + Random Forest\" model demonstrates the highest Validation Accuracy and Validation F1 Score among the models evaluated. While the training accuracy for Random Forest is very high (indicating potential overfitting), the validation accuracy and F1 score are also strong and are the best on the unseen test data.\n",
        "\n",
        "The Naive Bayes models, both with CountVectorizer and TF-IDF, perform slightly worse on the validation set compared to Random Forest. Hyperparameter tuning for the CountVectorizer + Naive Bayes model did improve its performance compared to the default alpha, but it still lags behind the Random Forest model."
      ],
      "metadata": {
        "id": "0iBRqJgJ3cGy"
      },
      "id": "0iBRqJgJ3cGy"
    },
    {
      "cell_type": "markdown",
      "source": [
        "#Saving Model (TF-IDF and Random Forest)"
      ],
      "metadata": {
        "id": "gwO65NRu6j7E"
      },
      "id": "gwO65NRu6j7E"
    },
    {
      "cell_type": "markdown",
      "source": [
        "Save the trained TF-IDF vectorizer and Random Forest model to disk using pickle, and download them to y local machine for future use (e.g., in another Colab notebook).\n"
      ],
      "metadata": {
        "id": "5_2PycXd6RrH"
      },
      "id": "5_2PycXd6RrH"
    },
    {
      "cell_type": "code",
      "source": [
        "import pickle\n",
        "from google.colab import files\n",
        "\n",
        "# Define filenames for your objects\n",
        "tfidf_filename = 'tfidf_vectorizer.pkl'\n",
        "model_filename = 'random_forest_model.pkl'\n",
        "\n",
        "# Save the TF-IDF vectorizer\n",
        "with open(tfidf_filename, 'wb') as file:\n",
        "    pickle.dump(tfidf_vectorizer, file)\n",
        "\n",
        "# Save the trained Random Forest model\n",
        "with open(model_filename, 'wb') as file:\n",
        "    pickle.dump(rf_default, file)\n",
        "\n",
        "# Download both files\n",
        "files.download(tfidf_filename)\n",
        "files.download(model_filename)"
      ],
      "metadata": {
        "colab": {
          "base_uri": "https://localhost:8080/",
          "height": 17
        },
        "id": "yBrl6RFp50mB",
        "outputId": "fe563a74-5804-4135-ab9e-d68d2a76efb9"
      },
      "id": "yBrl6RFp50mB",
      "execution_count": 78,
      "outputs": [
        {
          "output_type": "display_data",
          "data": {
            "text/plain": [
              "<IPython.core.display.Javascript object>"
            ],
            "application/javascript": [
              "\n",
              "    async function download(id, filename, size) {\n",
              "      if (!google.colab.kernel.accessAllowed) {\n",
              "        return;\n",
              "      }\n",
              "      const div = document.createElement('div');\n",
              "      const label = document.createElement('label');\n",
              "      label.textContent = `Downloading \"${filename}\": `;\n",
              "      div.appendChild(label);\n",
              "      const progress = document.createElement('progress');\n",
              "      progress.max = size;\n",
              "      div.appendChild(progress);\n",
              "      document.body.appendChild(div);\n",
              "\n",
              "      const buffers = [];\n",
              "      let downloaded = 0;\n",
              "\n",
              "      const channel = await google.colab.kernel.comms.open(id);\n",
              "      // Send a message to notify the kernel that we're ready.\n",
              "      channel.send({})\n",
              "\n",
              "      for await (const message of channel.messages) {\n",
              "        // Send a message to notify the kernel that we're ready.\n",
              "        channel.send({})\n",
              "        if (message.buffers) {\n",
              "          for (const buffer of message.buffers) {\n",
              "            buffers.push(buffer);\n",
              "            downloaded += buffer.byteLength;\n",
              "            progress.value = downloaded;\n",
              "          }\n",
              "        }\n",
              "      }\n",
              "      const blob = new Blob(buffers, {type: 'application/binary'});\n",
              "      const a = document.createElement('a');\n",
              "      a.href = window.URL.createObjectURL(blob);\n",
              "      a.download = filename;\n",
              "      div.appendChild(a);\n",
              "      a.click();\n",
              "      div.remove();\n",
              "    }\n",
              "  "
            ]
          },
          "metadata": {}
        },
        {
          "output_type": "display_data",
          "data": {
            "text/plain": [
              "<IPython.core.display.Javascript object>"
            ],
            "application/javascript": [
              "download(\"download_a97723a7-b80b-4000-90fa-47565b10d3a7\", \"tfidf_vectorizer.pkl\", 3858855)"
            ]
          },
          "metadata": {}
        },
        {
          "output_type": "display_data",
          "data": {
            "text/plain": [
              "<IPython.core.display.Javascript object>"
            ],
            "application/javascript": [
              "\n",
              "    async function download(id, filename, size) {\n",
              "      if (!google.colab.kernel.accessAllowed) {\n",
              "        return;\n",
              "      }\n",
              "      const div = document.createElement('div');\n",
              "      const label = document.createElement('label');\n",
              "      label.textContent = `Downloading \"${filename}\": `;\n",
              "      div.appendChild(label);\n",
              "      const progress = document.createElement('progress');\n",
              "      progress.max = size;\n",
              "      div.appendChild(progress);\n",
              "      document.body.appendChild(div);\n",
              "\n",
              "      const buffers = [];\n",
              "      let downloaded = 0;\n",
              "\n",
              "      const channel = await google.colab.kernel.comms.open(id);\n",
              "      // Send a message to notify the kernel that we're ready.\n",
              "      channel.send({})\n",
              "\n",
              "      for await (const message of channel.messages) {\n",
              "        // Send a message to notify the kernel that we're ready.\n",
              "        channel.send({})\n",
              "        if (message.buffers) {\n",
              "          for (const buffer of message.buffers) {\n",
              "            buffers.push(buffer);\n",
              "            downloaded += buffer.byteLength;\n",
              "            progress.value = downloaded;\n",
              "          }\n",
              "        }\n",
              "      }\n",
              "      const blob = new Blob(buffers, {type: 'application/binary'});\n",
              "      const a = document.createElement('a');\n",
              "      a.href = window.URL.createObjectURL(blob);\n",
              "      a.download = filename;\n",
              "      div.appendChild(a);\n",
              "      a.click();\n",
              "      div.remove();\n",
              "    }\n",
              "  "
            ]
          },
          "metadata": {}
        },
        {
          "output_type": "display_data",
          "data": {
            "text/plain": [
              "<IPython.core.display.Javascript object>"
            ],
            "application/javascript": [
              "download(\"download_5dc6d0dd-9ecf-46eb-93ac-cf8df9f2cabc\", \"random_forest_model.pkl\", 74006848)"
            ]
          },
          "metadata": {}
        }
      ]
    }
  ],
  "metadata": {
    "kernelspec": {
      "display_name": "Python 3",
      "language": "python",
      "name": "python3"
    },
    "language_info": {
      "codemirror_mode": {
        "name": "ipython",
        "version": 3
      },
      "file_extension": ".py",
      "mimetype": "text/x-python",
      "name": "python",
      "nbconvert_exporter": "python",
      "pygments_lexer": "ipython3",
      "version": "3.11.5"
    },
    "colab": {
      "provenance": []
    }
  },
  "nbformat": 4,
  "nbformat_minor": 5
}